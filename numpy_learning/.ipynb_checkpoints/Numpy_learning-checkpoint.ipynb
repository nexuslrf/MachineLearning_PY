{
 "cells": [
  {
   "cell_type": "code",
   "execution_count": 22,
   "metadata": {},
   "outputs": [
    {
     "name": "stdout",
     "output_type": "stream",
     "text": [
      "[[1 2 3]\n",
      " [2 3 4]]\n",
      "number of dim: 2\n",
      "shape:  (2L, 3L)\n",
      "size:  6\n"
     ]
    }
   ],
   "source": [
    "# -*- utf-8 -*-\n",
    "import numpy as np\n",
    "array = np.array([[1,2,3],\n",
    "                 [2,3,4]])\n",
    "print array\n",
    "print \"number of dim:\",array.ndim\n",
    "print \"shape: \",array.shape\n",
    "print \"size: \",array.size"
   ]
  },
  {
   "cell_type": "code",
   "execution_count": 18,
   "metadata": {},
   "outputs": [
    {
     "name": "stdout",
     "output_type": "stream",
     "text": [
      "[[1 1]\n",
      " [1 1]]\n",
      "[[ 0.  0.  0.  0.]\n",
      " [ 0.  0.  0.  0.]\n",
      " [ 0.  0.  0.  0.]]\n",
      "[[ 0.  0.  0.]\n",
      " [ 0.  0.  0.]\n",
      " [ 0.  0.  0.]\n",
      " [ 0.  0.  0.]]\n",
      "int32\n"
     ]
    }
   ],
   "source": [
    "#construct array\n",
    "\n",
    "a = np.array([2,23,4],dtype=np.int) #dtype: np.int32 .int64 .float32 .float64 etc\n",
    "I = np.ones((2,2),dtype=int)\n",
    "Null = np.zeros((3,4),dtype=float)\n",
    "Empty = np.empty((4,3),dtype=np.float64)\n",
    "print I\n",
    "print Null\n",
    "print Empty\n",
    "# print a.dtype"
   ]
  },
  {
   "cell_type": "code",
   "execution_count": 23,
   "metadata": {},
   "outputs": [
    {
     "name": "stdout",
     "output_type": "stream",
     "text": [
      "[10 12 14 16 18]\n",
      "[[ 0  1  2  3]\n",
      " [ 4  5  6  7]\n",
      " [ 8  9 10 11]]\n",
      "[  1.   4.   7.  10.]\n"
     ]
    }
   ],
   "source": [
    "#arange() linspace() reshape()\n",
    "print np.arange(10,20,2)\n",
    "print np.arange(12).reshape((3,4))\n",
    "print np.linspace(1,10,4)  #[1,10] 均分出4个data point"
   ]
  },
  {
   "cell_type": "code",
   "execution_count": 26,
   "metadata": {},
   "outputs": [
    {
     "name": "stdout",
     "output_type": "stream",
     "text": [
      "[10 19 28 37]\n",
      "[0 1 4 9]\n",
      "[ True  True  True False]\n"
     ]
    }
   ],
   "source": [
    "#computation\n",
    "a = np.array([10,20,30,40])\n",
    "b = np.arange(4)\n",
    "\n",
    "c = a-b\n",
    "print c\n",
    "print b**2\n",
    "print b<3"
   ]
  },
  {
   "cell_type": "code",
   "execution_count": 29,
   "metadata": {},
   "outputs": [
    {
     "name": "stdout",
     "output_type": "stream",
     "text": [
      "[[0 1]\n",
      " [0 3]]\n",
      "[[2 4]\n",
      " [2 3]]\n"
     ]
    }
   ],
   "source": [
    "#matrice computation\n",
    "a = np.array([[1,1],\n",
    "              [0,1]])\n",
    "b = np.arange(4).reshape((2,2))\n",
    "#[[0,1],\n",
    "# [2,3]]\n",
    "c = a*b #对应位置相乘\n",
    "c_dot = np.dot(a,b) #矩阵乘法\n",
    "# c_dot = a.dot(b) also OK!\n",
    "\n",
    "print c\n",
    "print c_dot\n"
   ]
  },
  {
   "cell_type": "code",
   "execution_count": 44,
   "metadata": {},
   "outputs": [
    {
     "name": "stdout",
     "output_type": "stream",
     "text": [
      "[[ 0.03810348  0.58706234  0.68400818  0.06696454]\n",
      " [ 0.50644233  0.86141756  0.6120923   0.42011637]]\n",
      "\n",
      "[[0 1]\n",
      " [2 3]]\n",
      "6\n",
      "1.5\n",
      "[ 1.  2.]\n",
      "[ 0.5  2.5]\n",
      "1.5\n",
      "[0 1 3 6]\n",
      "[[1]\n",
      " [1]]\n",
      "0 0\n",
      "3 3\n",
      "(array([0, 1, 1], dtype=int64), array([1, 0, 1], dtype=int64))\n",
      "[[ 0.03810348  0.06696454  0.58706234  0.68400818]\n",
      " [ 0.42011637  0.50644233  0.6120923   0.86141756]]\n",
      "[[0 2]\n",
      " [1 3]]\n"
     ]
    }
   ],
   "source": [
    "a = np.random.random((2,4)) #[0,1] 的随机数\n",
    "print a\n",
    "print \n",
    "print b\n",
    "print np.sum(b)\n",
    "\n",
    "print np.mean(b)\n",
    "# for Bij: axis=n 是保持有最内层往外数的第n层的向量 （n starts at 0） \n",
    "print np.mean(b,axis=0)\n",
    "print np.mean(b,axis=1)\n",
    "\n",
    "print np.median(b)\n",
    "\n",
    "print np.cumsum(b) #累加\n",
    "print np.diff(b) #累差 同一行相邻两个数的差\n",
    "\n",
    "print np.min(b), np.argmin(b) #arg 是索引\n",
    "print np.max(b), np.argmax(b)\n",
    "\n",
    "print np.nonzero(b) # output indice in n dim's array\n",
    "print np.sort(a) #逐行排序\n",
    "\n",
    "print b.T  # np.transpose(b) also ok!\n",
    "\n"
   ]
  },
  {
   "cell_type": "code",
   "execution_count": 37,
   "metadata": {},
   "outputs": [
    {
     "name": "stdout",
     "output_type": "stream",
     "text": [
      "Help on function argmin in module numpy.core.fromnumeric:\n",
      "\n",
      "argmin(a, axis=None, out=None)\n",
      "    Returns the indices of the minimum values along an axis.\n",
      "    \n",
      "    Parameters\n",
      "    ----------\n",
      "    a : array_like\n",
      "        Input array.\n",
      "    axis : int, optional\n",
      "        By default, the index is into the flattened array, otherwise\n",
      "        along the specified axis.\n",
      "    out : array, optional\n",
      "        If provided, the result will be inserted into this array. It should\n",
      "        be of the appropriate shape and dtype.\n",
      "    \n",
      "    Returns\n",
      "    -------\n",
      "    index_array : ndarray of ints\n",
      "        Array of indices into the array. It has the same shape as `a.shape`\n",
      "        with the dimension along `axis` removed.\n",
      "    \n",
      "    See Also\n",
      "    --------\n",
      "    ndarray.argmin, argmax\n",
      "    amin : The minimum value along a given axis.\n",
      "    unravel_index : Convert a flat index into an index tuple.\n",
      "    \n",
      "    Notes\n",
      "    -----\n",
      "    In case of multiple occurrences of the minimum values, the indices\n",
      "    corresponding to the first occurrence are returned.\n",
      "    \n",
      "    Examples\n",
      "    --------\n",
      "    >>> a = np.arange(6).reshape(2,3)\n",
      "    >>> a\n",
      "    array([[0, 1, 2],\n",
      "           [3, 4, 5]])\n",
      "    >>> np.argmin(a)\n",
      "    0\n",
      "    >>> np.argmin(a, axis=0)\n",
      "    array([0, 0, 0])\n",
      "    >>> np.argmin(a, axis=1)\n",
      "    array([0, 0])\n",
      "    \n",
      "    >>> b = np.arange(6)\n",
      "    >>> b[4] = 0\n",
      "    >>> b\n",
      "    array([0, 1, 2, 3, 0, 5])\n",
      "    >>> np.argmin(b) # Only the first occurrence is returned.\n",
      "    0\n",
      "\n"
     ]
    }
   ],
   "source": [
    "help(np.argmin)"
   ]
  }
 ],
 "metadata": {
  "kernelspec": {
   "display_name": "Python 2",
   "language": "python",
   "name": "python2"
  },
  "language_info": {
   "codemirror_mode": {
    "name": "ipython",
    "version": 2
   },
   "file_extension": ".py",
   "mimetype": "text/x-python",
   "name": "python",
   "nbconvert_exporter": "python",
   "pygments_lexer": "ipython2",
   "version": "2.7.13"
  }
 },
 "nbformat": 4,
 "nbformat_minor": 2
}
