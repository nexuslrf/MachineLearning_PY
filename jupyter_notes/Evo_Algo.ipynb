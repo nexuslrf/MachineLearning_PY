{
 "cells": [
  {
   "cell_type": "code",
   "execution_count": 3,
   "metadata": {
    "collapsed": true
   },
   "outputs": [],
   "source": [
    "import numpy as np\n",
    "import matplotlib.pyplot as plt"
   ]
  },
  {
   "cell_type": "markdown",
   "metadata": {},
   "source": [
    "# Evolutionary Algorithm\n",
    "Very NB, in my view"
   ]
  },
  {
   "cell_type": "markdown",
   "metadata": {},
   "source": [
    "## Genetic Algo\n",
    "* [什么是遗传算法](什么是遗传算法)\n",
    "![img](https://morvanzhou.github.io/static/results/evolutionary-algorithm/2-1-0.gif)\n"
   ]
  },
  {
   "cell_type": "markdown",
   "metadata": {},
   "source": [
    "* **fitness Function**\n",
    "\n",
    "所有的遗传算法 (Genetic Algorithm), 后面都简称 GA, 我们都需要一个评估好坏的方程, 这个方程通常被称为 fitness. 在今天的问题中, 我们找到下面这个曲线当中的最高点. 那么这个 fitness 方程就很好定, 越高的点, fitness 越高.\n",
    "\n",
    "如果这个曲线上任一点的 y 值是 pred 的话, 我们的 fitness 就是下面这样:"
   ]
  },
  {
   "cell_type": "code",
   "execution_count": 8,
   "metadata": {
    "collapsed": true
   },
   "outputs": [],
   "source": [
    "# find non-zero fitness for selection\n",
    "def get_fitness(pred): return pred + 1e-3 - np.min(pred)"
   ]
  },
  {
   "cell_type": "markdown",
   "metadata": {},
   "source": [
    "* **DNA coding**\n",
    "\n",
    "在 GA 中有基因, 为了方便, 我们直接就称为 DNA 吧. GA 中第二重要的就是这 DNA 了, 如何编码和解码 DNA, 就是你使用 GA 首先要想到的问题. 传统的 GA 中, DNA 我们能用一串二进制来表示, 比如:\n",
    "```python\n",
    "DNA1 = [1, 1, 0, 1, 0, 0, 1]\n",
    "DNA2 = [1, 0, 1, 1, 0, 1, 1]\n",
    "```\n",
    "但是长成这样的 DNA 并不好使用. 如果要将它解码, 我们可以将二进制转换成十进制, 比如二进制的 11 就是十进制的 3. 这种转换的步骤在程序中很好执行. 但是有时候我们会需要精确到小数, 其实也很简单, 只要再将十进制的数浓缩一下就好. 比如我有 1111 这么长的 DNA, 我们产生的十进制数范围是 [0, 15], 而我需要的范围是 [-1, 1], 我们就将 [0, 15] 缩放到 [-1, 1] 这个范围就好."
   ]
  },
  {
   "cell_type": "code",
   "execution_count": 3,
   "metadata": {
    "collapsed": true
   },
   "outputs": [],
   "source": [
    "def translateDNA(pop):\n",
    "    return pop.dot(2 ** np.arange(DNA_SIZE)[::-1]) / float(2**DNA_SIZE-1) * X_BOUND[1]\n",
    "# >>> 2**np.arange(4)\n",
    "# array([1, 2, 4, 8], dtype=int32)\n",
    "# >>> 2**np.arange(4)[::-1]\n",
    "# array([8, 4, 2, 1], dtype=int32)\n",
    "# >>> "
   ]
  },
  {
   "cell_type": "markdown",
   "metadata": {},
   "source": [
    "注意, 这里的 pop 是一个储存二进制 DNA 的矩阵, 他的 shape 是这样 (pop_size, DNA_size)."
   ]
  },
  {
   "cell_type": "markdown",
   "metadata": {},
   "source": [
    "* **进化啦~**\n",
    "\n",
    "进化分三步：\n",
    "1. 适者生存(selection)\n",
    "2. DNA交叉配对(cross over)\n",
    "3. DNA变异(mutation)"
   ]
  },
  {
   "cell_type": "markdown",
   "metadata": {},
   "source": [
    "select()很简单, 我们只要按照适应程度 fitness 来选 pop 中的 parent 就好. fitness 越大, 越有可能被选到."
   ]
  },
  {
   "cell_type": "code",
   "execution_count": 4,
   "metadata": {
    "collapsed": true
   },
   "outputs": [],
   "source": [
    "def select(pop,fitness):\n",
    "    idx = np.random.choice(np.arange(POP_SIZE),size=POP_SIZE,replace=True,\n",
    "                           p=fitness/fitness.sum()) #p 是选他的比例\n",
    "             #replace=T means allow repeated elements\n",
    "    return pop[idx]"
   ]
  },
  {
   "cell_type": "markdown",
   "metadata": {},
   "source": [
    "接下来进行交叉配对. 方式很简单. 比如这两个 DNA, Y 的点我们取 DNA1 中的元素, N 的点取 DNA2 中的. 生成的 DNA3 就有来自父母的基因了.\n",
    "```python\n",
    "DNA1 = [1, 1, 0, 1, 0, 0, 1]\n",
    "       [Y, N, Y, N, N, Y, N]\n",
    "DNA2 = [1, 0, 1, 1, 0, 1, 1]\n",
    "\n",
    "DNA3 = [1, 0, 0, 1, 0, 0, 1]\n",
    "```\n",
    "而 python 写出来也很方便, 从 pop_copy 中随便选一个当另一个父辈 和 parent 进行随机的 crossover:"
   ]
  },
  {
   "cell_type": "code",
   "execution_count": 5,
   "metadata": {
    "collapsed": true
   },
   "outputs": [],
   "source": [
    "def crossover(parent,pop):\n",
    "    if np.random.rand()<CROSS_RATE:\n",
    "        i_ = np.random.randint(0,POP_SIZE,1)\n",
    "        cross_points = np.random.randint(0,2,DNA_SIZE).astype(np.bool)\n",
    "        parent[cross_points] = pop[i_,cross_points]\n",
    "    return parent"
   ]
  },
  {
   "cell_type": "markdown",
   "metadata": {},
   "source": [
    "mutation 就更好写了, 将某些 DNA 中的 0 变成 1, 1 变成 0."
   ]
  },
  {
   "cell_type": "code",
   "execution_count": 6,
   "metadata": {
    "collapsed": true
   },
   "outputs": [],
   "source": [
    "def mutate(child):\n",
    "    for point in range(DNA_SIZE):\n",
    "        if np.random.rand()<= MUTATION_RATE:\n",
    "            child[point]=1 if child[point] == 0 else 0\n",
    "    return child"
   ]
  },
  {
   "cell_type": "code",
   "execution_count": 12,
   "metadata": {
    "scrolled": true
   },
   "outputs": [
    {
     "data": {
      "image/png": "[encoded data removed]",
      "text/plain": [
       "<matplotlib.figure.Figure at 0x2a394325550>"
      ]
     },
     "metadata": {},
     "output_type": "display_data"
    }
   ],
   "source": [
    "#种群Dna\n",
    "DNA_SIZE = 10            # DNA length\n",
    "POP_SIZE = 100           # population size\n",
    "CROSS_RATE = 0.8         # mating probability (DNA crossover)\n",
    "MUTATION_RATE = 0.003    # mutation probability\n",
    "N_GENERATIONS = 200\n",
    "X_BOUND = [0, 5]         # x upper and lower bounds\n",
    "F = lambda x:np.sin(10*x)*x + np.cos(2*x)*x\n",
    "pop = np.random.randint(2,size=(POP_SIZE,DNA_SIZE))\n",
    "\n",
    "# plt.ion()\n",
    "x = np.linspace(*X_BOUND,200)\n",
    "plt.plot(x,F(x))\n",
    "for _ in range(N_GENERATIONS):\n",
    "    F_values = F(translateDNA(pop))\n",
    "    \n",
    "    if 'sca' in globals(): sca.remove()\n",
    "    sca = plt.scatter(translateDNA(pop), F_values, s=200, lw=0, c='red', alpha=0.5);# plt.pause(0.05)\n",
    "\n",
    "    fitness = get_fitness(F_values)\n",
    "#     print(\"Most fitted DNA: \", pop[np.argmax(fitness), :])\n",
    "    pop = select(pop,fitness) #按适应度选pop\n",
    "    pop_copy = pop.copy()\n",
    "    for parent in pop:\n",
    "        child = crossover(parent,pop_copy)\n",
    "        child = mutate(child)\n",
    "        parent[:] = child #宝宝变大人 ，a tricky way\n",
    "#plt.ioff();\n",
    "plt.show()"
   ]
  },
  {
   "cell_type": "markdown",
   "metadata": {},
   "source": [
    "## Application: 句子配对\n",
    "通过不同的编码 DNA 方式, 不同的 fitness 定义方式来让程序生成出自己设定的句子来."
   ]
  },
  {
   "cell_type": "code",
   "execution_count": 28,
   "metadata": {},
   "outputs": [],
   "source": [
    "TARGET_PHRASE = 'I love you!' \n",
    "POP_SIZE = 300                      # population size\n",
    "CROSS_RATE = 0.4                    # mating probability (DNA crossover)\n",
    "MUTATION_RATE = 0.01                # mutation probability\n",
    "N_GENERATIONS = 1000\n",
    "\n",
    "DNA_SIZE = len(TARGET_PHRASE)\n",
    "TARGET_ASCII = np.fromstring(TARGET_PHRASE, dtype=np.uint8)  # convert string to number\n",
    "ASCII_BOUND = [32, 126]"
   ]
  },
  {
   "cell_type": "code",
   "execution_count": 26,
   "metadata": {},
   "outputs": [],
   "source": [
    "class GA(object):\n",
    "    def __init__(self, DNA_size, DNA_bound, cross_rate, mutation_rate, pop_size):\n",
    "        self.DNA_size = DNA_size\n",
    "        DNA_bound[1] += 1\n",
    "        self.DNA_bound = DNA_bound\n",
    "        self.cross_rate = cross_rate\n",
    "        self.mutate_rate = mutation_rate\n",
    "        self.pop_size = pop_size\n",
    "\n",
    "        self.pop = np.random.randint(*DNA_bound, size=(pop_size, DNA_size)).astype(np.uint8)  # int8 for convert to ASCII\n",
    "    def translateDNA(self,DNA):   # convert to readable string\n",
    "        return DNA.tostring().decode('ascii')\n",
    "    def get_fitness(self):\n",
    "        return (self.pop == TARGET_ASCII).sum(axis = 1)\n",
    "    def select(self):\n",
    "        fitness = self.get_fitness() + 1e-4 # to avoid 0 in denominater\n",
    "        idx = np.random.choice(np.arange(self.pop_size),size=self.pop_size,replace=True,\n",
    "                    p=fitness/fitness.sum())\n",
    "        return self.pop[idx]\n",
    "    def crossover(self,parent,pop):\n",
    "        if np.random.rand() < self.cross_rate:\n",
    "            i_ = np.random.randint(0, self.pop_size, size=1)                        # select another individual from pop\n",
    "            cross_points = np.random.randint(0, 2, self.DNA_size).astype(np.bool)   # choose crossover points\n",
    "            parent[cross_points] = pop[i_, cross_points]                            # mating and produce one child\n",
    "        return parent\n",
    "    \n",
    "    def mutate(self,child):\n",
    "        for point in range(self.DNA_size):\n",
    "            if np.random.rand() <= self.mutate_rate:\n",
    "                child[point] = np.random.randint(*self.DNA_bound,dtype=np.uint8)\n",
    "        return child\n",
    "    \n",
    "    def evolve(self):\n",
    "        pop = self.select()\n",
    "        pop_copy = pop.copy()\n",
    "        for parent in pop_copy:\n",
    "            child = self.crossover(parent,pop)\n",
    "            child = self.mutate(child)\n",
    "            parent = child\n",
    "        self.pop = pop_copy          \n",
    "            \n",
    "    "
   ]
  },
  {
   "cell_type": "code",
   "execution_count": 29,
   "metadata": {},
   "outputs": [
    {
     "name": "stdout",
     "output_type": "stream",
     "text": [
      "[105  56  35  39  83 109  67  91 111 117 120]Gen 0 :  i8#'SmC[oux\n",
      "[ 73 118  85  86 118 101 100  55 114  63  87]Gen 1 :  IvUVved7r?W\n",
      "[121  72 112 111 118 101  58  55 111  96  54]Gen 2 :  yHpove:7o`6\n",
      "[121  72 112 111 118 101  58  55 111  96  54]Gen 3 :  yHpove:7o`6\n",
      "[ 54  96  83 111  60 101  32  50  73  94  33]Gen 4 :  6`So<e 2I^!\n",
      "[121  32  41 111 118  90  32  81 111  96  95]Gen 5 :  y )ovZ Qo`_\n",
      "[ 73 119 108 111 118 101  58  94  49  34  54]Gen 6 :  Iwlove:^1\"6\n",
      "[ 73 119  86 111 118 101  32  85 111  33  54]Gen 7 :  IwVove Uo!6\n",
      "[ 73  32 108  73 118 100 109  96 111 117  33]Gen 8 :  I lIvdm`ou!\n",
      "[ 73  32 108  73 118 100 109  96 111 117  33]Gen 9 :  I lIvdm`ou!\n",
      "[ 73  32 108 111 118  90  32  81 111  96  33]Gen 10 :  I lovZ Qo`!\n",
      "[ 73  32 108 111 118 101  58  94 111 117  33]Gen 11 :  I love:^ou!\n",
      "[ 73  32 108 111 118 101  58  94 111 117  33]Gen 12 :  I love:^ou!\n",
      "[ 73  32 108 111 118 101  58  94 111 117  33]Gen 13 :  I love:^ou!\n",
      "[ 73  32 108 111 118 101  58  94 111 117  33]Gen 14 :  I love:^ou!\n",
      "[ 73  32 108 111 118 101  58  94 111 117  33]Gen 15 :  I love:^ou!\n",
      "[ 73  32 108 111 118  82  32  85 111 117  33]Gen 16 :  I lovR Uou!\n",
      "[ 73  32 108 111 118 101  32  85 111 117  33]Gen 17 :  I love Uou!\n",
      "[121  32 108 111 118 101  32  73 111 117  33]Gen 18 :  y love Iou!\n",
      "[ 73  32 108 111 118 101  32  55 111 117  33]Gen 19 :  I love 7ou!\n",
      "[ 73  32 108 111 118 101  32  94 111 117  33]Gen 20 :  I love ^ou!\n",
      "[ 73  32 108 111 118 101  32  81 111 117  33]Gen 21 :  I love Qou!\n",
      "[ 73  32 108 111 118 101  32  81 111 117  33]Gen 22 :  I love Qou!\n",
      "[ 73  32 108 111 118 101  32  94 111 117  33]Gen 23 :  I love ^ou!\n",
      "[ 73  32 108 111 118 101  32  94 111 117  33]Gen 24 :  I love ^ou!\n",
      "[ 73  32 108 111 118 101  32  94 111 117  33]Gen 25 :  I love ^ou!\n",
      "[ 73  32 108 111 118 101  32  94 111 117  33]Gen 26 :  I love ^ou!\n",
      "[ 73  32 108 111 118 101  32  94 111 117  33]Gen 27 :  I love ^ou!\n",
      "[ 73  32 108 111 118 101  32  94 111 117  33]Gen 28 :  I love ^ou!\n",
      "[ 73  32 108 111 118 101  32  51 111 117  33]Gen 29 :  I love 3ou!\n",
      "[ 73  32 108 111 118 101  32  94 111 117  33]Gen 30 :  I love ^ou!\n",
      "[ 73  32 108 111 118 101  32  96 111 117  33]Gen 31 :  I love `ou!\n",
      "[ 73  32 108 111 118 101  32  85 111 117  33]Gen 32 :  I love Uou!\n",
      "[ 73  32 108 111 118 101  32  44 111 117  33]Gen 33 :  I love ,ou!\n",
      "[ 73  32 108 111 118 101  32  55 111 117  33]Gen 34 :  I love 7ou!\n",
      "[ 73  32 108 111 118 101  32  87 111 117  33]Gen 35 :  I love Wou!\n",
      "[ 73  32 108 111 118 101  32  94 111 117  33]Gen 36 :  I love ^ou!\n",
      "[ 73  32 108 111 118 101  32  87 111 117  33]Gen 37 :  I love Wou!\n",
      "[ 73  32 108 111 118 101  32  94 111 117  33]Gen 38 :  I love ^ou!\n",
      "[ 73  32 108 111 118 101  32  48 111 117  33]Gen 39 :  I love 0ou!\n",
      "[ 73  32 108 111 118 101  32  94 111 117  33]Gen 40 :  I love ^ou!\n",
      "[ 73  32 108 111 118 101  32  48 111 117  33]Gen 41 :  I love 0ou!\n",
      "[ 73  32 108 111 118 101  32 121 111 117  33]Gen 42 :  I love you!\n"
     ]
    }
   ],
   "source": [
    "ga = GA(DNA_size=DNA_SIZE, DNA_bound=ASCII_BOUND, cross_rate=CROSS_RATE,\n",
    "        mutation_rate=MUTATION_RATE, pop_size=POP_SIZE)\n",
    "for generation in range(N_GENERATIONS):\n",
    "    fitness = ga.get_fitness()\n",
    "    best_DNA = ga.pop[np.argmax(fitness)]\n",
    "    print(best_DNA,end='')\n",
    "    best_phrase = ga.translateDNA(best_DNA)\n",
    "    print('Gen', generation, ': ', best_phrase)\n",
    "    if best_phrase == TARGET_PHRASE:\n",
    "        break\n",
    "    ga.evolve()"
   ]
  }
 ],
 "metadata": {
  "kernelspec": {
   "display_name": "Python 3",
   "language": "python",
   "name": "python3"
  },
  "language_info": {
   "codemirror_mode": {
    "name": "ipython",
    "version": 3
   },
   "file_extension": ".py",
   "mimetype": "text/x-python",
   "name": "python",
   "nbconvert_exporter": "python",
   "pygments_lexer": "ipython3",
   "version": "3.6.3"
  }
 },
 "nbformat": 4,
 "nbformat_minor": 2
}
