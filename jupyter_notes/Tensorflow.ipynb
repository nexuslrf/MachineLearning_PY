{
 "cells": [
  {
   "cell_type": "markdown",
   "metadata": {},
   "source": [
    "# TF的处理结构\n",
    "![处理结构](https://www.tensorflow.org/images/tensors_flowing.gif)\n",
    "\n",
    "## Tensor 张量意义\n",
    "**张量（Tensor):**\n",
    "\n",
    "* 张量有多种. 零阶张量为 纯量或标量 (scalar) 也就是一个数值. 比如 [1]\n",
    "* 一阶张量为 向量 (vector), 比如 一维的 [1, 2, 3]\n",
    "* 二阶张量为 矩阵 (matrix), 比如 二维的 [[1, 2, 3],[4, 5, 6],[7, 8, 9]]\n",
    "* 以此类推, 还有 三阶 三维的 …"
   ]
  },
  {
   "cell_type": "code",
   "execution_count": 1,
   "metadata": {},
   "outputs": [
    {
     "name": "stdout",
     "output_type": "stream",
     "text": [
      "0 [ 0.53903544] [ 0.03743815]\n",
      "20 [ 0.21397395] [ 0.23008296]\n",
      "40 [ 0.1297923] [ 0.28172401]\n",
      "60 [ 0.10778758] [ 0.29522273]\n",
      "80 [ 0.10203565] [ 0.29875124]\n",
      "100 [ 0.10053211] [ 0.29967359]\n",
      "120 [ 0.1001391] [ 0.29991469]\n",
      "140 [ 0.10003635] [ 0.29997772]\n",
      "160 [ 0.1000095] [ 0.29999417]\n",
      "180 [ 0.1000025] [ 0.29999849]\n",
      "200 [ 0.10000063] [ 0.29999962]\n"
     ]
    }
   ],
   "source": [
    "# -*- coding: utf-8 -*-\n",
    "import tensorflow as tf\n",
    "import numpy as np\n",
    "#create data\n",
    "x_data = np.random.rand(100).astype(np.float32) #tensor的变量多为np.float32\n",
    "y_data = x_data*0.1+0.3\n",
    "#create tensorflow structure start\n",
    "Weights = tf.Variable(tf.random_uniform([1],-1.0,1.0)) \n",
    "biases = tf.Variable(tf.zeros([1]))\n",
    "\n",
    "y = Weights*x_data + biases\n",
    "\n",
    "loss = tf.reduce_mean(tf.square(y-y_data))\n",
    "optimizer = tf.train.GradientDescentOptimizer(0.5) #学习率 alpha\n",
    "train = optimizer.minimize(loss)\n",
    "\n",
    "init=tf.global_variables_initializer()\n",
    "#structure finish\n",
    "sess = tf.Session()\n",
    "sess.run(init) #Very Important\n",
    "\n",
    "for step in range(201):\n",
    "    sess.run(train)\n",
    "    if step%20==0:\n",
    "        print(step,sess.run(Weights),sess.run(biases))\n"
   ]
  },
  {
   "cell_type": "markdown",
   "metadata": {},
   "source": [
    "# Session 会话控制\n",
    "Session 是 Tensorflow 为了控制,和输出文件的执行的语句. 运行 session.run() 可以获得你要得知的运算结果, 或者是你所要运算的部分.\n",
    "相当于一个指针\n"
   ]
  },
  {
   "cell_type": "code",
   "execution_count": 2,
   "metadata": {},
   "outputs": [
    {
     "name": "stdout",
     "output_type": "stream",
     "text": [
      "[[12]]\n",
      "[[12]]\n"
     ]
    }
   ],
   "source": [
    "mat1 = tf.constant([[3,3]])\n",
    "mat2 = tf.constant([[2],\n",
    "                    [2]])\n",
    "product = tf.matmul(mat1,mat2) #matrix multiply  np.dot(mat1,mat2)\n",
    "\n",
    "#method 1\n",
    "sess = tf.Session()\n",
    "result = sess.run(product)\n",
    "print(result)\n",
    "sess.close()\n",
    "#method 2\n",
    "with tf.Session() as sess: #相当于c++ 里面{....}的结构 自动析构sess\n",
    "    result2 = sess.run(product)\n",
    "    print(result2)"
   ]
  },
  {
   "cell_type": "markdown",
   "metadata": {},
   "source": [
    "# Variable 变量\n",
    "* 在 Tensorflow 中，定义了某字符串是变量，它才是变量，这一点是与 Python 所不同的。\n",
    "定义语法： state = tf.Variable()\n",
    "* 如果你在 Tensorflow 中设定了变量，那么初始化变量是最重要的！！所以定义了变量以后, 一定要定义 init = *tf.global_variables_initializer()* .\n",
    "* 到这里变量还是没有被激活，需要再在 sess 里, sess.run(init) , 激活 init 这一步.\n",
    "注意：直接 print(state) 不起作用！！\n",
    "一定要把 sess 的指针指向 state 再进行 print 才能得到想要的结果！"
   ]
  },
  {
   "cell_type": "code",
   "execution_count": 3,
   "metadata": {},
   "outputs": [
    {
     "name": "stdout",
     "output_type": "stream",
     "text": [
      "1\n",
      "2\n",
      "3\n"
     ]
    }
   ],
   "source": [
    "state = tf.Variable(0,name='counter')\n",
    "# print(state.name)\n",
    "one = tf.constant(1)\n",
    "new_value = tf.add(state,one)\n",
    "update = tf.assign(state,new_value)\n",
    "# print(state)\n",
    "init = tf.global_variables_initializer() #must have if define variables\n",
    "sess = tf.Session()\n",
    "sess.run(init)\n",
    "for _ in range(3):\n",
    "    sess.run(update)\n",
    "    print(sess.run(state))"
   ]
  },
  {
   "cell_type": "markdown",
   "metadata": {},
   "source": [
    "# Placeholder 传入值\n",
    "* placeholder 是 Tensorflow 中的占位符，暂时储存变量.\n",
    "* Tensorflow 如果想要从外部传入data, 那就需要用到 tf.placeholder(), 然后以这种形式传输数据\n",
    "  **sess.run(\\*\\*\\*, feed_dict={input: \\*\\*})**."
   ]
  },
  {
   "cell_type": "code",
   "execution_count": 4,
   "metadata": {},
   "outputs": [
    {
     "name": "stdout",
     "output_type": "stream",
     "text": [
      "[ 14.]\n"
     ]
    }
   ],
   "source": [
    "input1 = tf.placeholder(tf.float32)\n",
    "input2 = tf.placeholder(tf.float32)\n",
    "\n",
    "output = tf.multiply(input1,input2)\n",
    "print(sess.run(output,feed_dict={input1:[7.],input2:[2.]}))\n"
   ]
  },
  {
   "cell_type": "markdown",
   "metadata": {},
   "source": [
    "# 激励函数 Activation Function\n",
    "Tensorflow 提供的一些[激励函数](https://www.tensorflow.org/api_guides/python/nn) "
   ]
  },
  {
   "cell_type": "markdown",
   "metadata": {},
   "source": [
    "# 添加层 def add_layer()"
   ]
  },
  {
   "cell_type": "code",
   "execution_count": 2,
   "metadata": {
    "collapsed": true
   },
   "outputs": [],
   "source": [
    "def add_layer(inputs,in_size,out_size,activation_function=None):\n",
    "    Weights = tf.Variable(tf.random_normal([in_size,out_size]))\n",
    "    biases = tf.Variable(tf.zeros([1,out_size])+0.1) \n",
    "    #在机器学习中，biases的推荐值不为0，所以我们这里是在0向量的基础上又加了0.1。\n",
    "    Wx_plus_b = tf.matmul(inputs,Weights)+biases\n",
    "    if activation_function is None:\n",
    "        outputs = Wx_plus_b\n",
    "    else:\n",
    "        outputs = activation_function(Wx_plus_b)\n",
    "    return outputs"
   ]
  },
  {
   "cell_type": "markdown",
   "metadata": {},
   "source": [
    "# 建造神经网络\n"
   ]
  },
  {
   "cell_type": "code",
   "execution_count": 6,
   "metadata": {},
   "outputs": [
    {
     "name": "stdout",
     "output_type": "stream",
     "text": [
      "0.066338\n",
      "0.00524319\n",
      "0.0044135\n",
      "0.00411754\n",
      "0.00390686\n",
      "0.00373257\n",
      "0.0036266\n",
      "0.00354994\n",
      "0.0034934\n",
      "0.00343632\n",
      "0.00338899\n",
      "0.00334603\n",
      "0.00331493\n",
      "0.00329227\n",
      "0.00328113\n",
      "0.00327381\n",
      "0.00326375\n",
      "0.00325632\n",
      "0.00325011\n",
      "0.00324457\n"
     ]
    }
   ],
   "source": [
    "x_data = np.linspace(-1,1,300).reshape((300,1))\n",
    "noise = np.random.normal(0,0.05,x_data.shape)\n",
    "y_data = np.square(x_data)-0.5+noise\n",
    "\n",
    "xs = tf.placeholder(tf.float32,[None,1])\n",
    "ys = tf.placeholder(tf.float32,[None,1])\n",
    "#hidden layer \n",
    "l1 = add_layer(xs,1,10,activation_function=tf.nn.relu)\n",
    "#prediction layer\n",
    "prediction =add_layer(l1,10,1,activation_function=None)\n",
    "\n",
    "loss = tf.reduce_mean(tf.reduce_sum(tf.square(ys-prediction),\n",
    "                                    reduction_indices=[1]))\n",
    "# reduction_indices=[1] 按行求和\n",
    "# reduction_indices=[0] 按列求和\n",
    "train_step = tf.train.GradientDescentOptimizer(0.1).minimize(loss)\n",
    "\n",
    "init = tf.global_variables_initializer()\n",
    "sess = tf.Session()\n",
    "sess.run(init)\n",
    "\n",
    "for i in range(1000):\n",
    "    sess.run(train_step,feed_dict={xs:x_data,ys:y_data})\n",
    "    if i%50==0:\n",
    "        print(sess.run(loss,feed_dict={xs:x_data,ys:y_data}))"
   ]
  },
  {
   "cell_type": "markdown",
   "metadata": {},
   "source": [
    "# 结果可视化\n",
    "may need run .py"
   ]
  },
  {
   "cell_type": "code",
   "execution_count": 12,
   "metadata": {},
   "outputs": [
    {
     "data": {
      "image/png": "[encoded data removed]",
      "text/plain": [
       "<matplotlib.figure.Figure at 0x25f06190710>"
      ]
     },
     "metadata": {},
     "output_type": "display_data"
    }
   ],
   "source": [
    "import matplotlib.pyplot as plt\n",
    "fig,ax = plt.subplots()\n",
    "ax.scatter(x_data,y_data)\n",
    "# plt.ion() #plt.ion()用于连续显示\n",
    "for i in range(1000):\n",
    "    sess.run(train_step,feed_dict={xs:x_data,ys:y_data})\n",
    "    if i%50==0:\n",
    "        try:\n",
    "            ax.line.remove(lines[0])\n",
    "        except Exception:\n",
    "            pass\n",
    "        prediction_value = sess.run(prediction,feed_dict={xs:x_data})\n",
    "        lines = ax.plot(x_data,prediction_value,'r-',lw=5)\n",
    "#         plt.pause(0.1)\n",
    "plt.show()"
   ]
  },
  {
   "cell_type": "markdown",
   "metadata": {},
   "source": [
    "# optimizer 优化器\n",
    "tensorflow的[optimizers](https://www.tensorflow.org/api_guides/python/train)\n"
   ]
  },
  {
   "cell_type": "markdown",
   "metadata": {},
   "source": [
    "# Tensorboard 可视化工具\n"
   ]
  },
  {
   "cell_type": "markdown",
   "metadata": {},
   "source": [
    "        # -*- coding: utf-8 -*-\n",
    "        import tensorflow as tf\n",
    "        import numpy as np\n",
    "        import matplotlib.pyplot as plt\n",
    "        def add_layer(inputs,in_size,out_size,n_layer,activation_function=None):\n",
    "            layer_name='layer%d'%n_layer\n",
    "            with tf.name_scope(layer_name):\n",
    "                with tf.name_scope('Weights'):\n",
    "                    Weights = tf.Variable(tf.random_normal([in_size,out_size]),name='W')\n",
    "                    tf.summary.histogram(layer_name+'/weights',Weights)\n",
    "                with tf.name_scope('biases'):\n",
    "                    biases = tf.Variable(tf.zeros([1,out_size])+0.1,name='biases') \n",
    "                    tf.summary.histogram(layer_name+'/biases',biases)\n",
    "                #在机器学习中，biases的推荐值不为0，所以我们这里是在0向量的基础上又加了0.1。\n",
    "                with tf.name_scope('Wx_plus_b'):\n",
    "                    Wx_plus_b = tf.matmul(inputs,Weights)+biases\n",
    "                if activation_function is None:\n",
    "                    outputs = Wx_plus_b\n",
    "                else:\n",
    "                    outputs = activation_function(Wx_plus_b)\n",
    "                tf.summary.histogram(layer_name+'/outputs',outputs)\n",
    "                return outputs\n",
    "\n",
    "        x_data = np.linspace(-1,1,300).reshape((300,1))\n",
    "        noise = np.random.normal(0,0.05,x_data.shape)\n",
    "        y_data = np.square(x_data)+noise\n",
    "\n",
    "        with tf.name_scope('inputs'):\n",
    "            xs = tf.placeholder(tf.float32,[None,1],name='x_input')\n",
    "            ys = tf.placeholder(tf.float32,[None,1],name='y_input')\n",
    "        #add hidden layer\n",
    "        l1 = add_layer(xs,1,10,1,activation_function=tf.nn.relu)\n",
    "        #add output layer\n",
    "        prediction = add_layer(l1,10,1,2,activation_function=None)\n",
    "        with tf.name_scope('loss'):\n",
    "            loss = tf.reduce_mean(tf.reduce_sum(tf.square(ys-prediction)\n",
    "               ,reduction_indices=[1]))\n",
    "            tf.summary.scalar('loss',loss)\n",
    "        # reduction_indices=[1] 按行求和\n",
    "        # reduction_indices=[0] 按列求和\n",
    "\n",
    "\n",
    "        with tf.name_scope('Train'):\n",
    "            train_step = tf.train.GradientDescentOptimizer(0.1).minimize(loss)\n",
    "\n",
    "        merged = tf.summary.merge_all()\n",
    "\n",
    "        init = tf.global_variables_initializer()\n",
    "\n",
    "        sess = tf.Session()\n",
    "        writer = tf.summary.FileWriter(\"logs/\",sess.graph)\n",
    "\n",
    "        sess.run(init)\n",
    "\n",
    "        for i in range(1000):\n",
    "            sess.run(train_step,feed_dict={xs:x_data,ys:y_data})\n",
    "            if i%20==0:\n",
    "                result = sess.run(merged,\n",
    "                    feed_dict={xs:x_data,ys:y_data})\n",
    "                writer.add_summary(result,i)"
   ]
  },
  {
   "cell_type": "markdown",
   "metadata": {},
   "source": [
    "# Classification"
   ]
  },
  {
   "cell_type": "code",
   "execution_count": 3,
   "metadata": {
    "scrolled": true
   },
   "outputs": [
    {
     "name": "stdout",
     "output_type": "stream",
     "text": [
      "Extracting MNIST_data\\train-images-idx3-ubyte.gz\n",
      "Extracting MNIST_data\\train-labels-idx1-ubyte.gz\n",
      "Extracting MNIST_data\\t10k-images-idx3-ubyte.gz\n",
      "Extracting MNIST_data\\t10k-labels-idx1-ubyte.gz\n"
     ]
    }
   ],
   "source": [
    "from tensorflow.examples.tutorials.mnist import input_data \n",
    "mnist = input_data.read_data_sets('MNIST_data',one_hot=True)\n",
    "#载入 MNIST 的手写数字库"
   ]
  },
  {
   "cell_type": "code",
   "execution_count": 20,
   "metadata": {
    "collapsed": true
   },
   "outputs": [],
   "source": [
    "xs = tf.placeholder(tf.float32,[None,784]) #28x28 pixels\n",
    "ys = tf.placeholder(tf.float32,[None,10]) #10 slots to judge which number\n",
    "keep_prob=tf.placeholder(tf.float32)\n",
    "\n",
    "prediction = add_layer(xs,784,10,activation_function=tf.nn.softmax)\n",
    "\n",
    "cross_entropy = tf.reduce_mean(-tf.reduce_sum(ys*tf.log(prediction)\n",
    "                            ,reduction_indices=[1])) #loss 交叉熵\n",
    "train_step = tf.train.GradientDescentOptimizer(0.5).minimize(cross_entropy)\n",
    "\n",
    "init = tf.global_variables_initializer()\n",
    "sess = tf.Session()\n",
    "sess.run(init)\n"
   ]
  },
  {
   "cell_type": "code",
   "execution_count": 11,
   "metadata": {
    "collapsed": true
   },
   "outputs": [],
   "source": [
    "def compute_accuracy(v_xs,v_ys):\n",
    "    global prediction\n",
    "    y_pre = sess.run(prediction,feed_dict={xs:v_xs,keep_prob:1}) \n",
    "    correct_prediction = tf.equal(tf.argmax(y_pre,1),tf.argmax(v_ys,1))\n",
    "    accuracy = tf.reduce_mean(tf.cast(correct_prediction,tf.float32))\n",
    "    result = sess.run(accuracy,feed_dict={xs:v_xs,ys:v_ys,keep_prob:1})\n",
    "    return result"
   ]
  },
  {
   "cell_type": "code",
   "execution_count": 6,
   "metadata": {},
   "outputs": [
    {
     "name": "stdout",
     "output_type": "stream",
     "text": [
      "0.1462\n",
      "0.6446\n",
      "0.7397\n",
      "0.777\n",
      "0.8003\n",
      "0.8172\n",
      "0.8245\n",
      "0.8378\n",
      "0.8432\n",
      "0.8412\n",
      "0.8506\n",
      "0.852\n",
      "0.8597\n",
      "0.8629\n",
      "0.8616\n",
      "0.8601\n",
      "0.8708\n",
      "0.8719\n",
      "0.872\n",
      "0.8696\n"
     ]
    }
   ],
   "source": [
    "for i in range(1000):\n",
    "    batch_xs,batch_ys = mnist.train.next_batch(100)\n",
    "    # training\n",
    "    sess.run(train_step, feed_dict={xs: batch_xs, ys: batch_ys})\n",
    "    if i % 50 == 0:\n",
    "        print(compute_accuracy(\n",
    "            mnist.test.images, mnist.test.labels))"
   ]
  },
  {
   "cell_type": "code",
   "execution_count": 68,
   "metadata": {
    "scrolled": true
   },
   "outputs": [
    {
     "data": {
      "image/png": "[encoded data removed]",
      "text/plain": [
       "<matplotlib.figure.Figure at 0x1ed9530db70>"
      ]
     },
     "metadata": {},
     "output_type": "display_data"
    }
   ],
   "source": [
    "pred=sess.run(tf.argmax(sess.run(prediction,feed_dict={xs:mnist.test.images[0:20]}),1))\n",
    "actual = sess.run(tf.argmax(mnist.test.labels[0:20],1))\n",
    "import matplotlib.pyplot as plt\n",
    "for i in range(1,17):\n",
    "    plt.subplot(4,4,i)\n",
    "    plt.imshow(mnist.test.images[i-1].reshape((28,28)),cmap='gray')\n",
    "    plt.title('pred:%d actual:%d'%(pred[i-1],actual[i-1]))\n",
    "    plt.xticks(())\n",
    "    plt.yticks(())\n",
    "plt.tight_layout()\n",
    "plt.show()"
   ]
  },
  {
   "cell_type": "markdown",
   "metadata": {},
   "source": [
    "# dropout 解决 Overfitting 问题\n",
    "举个Regression (回归)的例子\n",
    "![image](https://morvanzhou.github.io/static/results/tensorflow/5_02_2.png)\n",
    "keep_prob是保留概率，即我们要保留的结果所占比例，它作为一个placeholder，在run时传入， 当keep_prob=1的时候，相当于100%保留，也就是dropout没有起作用。\n",
    "训练中keep_prob=1时，就可以暴露出overfitting问题。keep_prob=0.5时，dropout就发挥了作用。 我们可以两种参数分别运行程序，对比一下结果。\n",
    "\n",
    "当keep_prob=1时，模型对训练数据的适应性优于测试数据，存在overfitting，输出如下： 红线是 train 的误差, 蓝线是 test 的误差.\n",
    "![image](https://morvanzhou.github.io/static/results/tensorflow/5_02_3.png)\n",
    "当keep_prob=0.5时效果好了很多，输出如下：\n",
    "![image](https://morvanzhou.github.io/static/results/tensorflow/5_02_4.png)\n",
    "[code](C:\\Users\\Ruofan\\Desktop\\Programming\\Machine_Learning\\MachineLearning_PY\\jupyter_notes)"
   ]
  },
  {
   "cell_type": "markdown",
   "metadata": {
    "collapsed": true
   },
   "source": [
    "# CNN\n",
    "\n",
    "[Google's Tutorials](https://classroom.udacity.com/courses/ud730/lessons/6377263405/concepts/63796332430923)\n",
    "[zhihu:Pooling](https://www.zhihu.com/question/36686900)"
   ]
  },
  {
   "cell_type": "code",
   "execution_count": 15,
   "metadata": {
    "collapsed": true
   },
   "outputs": [],
   "source": [
    "#CNN 实现 MNIST\n",
    "def weight_variable(shape):\n",
    "    initial = tf.truncated_normal(shape,stddev=0.1) #切断正态分布\n",
    "    return tf.Variable(initial)"
   ]
  },
  {
   "cell_type": "code",
   "execution_count": 16,
   "metadata": {
    "collapsed": true
   },
   "outputs": [],
   "source": [
    "def bias_variable(shape):\n",
    "    initial = tf.constant(0.1,shape=shape)\n",
    "    return tf.Variable(initial)"
   ]
  },
  {
   "cell_type": "code",
   "execution_count": 17,
   "metadata": {
    "collapsed": true
   },
   "outputs": [],
   "source": [
    "def conv2d(x,W):\n",
    "    #strides format:[1,x_movement,y_movement,1]\n",
    "    #must have strides[0]=strides[3]=1\n",
    "    return tf.nn.conv2d(x,W,strides=[1,1,1,1],padding='SAME')\n",
    "# 第一个参数x的shape为[batch，height，width，channels]"
   ]
  },
  {
   "cell_type": "code",
   "execution_count": 18,
   "metadata": {
    "collapsed": true
   },
   "outputs": [],
   "source": [
    "def max_pool_2x2(x):\n",
    "    return tf.nn.max_pool(x,ksize=[1,2,2,1],strides=[1,2,2,1],padding='SAME')\n",
    "#ksize  池化窗口的大小  是一个四位向量  \n",
    "#一般为[1，height，width，1] 因为我们不想在batch和channels上做操作，所以这两个维度上设为1\n",
    "# 第三个参数，和卷积类似，窗口在每一个维度上滑动的步长，所以一般设为【1,stride，stride，1】"
   ]
  },
  {
   "cell_type": "code",
   "execution_count": 23,
   "metadata": {
    "scrolled": true
   },
   "outputs": [
    {
     "name": "stdout",
     "output_type": "stream",
     "text": [
      "0.0988\n",
      "0.907\n",
      "0.946\n",
      "0.9555\n",
      "0.9654\n",
      "0.9693\n",
      "0.9721\n",
      "0.9769\n",
      "0.977\n",
      "0.9812\n"
     ]
    }
   ],
   "source": [
    "x_image = tf.reshape(xs,[-1,28,28,1])\n",
    "#-1的含义是：我们自己不用去管这个维度的大小，\n",
    "# reshape会自动计算，但是我的这个列表中只能有一个  -1  。\n",
    "# 原因很简单，多个 -1  会造成多解的方程情况\n",
    "## conv1 layer##\n",
    "W_conv1 = weight_variable([5,5,1,32]) #patch 5*5 in size=1(单通道图片),out size=32(输出是32个featuremap)\n",
    "b_conv1 = bias_variable([32])\n",
    "h_conv1 = tf.nn.relu(conv2d(x_image,W_conv1)+b_conv1) # output size:28x28x32\n",
    "h_pool1 = max_pool_2x2(h_conv1) #output size 14x14x32\n",
    "\n",
    "## conv2 layer##\n",
    "W_conv2 = weight_variable([5,5,32,64]) #patch 5*5 in size=1(单通道图片),out size=32(输出是32个featuremap)\n",
    "b_conv2 = bias_variable([64])\n",
    "h_conv2 = tf.nn.relu(conv2d(h_pool1,W_conv2)+b_conv2) # output size:14x14x32\n",
    "h_pool2 = max_pool_2x2(h_conv2) #output size 7x7x32\n",
    "\n",
    "## func1 layer ##\n",
    "W_fc1 = weight_variable([7*7*64,1024])\n",
    "b_fc1 = bias_variable([1024])\n",
    "#[n_samples,7,7,64] --> [n_samples,7*7*64]\n",
    "h_pool2_flat = tf.reshape(h_pool2,[-1,7*7*64]) \n",
    "h_fc1 = tf.nn.relu(tf.matmul(h_pool2_flat,W_fc1)+b_fc1)\n",
    "h_fc1_drop = tf.nn.dropout(h_fc1,keep_prob)\n",
    "\n",
    "## func2 layer ##\n",
    "W_fc2 = weight_variable([1024,10])\n",
    "b_fc2 = bias_variable([10])\n",
    "prediction = tf.nn.softmax(tf.matmul(h_fc1_drop,W_fc2)+b_fc2)\n",
    "\n",
    "cross_entropy = tf.reduce_mean(-tf.reduce_sum(ys*tf.log(prediction)\n",
    "                            ,reduction_indices=[1])) #loss 交叉熵\n",
    "train_step = tf.train.AdamOptimizer(1e-3).minimize(cross_entropy)\n",
    "\n",
    "sess = tf.Session()\n",
    "sess.run(tf.global_variables_initializer())\n",
    "\n",
    "for i in range(500):\n",
    "    batch_xs,batch_ys = mnist.train.next_batch(100)\n",
    "    sess.run(train_step,feed_dict={xs:batch_xs,ys:batch_ys,keep_prob:0.5})\n",
    "    if i%50 == 0:\n",
    "        print(compute_accuracy(\n",
    "            mnist.test.images, mnist.test.labels))\n"
   ]
  },
  {
   "cell_type": "code",
   "execution_count": 28,
   "metadata": {},
   "outputs": [
    {
     "data": {
      "image/png": "[encoded data removed]",
      "text/plain": [
       "<matplotlib.figure.Figure at 0x1eba7f3a9e8>"
      ]
     },
     "metadata": {},
     "output_type": "display_data"
    }
   ],
   "source": [
    "pred=sess.run(tf.argmax(sess.run(prediction,feed_dict={xs:mnist.test.images[20:40],keep_prob:1}),1))\n",
    "actual = sess.run(tf.argmax(mnist.test.labels[20:40],1))\n",
    "import matplotlib.pyplot as plt\n",
    "for i in range(1,21):\n",
    "    plt.subplot(4,5,i)\n",
    "    plt.imshow(mnist.test.images[i-1+20].reshape((28,28)),cmap='gray')\n",
    "    plt.title('prd:%d act:%d'%(pred[i-1],actual[i-1]))\n",
    "    plt.xticks(())\n",
    "    plt.yticks(())\n",
    "plt.tight_layout()\n",
    "plt.show()"
   ]
  },
  {
   "cell_type": "markdown",
   "metadata": {},
   "source": [
    "# Saver 保存读取"
   ]
  },
  {
   "cell_type": "code",
   "execution_count": 29,
   "metadata": {
    "scrolled": true
   },
   "outputs": [
    {
     "name": "stdout",
     "output_type": "stream",
     "text": [
      "CNN_params/save_CNN.ckpt\n"
     ]
    }
   ],
   "source": [
    "## Save to a file\n",
    "saver = tf.train.Saver()\n",
    "save_path = saver.save(sess,\"CNN_params/save_CNN.ckpt\")\n",
    "print(save_path)"
   ]
  },
  {
   "cell_type": "code",
   "execution_count": 36,
   "metadata": {},
   "outputs": [
    {
     "name": "stdout",
     "output_type": "stream",
     "text": [
      "[ 0.12070176  0.09995873  0.10062521 ...,  0.10152204  0.1065667\n",
      "  0.09339794]\n"
     ]
    }
   ],
   "source": [
    "print(sess.run(b_fc1))"
   ]
  },
  {
   "cell_type": "code",
   "execution_count": 37,
   "metadata": {},
   "outputs": [
    {
     "name": "stdout",
     "output_type": "stream",
     "text": [
      "INFO:tensorflow:Restoring parameters from CNN_params/save_CNN.ckpt\n",
      "[ 0.12070176  0.09995873  0.10062521 ...,  0.10152204  0.1065667\n",
      "  0.09339794]\n"
     ]
    }
   ],
   "source": [
    "## Restore variables\n",
    "#redefine the same shape and type for  your variables\n",
    "# 先建立 W, b 的容器\n",
    "# W = tf.Variable(******)\n",
    "# b = tf.Variable(******)\n",
    "# *****\n",
    "# 这里不需要初始化步骤 init= tf.initialize_all_variables()\n",
    "\n",
    "saver = tf.train.Saver()\n",
    "    # 提取变量\n",
    "saver.restore(sess,\"CNN_params/save_CNN.ckpt\")\n",
    "\n",
    "print(sess.run(b_fc1))"
   ]
  }
 ],
 "metadata": {
  "kernelspec": {
   "display_name": "Python 3",
   "language": "python",
   "name": "python3"
  },
  "language_info": {
   "codemirror_mode": {
    "name": "ipython",
    "version": 3
   },
   "file_extension": ".py",
   "mimetype": "text/x-python",
   "name": "python",
   "nbconvert_exporter": "python",
   "pygments_lexer": "ipython3",
   "version": "3.6.3"
  }
 },
 "nbformat": 4,
 "nbformat_minor": 2
}
