{
 "cells": [
  {
   "cell_type": "markdown",
   "metadata": {},
   "source": [
    "# TF的处理结构\n",
    "![处理结构](https://www.tensorflow.org/images/tensors_flowing.gif)\n",
    "\n",
    "## Tensor 张量意义\n",
    "**张量（Tensor):**\n",
    "\n",
    "* 张量有多种. 零阶张量为 纯量或标量 (scalar) 也就是一个数值. 比如 [1]\n",
    "* 一阶张量为 向量 (vector), 比如 一维的 [1, 2, 3]\n",
    "* 二阶张量为 矩阵 (matrix), 比如 二维的 [[1, 2, 3],[4, 5, 6],[7, 8, 9]]\n",
    "* 以此类推, 还有 三阶 三维的 …\n",
    "[see more](http://blog.csdn.net/u013378306/article/details/56281549)"
   ]
  },
  {
   "cell_type": "code",
   "execution_count": 1,
   "metadata": {
    "collapsed": true
   },
   "outputs": [],
   "source": [
    "#Shape in TF\n",
    "# -*- coding: utf-8 -*-\n",
    "import tensorflow as tf\n",
    "import numpy as np"
   ]
  },
  {
   "cell_type": "code",
   "execution_count": 5,
   "metadata": {},
   "outputs": [
    {
     "name": "stdout",
     "output_type": "stream",
     "text": [
      "[[[  0.   1.   2.   3.]\n",
      "  [  4.   5.   6.   7.]\n",
      "  [  8.   9.  10.  11.]]\n",
      "\n",
      " [[ 12.  13.  14.  15.]\n",
      "  [ 16.  17.  18.  19.]\n",
      "  [ 20.  21.  22.  23.]]]\n",
      "[[[  0.   1.   2.   3.   4.   5.]\n",
      "  [  6.   7.   8.   9.  10.  11.]\n",
      "  [ 12.  13.  14.  15.  16.  17.]\n",
      "  [ 18.  19.  20.  21.  22.  23.]]]\n"
     ]
    }
   ],
   "source": [
    "sess = tf.Session()\n",
    "a = tf.constant(np.arange(24),shape=[2,3,4],dtype=tf.float32)\n",
    "print(sess.run(a))\n",
    "print(sess.run(tf.reshape(a,shape=[1,4,6])))"
   ]
  },
  {
   "cell_type": "code",
   "execution_count": 1,
   "metadata": {},
   "outputs": [
    {
     "name": "stdout",
     "output_type": "stream",
     "text": [
      "0 [ 0.1221687] [ 0.37568793]\n",
      "20 [ 0.09664188] [ 0.30165404]\n",
      "40 [ 0.0990727] [ 0.30045676]\n",
      "60 [ 0.09974395] [ 0.30012614]\n",
      "80 [ 0.09992931] [ 0.30003482]\n",
      "100 [ 0.09998048] [ 0.30000964]\n",
      "120 [ 0.09999462] [ 0.30000266]\n",
      "140 [ 0.09999852] [ 0.30000076]\n",
      "160 [ 0.09999959] [ 0.30000022]\n",
      "180 [ 0.0999999] [ 0.30000007]\n",
      "200 [ 0.0999999] [ 0.30000007]\n"
     ]
    }
   ],
   "source": [
    "#create data\n",
    "x_data = np.random.rand(100).astype(np.float32) #tensor的变量多为np.float32\n",
    "y_data = x_data*0.1+0.3\n",
    "#create tensorflow structure start\n",
    "Weights = tf.Variable(tf.random_uniform([1],-1.0,1.0)) \n",
    "biases = tf.Variable(tf.zeros([1]))\n",
    "\n",
    "y = Weights*x_data + biases\n",
    "\n",
    "loss = tf.reduce_mean(tf.square(y-y_data))\n",
    "optimizer = tf.train.GradientDescentOptimizer(0.5) #学习率 alpha\n",
    "train = optimizer.minimize(loss)\n",
    "\n",
    "init=tf.global_variables_initializer()\n",
    "#structure finish\n",
    "sess = tf.Session()\n",
    "sess.run(init) #Very Important\n",
    "\n",
    "for step in range(201):\n",
    "    sess.run(train)\n",
    "    if step%20==0:\n",
    "        print(step,sess.run(Weights),sess.run(biases))\n"
   ]
  },
  {
   "cell_type": "markdown",
   "metadata": {},
   "source": [
    "# Session 会话控制\n",
    "Session 是 Tensorflow 为了控制,和输出文件的执行的语句. 运行 session.run() 可以获得你要得知的运算结果, 或者是你所要运算的部分.\n",
    "相当于一个指针\n"
   ]
  },
  {
   "cell_type": "code",
   "execution_count": 2,
   "metadata": {},
   "outputs": [
    {
     "name": "stdout",
     "output_type": "stream",
     "text": [
      "[[12]]\n",
      "[[12]]\n"
     ]
    }
   ],
   "source": [
    "mat1 = tf.constant([[3,3]])\n",
    "mat2 = tf.constant([[2],\n",
    "                    [2]])\n",
    "product = tf.matmul(mat1,mat2) #matrix multiply  np.dot(mat1,mat2)\n",
    "\n",
    "#method 1\n",
    "sess = tf.Session()\n",
    "result = sess.run(product)\n",
    "print(result)\n",
    "sess.close()\n",
    "#method 2\n",
    "with tf.Session() as sess: #相当于c++ 里面{....}的结构 自动析构sess\n",
    "    result2 = sess.run(product)\n",
    "    print(result2)"
   ]
  },
  {
   "cell_type": "markdown",
   "metadata": {},
   "source": [
    "# Variable 变量\n",
    "* 在 Tensorflow 中，定义了某字符串是变量，它才是变量，这一点是与 Python 所不同的。\n",
    "定义语法： state = tf.Variable()\n",
    "* 如果你在 Tensorflow 中设定了变量，那么初始化变量是最重要的！！所以定义了变量以后, 一定要定义 init = *tf.global_variables_initializer()* .\n",
    "* 到这里变量还是没有被激活，需要再在 sess 里, sess.run(init) , 激活 init 这一步.\n",
    "注意：直接 print(state) 不起作用！！\n",
    "一定要把 sess 的指针指向 state 再进行 print 才能得到想要的结果！"
   ]
  },
  {
   "cell_type": "code",
   "execution_count": 3,
   "metadata": {},
   "outputs": [
    {
     "name": "stdout",
     "output_type": "stream",
     "text": [
      "1\n",
      "2\n",
      "3\n"
     ]
    }
   ],
   "source": [
    "state = tf.Variable(0,name='counter')\n",
    "# print(state.name)\n",
    "one = tf.constant(1)\n",
    "new_value = tf.add(state,one)\n",
    "update = tf.assign(state,new_value)\n",
    "# print(state)\n",
    "init = tf.global_variables_initializer() #must have if define variables\n",
    "sess = tf.Session()\n",
    "sess.run(init)\n",
    "for _ in range(3):\n",
    "    sess.run(update)\n",
    "    print(sess.run(state))"
   ]
  },
  {
   "cell_type": "markdown",
   "metadata": {},
   "source": [
    "# Placeholder 传入值\n",
    "* placeholder 是 Tensorflow 中的占位符，暂时储存变量.\n",
    "* Tensorflow 如果想要从外部传入data, 那就需要用到 tf.placeholder(), 然后以这种形式传输数据\n",
    "  **sess.run(\\*\\*\\*, feed_dict={input: \\*\\*})**."
   ]
  },
  {
   "cell_type": "code",
   "execution_count": 4,
   "metadata": {},
   "outputs": [
    {
     "name": "stdout",
     "output_type": "stream",
     "text": [
      "[ 14.]\n"
     ]
    }
   ],
   "source": [
    "input1 = tf.placeholder(tf.float32)\n",
    "input2 = tf.placeholder(tf.float32)\n",
    "\n",
    "output = tf.multiply(input1,input2)\n",
    "print(sess.run(output,feed_dict={input1:[7.],input2:[2.]}))\n"
   ]
  },
  {
   "cell_type": "markdown",
   "metadata": {},
   "source": [
    "# 激励函数 Activation Function\n",
    "Tensorflow 提供的一些[激励函数](https://www.tensorflow.org/api_guides/python/nn) "
   ]
  },
  {
   "cell_type": "markdown",
   "metadata": {},
   "source": [
    "# 添加层 def add_layer()"
   ]
  },
  {
   "cell_type": "code",
   "execution_count": 2,
   "metadata": {
    "collapsed": true
   },
   "outputs": [],
   "source": [
    "def add_layer(inputs,in_size,out_size,activation_function=None):\n",
    "    Weights = tf.Variable(tf.random_normal([in_size,out_size]))\n",
    "    biases = tf.Variable(tf.zeros([1,out_size])+0.1) \n",
    "    #在机器学习中，biases的推荐值不为0，所以我们这里是在0向量的基础上又加了0.1。\n",
    "    Wx_plus_b = tf.matmul(inputs,Weights)+biases\n",
    "    if activation_function is None:\n",
    "        outputs = Wx_plus_b\n",
    "    else:\n",
    "        outputs = activation_function(Wx_plus_b)\n",
    "    return outputs"
   ]
  },
  {
   "cell_type": "markdown",
   "metadata": {},
   "source": [
    "# 建造神经网络\n"
   ]
  },
  {
   "cell_type": "code",
   "execution_count": 6,
   "metadata": {},
   "outputs": [
    {
     "name": "stdout",
     "output_type": "stream",
     "text": [
      "0.066338\n",
      "0.00524319\n",
      "0.0044135\n",
      "0.00411754\n",
      "0.00390686\n",
      "0.00373257\n",
      "0.0036266\n",
      "0.00354994\n",
      "0.0034934\n",
      "0.00343632\n",
      "0.00338899\n",
      "0.00334603\n",
      "0.00331493\n",
      "0.00329227\n",
      "0.00328113\n",
      "0.00327381\n",
      "0.00326375\n",
      "0.00325632\n",
      "0.00325011\n",
      "0.00324457\n"
     ]
    }
   ],
   "source": [
    "x_data = np.linspace(-1,1,300).reshape((300,1))\n",
    "noise = np.random.normal(0,0.05,x_data.shape)\n",
    "y_data = np.square(x_data)-0.5+noise\n",
    "\n",
    "xs = tf.placeholder(tf.float32,[None,1])\n",
    "ys = tf.placeholder(tf.float32,[None,1])\n",
    "#hidden layer \n",
    "l1 = add_layer(xs,1,10,activation_function=tf.nn.relu)\n",
    "#prediction layer\n",
    "prediction =add_layer(l1,10,1,activation_function=None)\n",
    "\n",
    "loss = tf.reduce_mean(tf.reduce_sum(tf.square(ys-prediction),\n",
    "                                    reduction_indices=[1]))\n",
    "# reduction_indices=[1] 按行求和\n",
    "# reduction_indices=[0] 按列求和\n",
    "train_step = tf.train.GradientDescentOptimizer(0.1).minimize(loss)\n",
    "\n",
    "init = tf.global_variables_initializer()\n",
    "sess = tf.Session()\n",
    "sess.run(init)\n",
    "\n",
    "for i in range(1000):\n",
    "    sess.run(train_step,feed_dict={xs:x_data,ys:y_data})\n",
    "    if i%50==0:\n",
    "        print(sess.run(loss,feed_dict={xs:x_data,ys:y_data}))"
   ]
  },
  {
   "cell_type": "markdown",
   "metadata": {},
   "source": [
    "# 结果可视化\n",
    "may need run .py"
   ]
  },
  {
   "cell_type": "code",
   "execution_count": 12,
   "metadata": {},
   "outputs": [
    {
     "data": {
      "image/png": "[encoded data removed]",
      "text/plain": [
       "<matplotlib.figure.Figure at 0x25f06190710>"
      ]
     },
     "metadata": {},
     "output_type": "display_data"
    }
   ],
   "source": [
    "import matplotlib.pyplot as plt\n",
    "fig,ax = plt.subplots()\n",
    "ax.scatter(x_data,y_data)\n",
    "# plt.ion() #plt.ion()用于连续显示\n",
    "for i in range(1000):\n",
    "    sess.run(train_step,feed_dict={xs:x_data,ys:y_data})\n",
    "    if i%50==0:\n",
    "        try:\n",
    "            ax.line.remove(lines[0])\n",
    "        except Exception:\n",
    "            pass\n",
    "        prediction_value = sess.run(prediction,feed_dict={xs:x_data})\n",
    "        lines = ax.plot(x_data,prediction_value,'r-',lw=5)\n",
    "#         plt.pause(0.1)\n",
    "plt.show()"
   ]
  },
  {
   "cell_type": "markdown",
   "metadata": {},
   "source": [
    "# optimizer 优化器\n",
    "tensorflow的[optimizers](https://www.tensorflow.org/api_guides/python/train)\n"
   ]
  },
  {
   "cell_type": "markdown",
   "metadata": {},
   "source": [
    "# Tensorboard 可视化工具\n"
   ]
  },
  {
   "cell_type": "markdown",
   "metadata": {},
   "source": [
    "        # -*- coding: utf-8 -*-\n",
    "        import tensorflow as tf\n",
    "        import numpy as np\n",
    "        import matplotlib.pyplot as plt\n",
    "        def add_layer(inputs,in_size,out_size,n_layer,activation_function=None):\n",
    "            layer_name='layer%d'%n_layer\n",
    "            with tf.name_scope(layer_name):\n",
    "                with tf.name_scope('Weights'):\n",
    "                    Weights = tf.Variable(tf.random_normal([in_size,out_size]),name='W')\n",
    "                    tf.summary.histogram(layer_name+'/weights',Weights)\n",
    "                with tf.name_scope('biases'):\n",
    "                    biases = tf.Variable(tf.zeros([1,out_size])+0.1,name='biases') \n",
    "                    tf.summary.histogram(layer_name+'/biases',biases)\n",
    "                #在机器学习中，biases的推荐值不为0，所以我们这里是在0向量的基础上又加了0.1。\n",
    "                with tf.name_scope('Wx_plus_b'):\n",
    "                    Wx_plus_b = tf.matmul(inputs,Weights)+biases\n",
    "                if activation_function is None:\n",
    "                    outputs = Wx_plus_b\n",
    "                else:\n",
    "                    outputs = activation_function(Wx_plus_b)\n",
    "                tf.summary.histogram(layer_name+'/outputs',outputs)\n",
    "                return outputs\n",
    "\n",
    "        x_data = np.linspace(-1,1,300).reshape((300,1))\n",
    "        noise = np.random.normal(0,0.05,x_data.shape)\n",
    "        y_data = np.square(x_data)+noise\n",
    "\n",
    "        with tf.name_scope('inputs'):\n",
    "            xs = tf.placeholder(tf.float32,[None,1],name='x_input')\n",
    "            ys = tf.placeholder(tf.float32,[None,1],name='y_input')\n",
    "        #add hidden layer\n",
    "        l1 = add_layer(xs,1,10,1,activation_function=tf.nn.relu)\n",
    "        #add output layer\n",
    "        prediction = add_layer(l1,10,1,2,activation_function=None)\n",
    "        with tf.name_scope('loss'):\n",
    "            loss = tf.reduce_mean(tf.reduce_sum(tf.square(ys-prediction)\n",
    "               ,reduction_indices=[1]))\n",
    "            tf.summary.scalar('loss',loss)\n",
    "        # reduction_indices=[1] 按行求和\n",
    "        # reduction_indices=[0] 按列求和\n",
    "\n",
    "\n",
    "        with tf.name_scope('Train'):\n",
    "            train_step = tf.train.GradientDescentOptimizer(0.1).minimize(loss)\n",
    "\n",
    "        merged = tf.summary.merge_all()\n",
    "\n",
    "        init = tf.global_variables_initializer()\n",
    "\n",
    "        sess = tf.Session()\n",
    "        writer = tf.summary.FileWriter(\"logs/\",sess.graph)\n",
    "\n",
    "        sess.run(init)\n",
    "\n",
    "        for i in range(1000):\n",
    "            sess.run(train_step,feed_dict={xs:x_data,ys:y_data})\n",
    "            if i%20==0:\n",
    "                result = sess.run(merged,\n",
    "                    feed_dict={xs:x_data,ys:y_data})\n",
    "                writer.add_summary(result,i)"
   ]
  },
  {
   "cell_type": "markdown",
   "metadata": {},
   "source": [
    "# Classification"
   ]
  },
  {
   "cell_type": "code",
   "execution_count": 2,
   "metadata": {
    "scrolled": true
   },
   "outputs": [
    {
     "name": "stdout",
     "output_type": "stream",
     "text": [
      "Extracting MNIST_data\\train-images-idx3-ubyte.gz\n",
      "Extracting MNIST_data\\train-labels-idx1-ubyte.gz\n",
      "Extracting MNIST_data\\t10k-images-idx3-ubyte.gz\n",
      "Extracting MNIST_data\\t10k-labels-idx1-ubyte.gz\n"
     ]
    }
   ],
   "source": [
    "from tensorflow.examples.tutorials.mnist import input_data \n",
    "mnist = input_data.read_data_sets('MNIST_data',one_hot=True)\n",
    "#载入 MNIST 的手写数字库"
   ]
  },
  {
   "cell_type": "code",
   "execution_count": 20,
   "metadata": {
    "collapsed": true
   },
   "outputs": [],
   "source": [
    "xs = tf.placeholder(tf.float32,[None,784]) #28x28 pixels\n",
    "ys = tf.placeholder(tf.float32,[None,10]) #10 slots to judge which number\n",
    "keep_prob=tf.placeholder(tf.float32)\n",
    "\n",
    "prediction = add_layer(xs,784,10,activation_function=tf.nn.softmax)\n",
    "\n",
    "cross_entropy = tf.reduce_mean(-tf.reduce_sum(ys*tf.log(prediction)\n",
    "                            ,reduction_indices=[1])) #loss 交叉熵\n",
    "train_step = tf.train.GradientDescentOptimizer(0.5).minimize(cross_entropy)\n",
    "\n",
    "init = tf.global_variables_initializer()\n",
    "sess = tf.Session()\n",
    "sess.run(init)\n"
   ]
  },
  {
   "cell_type": "code",
   "execution_count": 11,
   "metadata": {
    "collapsed": true
   },
   "outputs": [],
   "source": [
    "def compute_accuracy(v_xs,v_ys):\n",
    "    global prediction\n",
    "    y_pre = sess.run(prediction,feed_dict={xs:v_xs,keep_prob:1}) \n",
    "    correct_prediction = tf.equal(tf.argmax(y_pre,1),tf.argmax(v_ys,1))\n",
    "    accuracy = tf.reduce_mean(tf.cast(correct_prediction,tf.float32))\n",
    "    result = sess.run(accuracy,feed_dict={xs:v_xs,ys:v_ys,keep_prob:1})\n",
    "    return result"
   ]
  },
  {
   "cell_type": "code",
   "execution_count": 6,
   "metadata": {},
   "outputs": [
    {
     "name": "stdout",
     "output_type": "stream",
     "text": [
      "0.1462\n",
      "0.6446\n",
      "0.7397\n",
      "0.777\n",
      "0.8003\n",
      "0.8172\n",
      "0.8245\n",
      "0.8378\n",
      "0.8432\n",
      "0.8412\n",
      "0.8506\n",
      "0.852\n",
      "0.8597\n",
      "0.8629\n",
      "0.8616\n",
      "0.8601\n",
      "0.8708\n",
      "0.8719\n",
      "0.872\n",
      "0.8696\n"
     ]
    }
   ],
   "source": [
    "for i in range(1000):\n",
    "    batch_xs,batch_ys = mnist.train.next_batch(100)\n",
    "    # training\n",
    "    sess.run(train_step, feed_dict={xs: batch_xs, ys: batch_ys})\n",
    "    if i % 50 == 0:\n",
    "        print(compute_accuracy(\n",
    "            mnist.test.images, mnist.test.labels))"
   ]
  },
  {
   "cell_type": "code",
   "execution_count": 68,
   "metadata": {
    "scrolled": true
   },
   "outputs": [
    {
     "data": {
      "image/png": "[encoded data removed]",
      "text/plain": [
       "<matplotlib.figure.Figure at 0x1ed9530db70>"
      ]
     },
     "metadata": {},
     "output_type": "display_data"
    }
   ],
   "source": [
    "pred=sess.run(tf.argmax(sess.run(prediction,feed_dict={xs:mnist.test.images[0:20]}),1))\n",
    "actual = sess.run(tf.argmax(mnist.test.labels[0:20],1))\n",
    "import matplotlib.pyplot as plt\n",
    "for i in range(1,17):\n",
    "    plt.subplot(4,4,i)\n",
    "    plt.imshow(mnist.test.images[i-1].reshape((28,28)),cmap='gray')\n",
    "    plt.title('pred:%d actual:%d'%(pred[i-1],actual[i-1]))\n",
    "    plt.xticks(())\n",
    "    plt.yticks(())\n",
    "plt.tight_layout()\n",
    "plt.show()"
   ]
  },
  {
   "cell_type": "markdown",
   "metadata": {},
   "source": [
    "# dropout 解决 Overfitting 问题\n",
    "举个Regression (回归)的例子\n",
    "![image](https://morvanzhou.github.io/static/results/tensorflow/5_02_2.png)\n",
    "keep_prob是保留概率，即我们要保留的结果所占比例，它作为一个placeholder，在run时传入， 当keep_prob=1的时候，相当于100%保留，也就是dropout没有起作用。\n",
    "训练中keep_prob=1时，就可以暴露出overfitting问题。keep_prob=0.5时，dropout就发挥了作用。 我们可以两种参数分别运行程序，对比一下结果。\n",
    "\n",
    "当keep_prob=1时，模型对训练数据的适应性优于测试数据，存在overfitting，输出如下： 红线是 train 的误差, 蓝线是 test 的误差.\n",
    "![image](https://morvanzhou.github.io/static/results/tensorflow/5_02_3.png)\n",
    "当keep_prob=0.5时效果好了很多，输出如下：\n",
    "![image](https://morvanzhou.github.io/static/results/tensorflow/5_02_4.png)\n",
    "[code](C:\\Users\\Ruofan\\Desktop\\Programming\\Machine_Learning\\MachineLearning_PY\\jupyter_notes)"
   ]
  },
  {
   "cell_type": "markdown",
   "metadata": {
    "collapsed": true
   },
   "source": [
    "# CNN\n",
    "\n",
    "[Google's Tutorials](https://classroom.udacity.com/courses/ud730/lessons/6377263405/concepts/63796332430923)\n",
    "[zhihu:Pooling](https://www.zhihu.com/question/36686900)"
   ]
  },
  {
   "cell_type": "code",
   "execution_count": 15,
   "metadata": {
    "collapsed": true
   },
   "outputs": [],
   "source": [
    "#CNN 实现 MNIST\n",
    "def weight_variable(shape):\n",
    "    initial = tf.truncated_normal(shape,stddev=0.1) #切断正态分布\n",
    "    return tf.Variable(initial)"
   ]
  },
  {
   "cell_type": "code",
   "execution_count": 16,
   "metadata": {
    "collapsed": true
   },
   "outputs": [],
   "source": [
    "def bias_variable(shape):\n",
    "    initial = tf.constant(0.1,shape=shape)\n",
    "    return tf.Variable(initial)"
   ]
  },
  {
   "cell_type": "code",
   "execution_count": 17,
   "metadata": {
    "collapsed": true
   },
   "outputs": [],
   "source": [
    "def conv2d(x,W):\n",
    "    #strides format:[1,x_movement,y_movement,1]\n",
    "    #must have strides[0]=strides[3]=1\n",
    "    return tf.nn.conv2d(x,W,strides=[1,1,1,1],padding='SAME')\n",
    "# 第一个参数x的shape为[batch，height，width，channels]"
   ]
  },
  {
   "cell_type": "code",
   "execution_count": 18,
   "metadata": {
    "collapsed": true
   },
   "outputs": [],
   "source": [
    "def max_pool_2x2(x):\n",
    "    return tf.nn.max_pool(x,ksize=[1,2,2,1],strides=[1,2,2,1],padding='SAME')\n",
    "#ksize  池化窗口的大小  是一个四位向量  \n",
    "#一般为[1，height，width，1] 因为我们不想在batch和channels上做操作，所以这两个维度上设为1\n",
    "# 第三个参数，和卷积类似，窗口在每一个维度上滑动的步长，所以一般设为【1,stride，stride，1】"
   ]
  },
  {
   "cell_type": "code",
   "execution_count": 23,
   "metadata": {
    "scrolled": true
   },
   "outputs": [
    {
     "name": "stdout",
     "output_type": "stream",
     "text": [
      "0.0988\n",
      "0.907\n",
      "0.946\n",
      "0.9555\n",
      "0.9654\n",
      "0.9693\n",
      "0.9721\n",
      "0.9769\n",
      "0.977\n",
      "0.9812\n"
     ]
    }
   ],
   "source": [
    "x_image = tf.reshape(xs,[-1,28,28,1])\n",
    "#-1的含义是：我们自己不用去管这个维度的大小，\n",
    "# reshape会自动计算，但是我的这个列表中只能有一个  -1  。\n",
    "# 原因很简单，多个 -1  会造成多解的方程情况\n",
    "## conv1 layer##\n",
    "W_conv1 = weight_variable([5,5,1,32]) #patch 5*5 in size=1(单通道图片),out size=32(输出是32个featuremap)\n",
    "b_conv1 = bias_variable([32])\n",
    "h_conv1 = tf.nn.relu(conv2d(x_image,W_conv1)+b_conv1) # output size:28x28x32\n",
    "h_pool1 = max_pool_2x2(h_conv1) #output size 14x14x32\n",
    "\n",
    "## conv2 layer##\n",
    "W_conv2 = weight_variable([5,5,32,64]) #patch 5*5 in size=1(单通道图片),out size=32(输出是32个featuremap)\n",
    "b_conv2 = bias_variable([64])\n",
    "h_conv2 = tf.nn.relu(conv2d(h_pool1,W_conv2)+b_conv2) # output size:14x14x32\n",
    "h_pool2 = max_pool_2x2(h_conv2) #output size 7x7x32\n",
    "\n",
    "## func1 layer ##\n",
    "W_fc1 = weight_variable([7*7*64,1024])\n",
    "b_fc1 = bias_variable([1024])\n",
    "#[n_samples,7,7,64] --> [n_samples,7*7*64]\n",
    "h_pool2_flat = tf.reshape(h_pool2,[-1,7*7*64]) \n",
    "h_fc1 = tf.nn.relu(tf.matmul(h_pool2_flat,W_fc1)+b_fc1)\n",
    "h_fc1_drop = tf.nn.dropout(h_fc1,keep_prob)\n",
    "\n",
    "## func2 layer ##\n",
    "W_fc2 = weight_variable([1024,10])\n",
    "b_fc2 = bias_variable([10])\n",
    "prediction = tf.nn.softmax(tf.matmul(h_fc1_drop,W_fc2)+b_fc2)\n",
    "\n",
    "cross_entropy = tf.reduce_mean(-tf.reduce_sum(ys*tf.log(prediction)\n",
    "                            ,reduction_indices=[1])) #loss 交叉熵\n",
    "train_step = tf.train.AdamOptimizer(1e-3).minimize(cross_entropy)\n",
    "\n",
    "sess = tf.Session()\n",
    "sess.run(tf.global_variables_initializer())\n",
    "\n",
    "for i in range(500):\n",
    "    batch_xs,batch_ys = mnist.train.next_batch(100)\n",
    "    sess.run(train_step,feed_dict={xs:batch_xs,ys:batch_ys,keep_prob:0.5})\n",
    "    if i%50 == 0:\n",
    "        print(compute_accuracy(\n",
    "            mnist.test.images, mnist.test.labels))\n"
   ]
  },
  {
   "cell_type": "code",
   "execution_count": 28,
   "metadata": {},
   "outputs": [
    {
     "data": {
      "image/png": "[encoded data removed]",
      "text/plain": [
       "<matplotlib.figure.Figure at 0x1eba7f3a9e8>"
      ]
     },
     "metadata": {},
     "output_type": "display_data"
    }
   ],
   "source": [
    "pred=sess.run(tf.argmax(sess.run(prediction,feed_dict={xs:mnist.test.images[20:40],keep_prob:1}),1))\n",
    "actual = sess.run(tf.argmax(mnist.test.labels[20:40],1))\n",
    "import matplotlib.pyplot as plt\n",
    "for i in range(1,21):\n",
    "    plt.subplot(4,5,i)\n",
    "    plt.imshow(mnist.test.images[i-1+20].reshape((28,28)),cmap='gray')\n",
    "    plt.title('prd:%d act:%d'%(pred[i-1],actual[i-1]))\n",
    "    plt.xticks(())\n",
    "    plt.yticks(())\n",
    "plt.tight_layout()\n",
    "plt.show()"
   ]
  },
  {
   "cell_type": "markdown",
   "metadata": {},
   "source": [
    "# Saver 保存读取"
   ]
  },
  {
   "cell_type": "code",
   "execution_count": 29,
   "metadata": {
    "scrolled": true
   },
   "outputs": [
    {
     "name": "stdout",
     "output_type": "stream",
     "text": [
      "CNN_params/save_CNN.ckpt\n"
     ]
    }
   ],
   "source": [
    "## Save to a file\n",
    "saver = tf.train.Saver()\n",
    "save_path = saver.save(sess,\"CNN_params/save_CNN.ckpt\")\n",
    "print(save_path)"
   ]
  },
  {
   "cell_type": "code",
   "execution_count": 36,
   "metadata": {},
   "outputs": [
    {
     "name": "stdout",
     "output_type": "stream",
     "text": [
      "[ 0.12070176  0.09995873  0.10062521 ...,  0.10152204  0.1065667\n",
      "  0.09339794]\n"
     ]
    }
   ],
   "source": [
    "print(sess.run(b_fc1))"
   ]
  },
  {
   "cell_type": "code",
   "execution_count": 37,
   "metadata": {},
   "outputs": [
    {
     "name": "stdout",
     "output_type": "stream",
     "text": [
      "INFO:tensorflow:Restoring parameters from CNN_params/save_CNN.ckpt\n",
      "[ 0.12070176  0.09995873  0.10062521 ...,  0.10152204  0.1065667\n",
      "  0.09339794]\n"
     ]
    }
   ],
   "source": [
    "## Restore variables\n",
    "#redefine the same shape and type for  your variables\n",
    "# 先建立 W, b 的容器\n",
    "# W = tf.Variable(******)\n",
    "# b = tf.Variable(******)\n",
    "# *****\n",
    "# 这里不需要初始化步骤 init= tf.initialize_all_variables()\n",
    "\n",
    "saver = tf.train.Saver()\n",
    "    # 提取变量\n",
    "saver.restore(sess,\"CNN_params/save_CNN.ckpt\")\n",
    "print(sess.run(b_fc1))"
   ]
  },
  {
   "cell_type": "markdown",
   "metadata": {},
   "source": [
    "# RNN Classification\n",
    "[Google's Tutorials](https://classroom.udacity.com/courses/ud730/lessons/6378983156/concepts/63770919610923#)\n",
    "RNN recurrent neural networks 在序列化的预测当中是很有优势\n"
   ]
  },
  {
   "cell_type": "code",
   "execution_count": null,
   "metadata": {
    "collapsed": true
   },
   "outputs": [],
   "source": [
    "lr = 0.001\n",
    "training_iters = 10000\n",
    "batch_size = 128\n",
    "\n",
    "n_inputs = 28\n",
    "n_steps = 28 #reads line by line\n",
    "n_hidden_units = 128 # neurons in hidden layer\n",
    "\n",
    "x = tf.placeholder(tf.float32,[None,n_steps,n_inputs])\n",
    "y = tf.placeholder(tf.float32,[None,10])\n",
    "\n",
    "weights = {\n",
    "    #(28,28)\n",
    "    'in': tf.Variable(tf.random_normal([n_inputs, n_hidden_units])),\n",
    "    #(10,)\n",
    "    'out':tf.Variable(tf.random_normal([n_hidden_units,10]))\n",
    "}\n",
    "bias = {\n",
    "    #(128,)\n",
    "    'in':tf.Variable(tf.constant(0.1,shape=[n_hidden_units,])),\n",
    "    'out':tf.Variable(tf.constant(0.1,shape=[10,]))\n",
    "}\n",
    "\n",
    "def RNN(X,weights,bias):\n",
    "     # 原始的 X 是 3 维数据, 我们需要把它变成 2 维数据才能使用 weights 的矩阵乘法\n",
    "    # X ==> (128 batches * 28 steps, 28 inputs)\n",
    "    X = tf.reshape(X,[-1,n_inputs])\n",
    "    X_in = tf.matmul(X,weights['in'])+bias['in']\n",
    "    # X_in ==> (128 batches, 28 steps, 128 hidden) 换回3维\n",
    "    X_in = tf.reshape(X,[-1,28,28])\n",
    "    #cell\n",
    "    ###################################\n",
    "    # 使用 basic LSTM Cell.\n",
    "    lstm_cell = tf.nn.rnn_cell.BasicLSTMCell(n_hidden_units,forget_bias=1.0,state_is_tuple=True)\n",
    "    # 对于 lstm 来说, state可被分为(c_state, h_state).\n",
    "    # state_is_tuple  (c_state, h_state) (主线，分线) 元组\n",
    "    init_state = lstm_cell.zero_state(batch_size, dtype=tf.float32) # 初始化全零 state\n",
    "    outputs,states = tf.nn.dynamic_rnn(lstm_cell,X_in,initial_state=init_state,time_major=False)\n",
    "    #     tf.nn.dynamic_rnn 中的 time_major 参数会针对不同 inputs 格式有不同的值.\n",
    "    # 如果 inputs 为 (batches, steps, inputs) ==> time_major=False;\n",
    "    # 如果 inputs 为 (steps, batches, inputs) ==> time_major=True;\n",
    "    \n",
    "    #output layer\n",
    "    #method 1:直接调用final_state 中的 h_state (final_state[1]) 来进行运算:\n",
    "    result = tf.matmul(states[1], weights['out']) + bias['out']\n",
    "    #method 2:调用最后一个 outputs (在这个例子中,和上面的final_state[1]是一样的):\n",
    "    # 把 outputs 变成 列表 [(batch, outputs)..] * steps\n",
    "#     outputs = tf.unstack(tf.transpose(outputs, [1,0,2]))\n",
    "#     results = tf.matmul(outputs[-1], weights['out']) + biases['out']    #选取最后一个 output\n",
    "    return result\n",
    "\n",
    "pred = RNN(x, weights, bias)\n",
    "# Old style\n",
    "# cost = tf.reduce_mean(tf.nn.softmax_cross_entropy_with_logits(logits = pred,labels = y)) #cross_entropy\n",
    "# train_op = tf.train.AdamOptimizer(lr).minimize(cost)\n",
    "\n",
    "# correct_pred = tf.equal(tf.argmax(pred, 1), tf.argmax(y, 1))\n",
    "# accuracy = tf.reduce_mean(tf.cast(correct_pred, tf.float32))\n",
    "\n",
    "cost = tf.losses.softmax_cross_entropy(onehot_labels=y, logits=pred)  #cross_entrop\n",
    "train_op = tf.train.AdamOptimizer(lr).minimize(cost)\n",
    "\n",
    "accuracy = tf.metrics.accuracy(          # return (acc, update_op), and create 2 local variables\n",
    "    labels=tf.argmax(y, axis=1), predictions=tf.argmax(pred, axis=1),)[1]\n",
    "\n",
    "sess = tf.Session()\n",
    "init_op = tf.group(tf.global_variables_initializer(), tf.local_variables_initializer())\n",
    "# the local var is for accuracy_op\n",
    "sess.run(init_op)     # initialize var in graph"
   ]
  },
  {
   "cell_type": "code",
   "execution_count": 5,
   "metadata": {},
   "outputs": [
    {
     "name": "stdout",
     "output_type": "stream",
     "text": [
      "0.921875\n",
      "0.867188\n",
      "0.898438\n",
      "0.914063\n"
     ]
    }
   ],
   "source": [
    "step = 0\n",
    "while step * batch_size < training_iters:\n",
    "    batch_xs, batch_ys = mnist.train.next_batch(batch_size)\n",
    "    batch_xs = batch_xs.reshape([batch_size, n_steps, n_inputs])\n",
    "    sess.run([train_op], feed_dict={\n",
    "        x: batch_xs,\n",
    "        y: batch_ys,\n",
    "    })\n",
    "    if step % 20 == 0:\n",
    "        print(sess.run(accuracy, feed_dict={\n",
    "        x: batch_xs,\n",
    "        y: batch_ys,\n",
    "    }))\n",
    "    step += 1"
   ]
  },
  {
   "cell_type": "markdown",
   "metadata": {},
   "source": [
    "# ＲＮＮ Regression"
   ]
  },
  {
   "cell_type": "code",
   "execution_count": 1,
   "metadata": {},
   "outputs": [
    {
     "name": "stdout",
     "output_type": "stream",
     "text": [
      "cost: 10.0629\n",
      "cost: 0.193006\n"
     ]
    },
    {
     "data": {
      "image/png": "[encoded data removed]",
      "text/plain": [
       "<matplotlib.figure.Figure at 0x234bcb64470>"
      ]
     },
     "metadata": {},
     "output_type": "display_data"
    }
   ],
   "source": [
    "# -*- coding: utf-8 -*-\n",
    "import tensorflow as tf\n",
    "import numpy as np\n",
    "import matplotlib.pyplot as plt\n",
    "\n",
    "BATCH_START = 0     # 建立 batch data 时候的 index\n",
    "TIME_STEPS = 20     # backpropagation through time 的 time_steps\n",
    "BATCH_SIZE = 50     \n",
    "INPUT_SIZE = 1      # sin 数据输入 size\n",
    "OUTPUT_SIZE = 1     # cos 数据输出 size\n",
    "CELL_SIZE = 10      # RNN 的 hidden unit size \n",
    "LR = 0.006          # learning rate\n",
    "\n",
    "# #数据生成\n",
    "def get_batch():\n",
    "    global BATCH_START, TIME_STEPS\n",
    "    # xs shape (50batch, 20steps)\n",
    "    xs = np.arange(BATCH_START, BATCH_START+TIME_STEPS*BATCH_SIZE).reshape((BATCH_SIZE, TIME_STEPS)) /20.*np.pi\n",
    "    seq = np.sin(xs)\n",
    "    res = np.cos(xs)\n",
    "    BATCH_START += TIME_STEPS\n",
    "    # returned seq, res and xs: shape (batch, step, input)\n",
    "    return [seq[:, :, np.newaxis], res[:, :, np.newaxis], xs]\n",
    "# print(get_batch()[0],)\n",
    "# 定义 LSTMRNN 的主体结构\n",
    "\n",
    "class LSTMRNN(object):\n",
    "    def __init__(self, n_steps, input_size, output_size, cell_size, batch_size):\n",
    "        self.n_steps = n_steps\n",
    "        self.input_size = input_size\n",
    "        self.output_size = output_size\n",
    "        self.cell_size = cell_size\n",
    "        self.batch_size = batch_size\n",
    "        with tf.name_scope('inputs'):\n",
    "            self.xs = tf.placeholder(tf.float32, [None, n_steps, input_size], name='xs')\n",
    "            self.ys = tf.placeholder(tf.float32, [None, n_steps, output_size], name='ys')\n",
    "        with tf.variable_scope('in_hidden'):\n",
    "            self.add_input_layer()\n",
    "        with tf.variable_scope('LSTM_cell'):\n",
    "            self.add_cell()\n",
    "        with tf.variable_scope('out_hidden'):\n",
    "            self.add_output_layer()\n",
    "        with tf.name_scope('cost'):\n",
    "            self.compute_cost()\n",
    "        with tf.name_scope('train'):\n",
    "            self.train_op = tf.train.AdamOptimizer(LR).minimize(self.cost)\n",
    "    \n",
    "    def add_input_layer(self,):\n",
    "        l_in_x = tf.reshape(self.xs, [-1, self.input_size], name='2_2D')  # (batch*n_step, in_size)\n",
    "        # Ws (in_size, cell_size)\n",
    "        Ws_in = self._weight_variable([self.input_size, self.cell_size])\n",
    "        # bs (cell_size, )\n",
    "        bs_in = self._bias_variable([self.cell_size,])\n",
    "        # l_in_y = (batch * n_steps, cell_size)\n",
    "        with tf.name_scope('Wx_plus_b'):\n",
    "            l_in_y = tf.matmul(l_in_x, Ws_in) + bs_in\n",
    "        # reshape l_in_y ==> (batch, n_steps, cell_size)\n",
    "        self.l_in_y = tf.reshape(l_in_y, [-1, self.n_steps, self.cell_size], name='2_3D')\n",
    "\n",
    "    def add_cell(self):\n",
    "        lstm_cell = tf.contrib.rnn.BasicLSTMCell(self.cell_size, forget_bias=1.0, state_is_tuple=True)\n",
    "        with tf.name_scope('initial_state'):\n",
    "            self.cell_init_state = lstm_cell.zero_state(self.batch_size, dtype=tf.float32)\n",
    "        self.cell_outputs, self.cell_final_state = tf.nn.dynamic_rnn(\n",
    "            lstm_cell, self.l_in_y, initial_state=self.cell_init_state, time_major=False)\n",
    "\n",
    "    def add_output_layer(self):\n",
    "        # shape = (batch * steps, cell_size)\n",
    "        l_out_x = tf.reshape(self.cell_outputs, [-1, self.cell_size], name='2_2D')\n",
    "        Ws_out = self._weight_variable([self.cell_size, self.output_size])\n",
    "        bs_out = self._bias_variable([self.output_size, ])\n",
    "        # shape = (batch * steps, output_size)\n",
    "        with tf.name_scope('Wx_plus_b'):\n",
    "            self.pred = tf.matmul(l_out_x, Ws_out) + bs_out\n",
    "\n",
    "    def compute_cost(self):\n",
    "        losses = tf.contrib.legacy_seq2seq.sequence_loss_by_example(\n",
    "            [tf.reshape(self.pred, [-1], name='reshape_pred')],\n",
    "            [tf.reshape(self.ys, [-1], name='reshape_target')],\n",
    "            [tf.ones([self.batch_size * self.n_steps], dtype=tf.float32)],\n",
    "            average_across_timesteps=True,\n",
    "            softmax_loss_function=self.ms_error,\n",
    "            name='losses'\n",
    "        )\n",
    "        with tf.name_scope('average_cost'):\n",
    "            self.cost = tf.div(\n",
    "                tf.reduce_sum(losses, name='losses_sum'),\n",
    "                self.batch_size,\n",
    "                name='average_cost')\n",
    "            tf.summary.scalar('cost', self.cost)\n",
    "\n",
    "    def ms_error(self, labels, logits):\n",
    "        return tf.square(tf.subtract(labels, logits))\n",
    "\n",
    "    def _weight_variable(self, shape, name='weights'):\n",
    "        initializer = tf.random_normal_initializer(mean=0., stddev=1.,)\n",
    "        return tf.get_variable(shape=shape, initializer=initializer, name=name)\n",
    "\n",
    "    def _bias_variable(self, shape, name='biases'):\n",
    "        initializer = tf.constant_initializer(0.1)\n",
    "        return tf.get_variable(name=name, shape=shape, initializer=initializer)\n",
    "\n",
    "model = LSTMRNN(TIME_STEPS,INPUT_SIZE,OUTPUT_SIZE,CELL_SIZE,BATCH_SIZE)\n",
    "\n",
    "sess = tf.Session()\n",
    "merged = tf.summary.merge_all()\n",
    "writer = tf.summary.FileWriter('logs/RNN_regression',sess.graph)\n",
    "\n",
    "sess.run(tf.global_variables_initializer())\n",
    "\n",
    "# plt.ion()\n",
    "# plt.show()\n",
    "xa = [];pa=[];ya=[];\n",
    "for i in range(40):\n",
    "\tseq,res,xs = get_batch()\n",
    "\tif i == 0:\n",
    "\t\tfeed_dict = {\n",
    "\t\t\tmodel.xs:seq,\n",
    "\t\t\tmodel.ys:res\n",
    "\t\t\t#create initial state\n",
    "\t\t}\n",
    "\telse:\n",
    "\t\tfeed_dict = {\n",
    "\t\t\tmodel.xs:seq,\n",
    "\t\t\tmodel.ys:res,\n",
    "\t\t\tmodel.cell_init_state: state\n",
    "\t\t}\n",
    "\t_, cost, state, pred = sess.run(\n",
    "            [model.train_op, model.cost, model.cell_final_state, model.pred],\n",
    "            feed_dict=feed_dict)\n",
    "\txa.append(xs[0,:])\n",
    "\tya.append(res[0].flatten())\n",
    "\tpa.append(pred.flatten()[:TIME_STEPS])\n",
    "\n",
    "\tif i%20 == 0:\n",
    "\t\tprint('cost:',cost)\n",
    "\t\tresult = sess.run(merged,feed_dict)\n",
    "\t\twriter.add_summary(result,i)\n",
    "\n",
    "plt.plot(xa,ya,'r',xa,pa,'b--')\n",
    "plt.ylim((-1.2,1.2))\n",
    "plt.show()"
   ]
  },
  {
   "cell_type": "markdown",
   "metadata": {},
   "source": [
    "***\n",
    "# Autoencoder\n",
    "相关:[PCA](https://zhuanlan.zhihu.com/p/21580949)\n",
    "![image](https://morvanzhou.github.io/static/results/tensorflow/5_11_1.png)\n",
    "![image](https://morvanzhou.github.io/static/results/tensorflow/5_11_2.png)"
   ]
  },
  {
   "cell_type": "code",
   "execution_count": 7,
   "metadata": {
    "collapsed": true
   },
   "outputs": [],
   "source": [
    "# Parameter\n",
    "learning_rate = 0.01\n",
    "training_epochs = 5 # 五组训练\n",
    "batch_size = 256\n",
    "display_step = 1\n",
    "examples_to_show = 10\n",
    "# Network Parameters\n",
    "n_input = 784  # MNIST data input (img shape: 28*28)"
   ]
  },
  {
   "cell_type": "markdown",
   "metadata": {},
   "source": [
    "* 在压缩环节：我们要把这个Features不断压缩，经过第一个隐藏层压缩至256个 Features，再经过第二个隐藏层压缩至128个。\n",
    "* 在解压环节：我们将128个Features还原至256个，再经过一步还原至784个。\n",
    "* 在对比环节：比较原始数据与还原后的拥有 784 Features 的数据进行 cost 的对比，根据 cost 来提升我的 Autoencoder 的准确率，下图是两个隐藏层的 weights 和 biases 的定义："
   ]
  },
  {
   "cell_type": "code",
   "execution_count": 11,
   "metadata": {
    "collapsed": true
   },
   "outputs": [],
   "source": [
    "# hidden layers setting\n",
    "n_hidden_1 = 256\n",
    "n_hidden_2 = 128\n",
    "weights = {\n",
    "    'encoder_h1':tf.Variable(tf.random_normal([n_input,n_hidden_1])),\n",
    "    'encoder_h2': tf.Variable(tf.random_normal([n_hidden_1,n_hidden_2])),\n",
    "    'decoder_h1': tf.Variable(tf.random_normal([n_hidden_2,n_hidden_1])),\n",
    "    'decoder_h2': tf.Variable(tf.random_normal([n_hidden_1, n_input])),\n",
    "}\n",
    "baises = {\n",
    "    'encoder_b1':tf.Variable(tf.random_normal([n_hidden_1])),\n",
    "    'encoder_b2':tf.Variable(tf.random_normal([n_hidden_2])),\n",
    "    'decoder_b1':tf.Variable(tf.random_normal([n_hidden_1])),\n",
    "    'decoder_b2':tf.Variable(tf.random_normal([n_input])),\n",
    "}"
   ]
  },
  {
   "cell_type": "markdown",
   "metadata": {},
   "source": [
    "下面来定义 Encoder 和 Decoder ，使用的 Activation function 是 sigmoid， 压缩之后的值应该在 [0,1] 这个范围内。在 decoder 过程中，通常使用对应于 encoder 的 Activation function"
   ]
  },
  {
   "cell_type": "code",
   "execution_count": 14,
   "metadata": {
    "collapsed": true
   },
   "outputs": [],
   "source": [
    "#Building encoder\n",
    "def encoder(x):\n",
    "     # Encoder Hidden layer with sigmoid activation #1\n",
    "    layer_1 = tf.nn.sigmoid(tf.add(tf.matmul(x,weights['encoder_h1']),baises['encoder_b1']))\n",
    "    layer_2 = tf.nn.sigmoid(tf.add(tf.matmul(layer_1,weights['encoder_h2']),baises['encoder_b2']))\n",
    "    return layer_2\n",
    "\n",
    "#Building decoder\n",
    "def decoder(x):\n",
    "    layer_1 = tf.nn.sigmoid(tf.add(tf.matmul(x,weights['decoder_h1']),baises['decoder_b1']))\n",
    "    layer_2 = tf.nn.sigmoid(tf.add(tf.matmul(layer_1,weights['decoder_h2']),baises['decoder_b2']))\n",
    "    return layer_2"
   ]
  },
  {
   "cell_type": "code",
   "execution_count": 15,
   "metadata": {
    "collapsed": true
   },
   "outputs": [],
   "source": [
    "# 来实现 Encoder 和 Decoder 输出的结果\n",
    "X = tf.placeholder(tf.float32,[None,n_input])\n",
    "encoder_op = encoder(X)\n",
    "decoder_op = decoder(encoder_op)\n",
    "\n",
    "# Prediction\n",
    "y_pred = decoder_op # After \n",
    "# Targets (Labels) are the input data.\n",
    "y_true = X  # Before"
   ]
  },
  {
   "cell_type": "markdown",
   "metadata": {},
   "source": [
    "再通过我们非监督学习进行对照，即对 “原始的有 784 Features 的数据集” 和 “通过 ‘Prediction’ 得出的有 784 Features 的数据集” 进行最小二乘法的计算，并且使 cost 最小化;\n",
    "最后，通过 Matplotlib 的 pyplot 模块将结果显示出来， 注意在输出时MNIST数据集经过压缩之后 x 的最大值是1，而非255"
   ]
  },
  {
   "cell_type": "code",
   "execution_count": 16,
   "metadata": {},
   "outputs": [
    {
     "name": "stdout",
     "output_type": "stream",
     "text": [
      "Epoch: 0001 cost= 0.087771297\n",
      "Epoch: 0002 cost= 0.074403785\n",
      "Epoch: 0003 cost= 0.069777764\n",
      "Epoch: 0004 cost= 0.064507999\n",
      "Epoch: 0005 cost= 0.063557647\n",
      "Optimization Finished!\n"
     ]
    }
   ],
   "source": [
    "# Define loss and optimizer, minimize the squared error\n",
    "cost = tf.reduce_mean(tf.pow(y_true-y_pred,2))\n",
    "optimizer = tf.train.AdamOptimizer(learning_rate).minimize(cost)\n",
    "#Lauch the graph\n",
    "sess = tf.Session()\n",
    "sess.run(tf.global_variables_initializer())\n",
    "total_batch = int(mnist.train.num_examples/batch_size)\n",
    "\n",
    "for epoch in range(training_epochs):\n",
    "    for i in range(total_batch):\n",
    "        batch_xs,batch_ys = mnist.train.next_batch(batch_size) # max(x) = 1, min(x) = 0\n",
    "        _,c = sess.run([optimizer,cost],feed_dict={X:batch_xs})\n",
    "    if epoch % display_step == 0:\n",
    "        print(\"Epoch:\", '%04d' % (epoch+1),\n",
    "              \"cost=\", \"{:.9f}\".format(c))\n",
    "print(\"Optimization Finished!\")\n",
    "# # Applying encode and decode over test set"
   ]
  },
  {
   "cell_type": "code",
   "execution_count": 22,
   "metadata": {
    "scrolled": true
   },
   "outputs": [
    {
     "data": {
      "image/png": "[encoded data removed]",
      "text/plain": [
       "<matplotlib.figure.Figure at 0x2440ba51278>"
      ]
     },
     "metadata": {},
     "output_type": "display_data"
    }
   ],
   "source": [
    "import matplotlib.pyplot as plt\n",
    "encode_decode = sess.run(\n",
    "    y_pred, feed_dict={X: mnist.test.images[:examples_to_show]})\n",
    "fig,ax = plt.subplots(2,10,figsize=(10,2))\n",
    "for i in range(examples_to_show):\n",
    "    ax[0][i].imshow(np.reshape(mnist.test.images[i],(28,28)))\n",
    "#     ax[1][i].imshow(np.reshape)\n",
    "    ax[1][i].imshow(np.reshape(encode_decode[i], (28, 28)),)\n",
    "    ax[0][i].set_xticks(()); ax[0][i].set_yticks(())\n",
    "    ax[1][i].set_xticks(()); ax[1][i].set_yticks(())\n",
    "plt.show()"
   ]
  },
  {
   "cell_type": "markdown",
   "metadata": {},
   "source": [
    "## Another example\n",
    "只显示 encoder 之后的数据， 并画在一个二维直角坐标系内。做法很简单，我们将原有 784 Features 的数据压缩成仅剩 2 Features 的数据"
   ]
  },
  {
   "cell_type": "code",
   "execution_count": 5,
   "metadata": {
    "collapsed": true
   },
   "outputs": [],
   "source": [
    "# Parameters\n",
    "learning_rate = 0.01    # 0.01 this learning rate will be better! Tested\n",
    "training_epochs = 10\t# 10 Epoch 训练\n",
    "batch_size = 256\n",
    "display_step = 1\n",
    "# 通过四层 Hidden Layers 实现将 784 Features 压缩至 2 Features：\n",
    "# hidden layer settings\n",
    "n_hidden_1 = 128\n",
    "n_hidden_2 = 64\n",
    "n_hidden_3 = 10\n",
    "n_hidden_4 = 2\n",
    "\n",
    "n_input = 784"
   ]
  },
  {
   "cell_type": "code",
   "execution_count": 6,
   "metadata": {
    "collapsed": true
   },
   "outputs": [],
   "source": [
    "weights = {\n",
    "    'encoder_h1': tf.Variable(tf.truncated_normal([n_input, n_hidden_1],)),\n",
    "    'encoder_h2': tf.Variable(tf.truncated_normal([n_hidden_1, n_hidden_2],)),\n",
    "    'encoder_h3': tf.Variable(tf.truncated_normal([n_hidden_2, n_hidden_3],)),\n",
    "    'encoder_h4': tf.Variable(tf.truncated_normal([n_hidden_3, n_hidden_4],)),\n",
    "\n",
    "    'decoder_h1': tf.Variable(tf.truncated_normal([n_hidden_4, n_hidden_3],)),\n",
    "    'decoder_h2': tf.Variable(tf.truncated_normal([n_hidden_3, n_hidden_2],)),\n",
    "    'decoder_h3': tf.Variable(tf.truncated_normal([n_hidden_2, n_hidden_1],)),\n",
    "    'decoder_h4': tf.Variable(tf.truncated_normal([n_hidden_1, n_input],)),\n",
    "\t}\n",
    "biases = {\n",
    "    'encoder_b1': tf.Variable(tf.random_normal([n_hidden_1])),\n",
    "    'encoder_b2': tf.Variable(tf.random_normal([n_hidden_2])),\n",
    "    'encoder_b3': tf.Variable(tf.random_normal([n_hidden_3])),\n",
    "    'encoder_b4': tf.Variable(tf.random_normal([n_hidden_4])),\n",
    "\n",
    "    'decoder_b1': tf.Variable(tf.random_normal([n_hidden_3])),\n",
    "    'decoder_b2': tf.Variable(tf.random_normal([n_hidden_2])),\n",
    "    'decoder_b3': tf.Variable(tf.random_normal([n_hidden_1])),\n",
    "    'decoder_b4': tf.Variable(tf.random_normal([n_input])),\n",
    "\t}"
   ]
  },
  {
   "cell_type": "markdown",
   "metadata": {},
   "source": [
    "与类型一类似，创建四层神经网络。（注意：在第四层时，输出量不再是 [0,1] 范围内的数，而是将数据通过默认的 Linear activation function 调整为 (-∞,∞) ："
   ]
  },
  {
   "cell_type": "code",
   "execution_count": 7,
   "metadata": {
    "collapsed": true
   },
   "outputs": [],
   "source": [
    "def encoder_2(x):\n",
    "    layer_1 = tf.nn.sigmoid(tf.add(tf.matmul(x, weights['encoder_h1']),\n",
    "                                   biases['encoder_b1']))\n",
    "    layer_2 = tf.nn.sigmoid(tf.add(tf.matmul(layer_1, weights['encoder_h2']),\n",
    "                                   biases['encoder_b2']))\n",
    "    layer_3 = tf.nn.sigmoid(tf.add(tf.matmul(layer_2, weights['encoder_h3']),\n",
    "                                   biases['encoder_b3']))\n",
    "    layer_4 = tf.add(tf.matmul(layer_3, weights['encoder_h4']),\n",
    "                                    biases['encoder_b4'])\n",
    "    return layer_4\n",
    "\n",
    "def decoder_2(x):\n",
    "    layer_1 = tf.nn.sigmoid(tf.add(tf.matmul(x, weights['decoder_h1']),\n",
    "                                   biases['decoder_b1']))\n",
    "    layer_2 = tf.nn.sigmoid(tf.add(tf.matmul(layer_1, weights['decoder_h2']),\n",
    "                                   biases['decoder_b2']))\n",
    "    layer_3 = tf.nn.sigmoid(tf.add(tf.matmul(layer_2, weights['decoder_h3']),\n",
    "                                biases['decoder_b3']))\n",
    "    layer_4 = tf.nn.sigmoid(tf.add(tf.matmul(layer_3, weights['decoder_h4']),\n",
    "                                biases['decoder_b4']))\n",
    "    return layer_4"
   ]
  },
  {
   "cell_type": "code",
   "execution_count": 8,
   "metadata": {
    "collapsed": true
   },
   "outputs": [],
   "source": [
    "# 来实现 Encoder 和 Decoder 输出的结果\n",
    "X = tf.placeholder(tf.float32,[None,n_input])\n",
    "encoder_op = encoder_2(X)\n",
    "decoder_op = decoder_2(encoder_op)\n",
    "\n",
    "# Prediction\n",
    "y_pred = decoder_op # After \n",
    "# Targets (Labels) are the input data.\n",
    "y_true = X  # Before"
   ]
  },
  {
   "cell_type": "code",
   "execution_count": 9,
   "metadata": {},
   "outputs": [
    {
     "name": "stdout",
     "output_type": "stream",
     "text": [
      "Epoch: 0001 cost= 0.063040882\n",
      "Epoch: 0002 cost= 0.060418714\n",
      "Epoch: 0003 cost= 0.054115120\n",
      "Epoch: 0004 cost= 0.052169196\n",
      "Epoch: 0005 cost= 0.048290014\n",
      "Epoch: 0006 cost= 0.047078948\n",
      "Epoch: 0007 cost= 0.046069369\n",
      "Epoch: 0008 cost= 0.045347244\n",
      "Epoch: 0009 cost= 0.043194409\n",
      "Epoch: 0010 cost= 0.042450868\n",
      "Optimization Finished!\n"
     ]
    }
   ],
   "source": [
    "# Define loss and optimizer, minimize the squared error\n",
    "cost = tf.reduce_mean(tf.pow(y_true-y_pred,2))\n",
    "optimizer = tf.train.AdamOptimizer(learning_rate).minimize(cost)\n",
    "#Lauch the graph\n",
    "sess = tf.Session()\n",
    "sess.run(tf.global_variables_initializer())\n",
    "total_batch = int(mnist.train.num_examples/batch_size)\n",
    "\n",
    "for epoch in range(training_epochs):\n",
    "    for i in range(total_batch):\n",
    "        batch_xs,batch_ys = mnist.train.next_batch(batch_size) # max(x) = 1, min(x) = 0\n",
    "        _,c = sess.run([optimizer,cost],feed_dict={X:batch_xs})\n",
    "    if epoch % display_step == 0:\n",
    "        print(\"Epoch:\", '%04d' % (epoch+1),\n",
    "              \"cost=\", \"{:.9f}\".format(c))\n",
    "print(\"Optimization Finished!\")\n",
    "# # Applying encode and decode over test set"
   ]
  },
  {
   "cell_type": "code",
   "execution_count": 14,
   "metadata": {},
   "outputs": [
    {
     "data": {
      "image/png": "[encoded data removed]",
      "text/plain": [
       "<matplotlib.figure.Figure at 0x22700a787b8>"
      ]
     },
     "metadata": {},
     "output_type": "display_data"
    }
   ],
   "source": [
    "import matplotlib.pyplot as plt\n",
    "encoder_result = sess.run(encoder_op,feed_dict={X:mnist.test.images})\n",
    "plt.scatter(encoder_result[:,0],encoder_result[:,1],cmap='rainbow',c=np.argmax(mnist.test.labels,1))\n",
    "plt.colorbar()\n",
    "plt.show()"
   ]
  },
  {
   "cell_type": "markdown",
   "metadata": {},
   "source": [
    "# scope 命名方法\n",
    "在 Tensorflow 当中有两种途径生成变量 variable, 一种是 tf.get_variable(), 另一种是 tf.Variable(). 如果在 tf.name_scope() 的框架下使用这两种方式, 结果会如下."
   ]
  },
  {
   "cell_type": "code",
   "execution_count": 2,
   "metadata": {
    "scrolled": false
   },
   "outputs": [
    {
     "name": "stdout",
     "output_type": "stream",
     "text": [
      "var1:0\n",
      "[ 1.]\n",
      "a_name_scope/var2:0\n",
      "[ 2.]\n",
      "a_name_scope/var2_1:0\n",
      "[ 2.0999999]\n",
      "a_name_scope/var2_2:0\n",
      "[ 2.20000005]\n"
     ]
    }
   ],
   "source": [
    "with tf.name_scope('a_name_scope'):\n",
    "    initializer = tf.constant_initializer(value = 1)\n",
    "    var1 = tf.get_variable(name='var1', shape=[1], dtype=tf.float32, initializer=initializer)\n",
    "    var2 = tf.Variable(name='var2', initial_value=[2], dtype=tf.float32)\n",
    "    var21 = tf.Variable(name='var2', initial_value=[2.1], dtype=tf.float32)\n",
    "    var22 = tf.Variable(name='var2', initial_value=[2.2], dtype=tf.float32)\n",
    "\n",
    "with tf.Session() as sess:\n",
    "    sess.run(tf.global_variables_initializer())\n",
    "    print(var1.name)        # var1:0\n",
    "    print(sess.run(var1))   # [ 1.]\n",
    "    print(var2.name)        # a_name_scope/var2:0\n",
    "    print(sess.run(var2))   # [ 2.]\n",
    "    print(var21.name)       # a_name_scope/var2_1:0\n",
    "    print(sess.run(var21))  # [ 2.0999999]\n",
    "    print(var22.name)       # a_name_scope/var2_2:0\n",
    "    print(sess.run(var22))  # [ 2.20000005]\n"
   ]
  },
  {
   "cell_type": "markdown",
   "metadata": {},
   "source": [
    "可以看出使用 tf.Variable() 定义的时候, 虽然 name 都一样, 但是为了不重复变量名, Tensorflow 输出的变量名并不是一样的. 所以, 本质上 var2, var21, var22 并不是一样的变量. 而另一方面, 使用tf.get_variable()定义的变量不会被tf.name_scope()当中的名字所影响."
   ]
  },
  {
   "cell_type": "markdown",
   "metadata": {},
   "source": [
    "## tf.variable_scope() \n",
    "如果想要达到重复利用变量的效果, 我们就要使用 tf.variable_scope(), 并搭配 tf.get_variable() 这种方式产生和提取变量. 不像 tf.Variable() 每次都会产生新的变量, tf.get_variable() 如果遇到了同样名字的变量时, 它会单纯的提取这个同样名字的变量(避免产生新变量). 而在重复使用的时候, 一定要在代码中强调 scope.reuse_variables(), 否则系统将会报错, 以为你只是单纯的不小心重复使用到了一个变量."
   ]
  },
  {
   "cell_type": "code",
   "execution_count": 2,
   "metadata": {},
   "outputs": [
    {
     "name": "stdout",
     "output_type": "stream",
     "text": [
      "a_variable_scope/var3:0\n",
      "[ 3.]\n",
      "a_variable_scope/var3:0\n",
      "[ 3.]\n",
      "a_variable_scope/var4:0\n",
      "[ 4.]\n",
      "a_variable_scope/var4_1:0\n",
      "[ 4.]\n"
     ]
    }
   ],
   "source": [
    "with tf.variable_scope(\"a_variable_scope\") as scope:\n",
    "    initializer = tf.constant_initializer(value=3)\n",
    "    var3 = tf.get_variable(name='var3', shape=[1], dtype=tf.float32, initializer=initializer)\n",
    "    scope.reuse_variables()\n",
    "    var3_reuse = tf.get_variable(name='var3',)\n",
    "    var4 = tf.Variable(name='var4', initial_value=[4], dtype=tf.float32)\n",
    "    var4_reuse = tf.Variable(name='var4', initial_value=[4], dtype=tf.float32)\n",
    "    \n",
    "with tf.Session() as sess:\n",
    "    sess.run(tf.global_variables_initializer())\n",
    "    print(var3.name)            # a_variable_scope/var3:0\n",
    "    print(sess.run(var3))       # [ 3.]\n",
    "    print(var3_reuse.name)      # a_variable_scope/var3:0\n",
    "    print(sess.run(var3_reuse)) # [ 3.]\n",
    "    print(var4.name)            # a_variable_scope/var4:0\n",
    "    print(sess.run(var4))       # [ 4.]\n",
    "    print(var4_reuse.name)      # a_variable_scope/var4_1:0\n",
    "    print(sess.run(var4_reuse)) # [ 4.]"
   ]
  },
  {
   "cell_type": "markdown",
   "metadata": {},
   "source": [
    "## RNN应用例子 \n",
    "RNN 例子的代码在[这里](https://github.com/MorvanZhou/tutorials/blob/master/tensorflowTUT/tf22_scope/tf22_RNN_scope.py), 整个 RNN 的结构已经在这里定义好了. 在 training RNN 和 test RNN 的时候, RNN 的 time_steps 会有不同的取值, 这将会影响到整个 RNN 的结构, 所以导致在 test 的时候, 不能单纯地使用 training 时建立的那个 RNN. 但是 training RNN 和 test RNN 又必须是有同样的 weights biases 的参数. 所以, 这时, 就是使用 reuse variable 的好时机.\n",
    "\n",
    "首先定义training 和 test 的不同参数.\n",
    "\n",
    "    class TrainConfig:\n",
    "        batch_size = 20\n",
    "        time_steps = 20\n",
    "        input_size = 10\n",
    "        output_size = 2\n",
    "        cell_size = 11\n",
    "        learning_rate = 0.01\n",
    "\n",
    "\n",
    "    class TestConfig(TrainConfig):\n",
    "        time_steps = 1\n",
    "\n",
    "    train_config = TrainConfig()\n",
    "    test_config = TestConfig()\n",
    "然后让 train_rnn 和 test_rnn 在同一个 tf.variable_scope('rnn') 之下. 并且定义 scope.reuse_variables(), 使我们能把 train_rnn 的所有 weights, biases 参数全部绑定到 test_rnn 中. 这样, 不管两者的 time_steps 有多不同, 结构有多不同, train_rnn W, b 参数更新成什么样, test_rnn 的参数也更新成什么样.\n",
    "\n",
    "    with tf.variable_scope('rnn') as scope:\n",
    "        sess = tf.Session()\n",
    "        train_rnn = RNN(train_config)\n",
    "        scope.reuse_variables()\n",
    "        test_rnn = RNN(test_config)\n",
    "        sess.run(tf.global_variables_initializer())"
   ]
  },
  {
   "cell_type": "markdown",
   "metadata": {},
   "source": [
    "# Batch Normalization\n",
    "Batch normalization 是一种解决深度神经网络层数太多, 而没办法有效前向传递(forward propagate)的问题. 因为每一层的输出值都会有不同的 均值(mean) 和 方差(deviation), 所以输出数据的分布也不一样, 如下图, 从左到右是每一层的输入数据分布, 上排的没有 Batch normalization, 下排的有 Batch normalization.\n",
    "![image](https://morvanzhou.github.io/static/results/tensorflow/5_13_01.png)\n",
    "我们以前说过, 为了更有效的学习数据, 我们会对数据预处理, 进行 normalization (请参考我制作的 为什么要特征标准化). 而现在请想象, 我们可以把 “每层输出的值” 都看成 “后面一层所接收的数据”. 对每层都进行一次 normalization 会不会更好呢? 这就是 Batch normalization 方法的由来."
   ]
  },
  {
   "cell_type": "code",
   "execution_count": 3,
   "metadata": {
    "collapsed": true
   },
   "outputs": [],
   "source": [
    "import numpy as np\n",
    "import tensorflow as tf\n",
    "import matplotlib.pyplot as plt\n",
    "\n",
    "\n",
    "ACTIVATION = tf.nn.tanh # 每一层都使用 relu \n",
    "N_LAYERS = 7            # 一共7层隐藏层\n",
    "N_HIDDEN_UNITS = 30     # 每个层隐藏层有 30 个神经元"
   ]
  },
  {
   "cell_type": "code",
   "execution_count": 4,
   "metadata": {
    "collapsed": true
   },
   "outputs": [],
   "source": [
    "def fix_seed(seed=1):\n",
    "    # reproducible\n",
    "    np.random.seed(seed)\n",
    "    tf.set_random_seed(seed)"
   ]
  },
  {
   "cell_type": "code",
   "execution_count": 5,
   "metadata": {
    "collapsed": true
   },
   "outputs": [],
   "source": [
    "def plot_his(inputs,inputs_norm):\n",
    "    # plot histogram for the inputs of every layer\n",
    "#     enumerate(iterable[, start]) -> iterator for index, value of iterable\n",
    "    for j,all_inputs in  enumerate([inputs,inputs_norm]):\n",
    "        for i,input in enumerate(all_inputs):\n",
    "            plt.subplot(2, len(all_inputs), j*len(all_inputs)+(i+1))\n",
    "            plt.cla() #clear current axes\n",
    "            if i==0:\n",
    "                the_range = (-7,10)\n",
    "            else:\n",
    "                the_range = (-1,1)\n",
    "            plt.hist(input.ravel(),bins=15,range=the_range,color='#FF5733') #bins 柱状图条数\n",
    "            plt.yticks(())\n",
    "            if j == 1:\n",
    "                plt.xticks(the_range)\n",
    "            else:\n",
    "                plt.xticks(())\n",
    "            ax = plt.gca()\n",
    "            ax.spines['right'].set_color('none')\n",
    "            ax.spines['top'].set_color('none')\n",
    "        plt.title(\"%s normalizing\" % (\"Without\" if j == 0 else \"With\"))\n",
    "#         plt.tight_layout()\n",
    "        plt.draw()\n",
    "        plt.pause(0.05)"
   ]
  },
  {
   "cell_type": "code",
   "execution_count": 6,
   "metadata": {
    "collapsed": true
   },
   "outputs": [],
   "source": [
    "def built_net(xs,ys,norm):\n",
    "    def add_layer(inputs,in_size,out_size,activation_function=None,norm=False):\n",
    "         # weights and biases (bad initialization for this case)\n",
    "        Weights = tf.Variable(tf.random_normal([in_size, out_size], mean=0., stddev=1.))\n",
    "        biases = tf.Variable(tf.zeros([1, out_size]) + 0.1)\n",
    "        \n",
    "        # fully connected product\n",
    "        Wx_plus_b = tf.matmul(inputs, Weights) + biases\n",
    "        \n",
    "        #normalize fully connected product\n",
    "        if norm:\n",
    "            # Batch Normalize\n",
    "            fc_mean,fc_var = tf.nn.moments(\n",
    "                Wx_plus_b,\n",
    "                axes=[0]\n",
    "                # the dimension you wanna normalize, here [0] for batch\n",
    "                            # for image, you wanna do [0, 1, 2] for [batch, height, width] but not channel\n",
    "            )\n",
    "            scale = tf.Variable(tf.ones([out_size]))\n",
    "            shift = tf.Variable(tf.zeros([out_size]))\n",
    "            epsilon = 0.001\n",
    "            \n",
    "            # apply moving average for mean and var when train on batch\n",
    "            ema = tf.train.ExponentialMovingAverage(decay=0.5) # exponential moving average 的 decay 度\n",
    "            def mean_var_with_update():\n",
    "                ema_apply_op = ema.apply([fc_mean, fc_var])\n",
    "                with tf.control_dependencies([ema_apply_op]):\n",
    "                    return tf.identity(fc_mean), tf.identity(fc_var)\n",
    "            mean, var = mean_var_with_update()   # 根据新的 batch 数据, 记录并稍微修改之前的 mean/var\n",
    "# 如果你是使用 batch 进行每次的更新, 那每个 batch 的 mean/var 都会不同, \n",
    "# 所以我们可以使用 moving average 的方法记录并慢慢改进 mean/var 的值. \n",
    "# 然后将修改提升后的 mean/var 放入 tf.nn.batch_normalization(). \n",
    "# 而且在 test 阶段, 我们就可以直接调用最后一次修改的 mean/var 值进行测试, 而不是采用 test 时的 fc_mean/fc_var.\n",
    "            Wx_plus_b = tf.nn.batch_normalization(Wx_plus_b, mean, var, shift, scale, epsilon)\n",
    "            # similar with this two steps:\n",
    "            # Wx_plus_b = (Wx_plus_b - fc_mean) / tf.sqrt(fc_var + 0.001)\n",
    "            # Wx_plus_b = Wx_plus_b * scale + shift\n",
    "        # activation\n",
    "        if activation_function is None:\n",
    "            outputs = Wx_plus_b\n",
    "        else:\n",
    "            outputs = activation_function(Wx_plus_b)\n",
    "        return outputs\n",
    "    fix_seed(1)\n",
    "    \n",
    "    if norm:\n",
    "        # BN for the first input\n",
    "        fc_mean, fc_var = tf.nn.moments(\n",
    "            xs,\n",
    "            axes=[0],\n",
    "        )\n",
    "        scale = tf.Variable(tf.ones([1]))\n",
    "        shift = tf.Variable(tf.zeros([1]))\n",
    "        epsilon = 0.001\n",
    "        # apply moving average for mean and var when train on batch\n",
    "        ema = tf.train.ExponentialMovingAverage(decay=0.5)\n",
    "        def mean_var_with_update():\n",
    "            ema_apply_op = ema.apply([fc_mean, fc_var])\n",
    "            with tf.control_dependencies([ema_apply_op]):\n",
    "                return tf.identity(fc_mean), tf.identity(fc_var)\n",
    "        mean, var = mean_var_with_update()\n",
    "        xs = tf.nn.batch_normalization(xs, mean, var, shift, scale, epsilon)\n",
    "    # record inputs for every layer\n",
    "    layers_inputs = [xs]\n",
    "    \n",
    "    #build hidden layers\n",
    "    for l_n in range(N_LAYERS):\n",
    "        layer_input = layers_inputs[l_n]\n",
    "        in_size = layers_inputs[l_n].get_shape()[1].value\n",
    "\n",
    "        output = add_layer(\n",
    "            layer_input,    # input\n",
    "            in_size,        # input size\n",
    "            N_HIDDEN_UNITS, # output size\n",
    "            ACTIVATION,     # activation function\n",
    "            norm,           # normalize before activation\n",
    "        )\n",
    "        layers_inputs.append(output)    # add output for next run\n",
    "\n",
    "    #build output layer\n",
    "    prediction = add_layer(layers_inputs[-1],30,1,activation_function=None)\n",
    "\n",
    "    cost = tf.reduce_mean(tf.reduce_sum(tf.square(ys-prediction),reduction_indices =[1]))\n",
    "    train_op = tf.train.GradientDescentOptimizer(0.001).minimize(cost)\n",
    "    return [train_op,cost,layers_inputs]\n"
   ]
  },
  {
   "cell_type": "code",
   "execution_count": 7,
   "metadata": {},
   "outputs": [
    {
     "name": "stderr",
     "output_type": "stream",
     "text": [
      "C:\\Users\\Ruofan\\Anaconda3\\lib\\site-packages\\numpy\\lib\\function_base.py:748: RuntimeWarning: invalid value encountered in greater_equal\n",
      "  keep = (tmp_a >= mn)\n",
      "C:\\Users\\Ruofan\\Anaconda3\\lib\\site-packages\\numpy\\lib\\function_base.py:749: RuntimeWarning: invalid value encountered in less_equal\n",
      "  keep &= (tmp_a <= mx)\n"
     ]
    },
    {
     "data": {
      "image/png": "[encoded data removed]",
      "text/plain": [
       "<matplotlib.figure.Figure at 0x1b7704bbba8>"
      ]
     },
     "metadata": {},
     "output_type": "display_data"
    },
    {
     "data": {
      "image/png": "[encoded data removed]",
      "text/plain": [
       "<matplotlib.figure.Figure at 0x1b7760e4320>"
      ]
     },
     "metadata": {},
     "output_type": "display_data"
    },
    {
     "data": {
      "image/png": "[encoded data removed]",
      "text/plain": [
       "<matplotlib.figure.Figure at 0x1b777e879e8>"
      ]
     },
     "metadata": {},
     "output_type": "display_data"
    },
    {
     "data": {
      "image/png": "[encoded data removed]",
      "text/plain": [
       "<matplotlib.figure.Figure at 0x1b776aabbe0>"
      ]
     },
     "metadata": {},
     "output_type": "display_data"
    }
   ],
   "source": [
    "# make up data\n",
    "fix_seed(1)\n",
    "x_data = np.linspace(-7,10,2500)[:,np.newaxis]\n",
    "np.random.shuffle(x_data)\n",
    "noise = np.random.normal(0,8,x_data.shape)\n",
    "y_data = x_data**2 -5 + noise\n",
    "\n",
    "plt.scatter(x_data,y_data)\n",
    "# plt.show()\n",
    "\n",
    "xs = tf.placeholder(tf.float32,[None,1])\n",
    "ys = tf.placeholder(tf.float32,[None,1])\n",
    "\n",
    "train_op,cost,layers_inputs = built_net(xs,ys,norm=False)\n",
    "train_op_norm, cost_norm, layers_inputs_norm = built_net(xs, ys, norm=True) # with BN\n",
    "\n",
    "sess = tf.Session()\n",
    "sess.run(tf.global_variables_initializer())\n",
    "\n",
    "#record cost\n",
    "cost_his = []\n",
    "cost_his_norm = []\n",
    "record_step =5\n",
    "\n",
    "# plt.ion()\n",
    "plt.figure(figsize=(7,3))\n",
    "for i in range(250):\n",
    "    if i == 249:\n",
    "        all_inputs, all_inputs_norm = sess.run([layers_inputs, layers_inputs_norm], feed_dict={xs: x_data, ys: y_data})\n",
    "        plot_his(all_inputs, all_inputs_norm)\n",
    "\n",
    "    #train on batch\n",
    "    sess.run([train_op,train_op_norm],feed_dict={xs: x_data[i:2500:250], ys: y_data[i:2500:250]})\n",
    "\n",
    "    if i%record_step == 0:\n",
    "        # record cost\n",
    "        cost_his.append(sess.run(cost, feed_dict={xs: x_data, ys: y_data}))\n",
    "        cost_his_norm.append(sess.run(cost_norm, feed_dict={xs: x_data, ys: y_data}))\n",
    "\n",
    "# plt.ioff()\n",
    "plt.figure()\n",
    "plt.plot(np.arange(len(cost_his))*record_step, np.array(cost_his), label='no BN')     # no norm\n",
    "plt.plot(np.arange(len(cost_his))*record_step, np.array(cost_his_norm), label='BN')   # norm\n",
    "plt.legend()\n",
    "plt.show()"
   ]
  },
  {
   "cell_type": "markdown",
   "metadata": {},
   "source": [
    "# Tensorflow 2017 更新\n",
    "[github](https://github.com/MorvanZhou/Tensorflow-Tutorial)\n",
    "[TF's docs](https://www.tensorflow.org/api_docs/python/)\n",
    "simplify:\n",
    "* add_layer()\n",
    "old style:\n",
    "    def add_layer(inputs, in_size, out_size, activation_function=None):\n",
    "        Weights = tf.Variable(tf.random_normal([in_size, out_size]))\n",
    "        biases = tf.Variable(tf.zeros([1, out_size]) + 0.1)\n",
    "        Wx_plus_b = tf.matmul(inputs, Weights) + biases\n",
    "        if activation_function is None:\n",
    "            outputs = Wx_plus_b\n",
    "        else:\n",
    "            outputs = activation_function(Wx_plus_b)\n",
    "        return outputs\n",
    " new ver:\n",
    "     l1 = tf.layers.dense(xs,10,tf.nn.relu)\n",
    "* loss:\n",
    "old style:\n",
    "    loss = tf.reduce_mean(tf.reduce_sum(tf.square(ys-prediction), reduction_indices=[1]))\n",
    "    cross_entropy = tf.reduce_mean(-tf.reduce_sum(ys * tf.log(prediction),\n",
    "                                              reduction_indices=[1]))       # loss\n",
    "new ver:\n",
    "    loss = tf.losses.mean_squared_error(ys,pred)\n",
    "    cross_entropy = tf.losses.softmax_cross_entropy(labels=ys,logits=pred)\n",
    "    \n",
    "* CNN:\n",
    "old:\n",
    "    def conv2d(x, W):\n",
    "        return tf.nn.conv2d(x, W, strides=[1, 1, 1, 1], padding='SAME')\n",
    "\n",
    "    def max_pool_2x2(x):\n",
    "        return tf.nn.max_pool(x, ksize=[1,2,2,1], strides=[1,2,2,1], padding='SAME')\n",
    "new:\n",
    "    conv1=tf.layers.conv2d(\n",
    "        inputs=image,\n",
    "        filters=16, # filters: 卷积核个数。相当于output_size\n",
    "        kernel_size=5, #kernel_size:卷积核大小，如[5，5].如果长宽相等，也可以直接设置为一个数，如kernel_size=5\n",
    "        strides=1,\n",
    "        padding='same',\n",
    "        activation=tf.nn.relu\n",
    "    )\n",
    "    pool1 = tf.layers.max_pooling2d(\n",
    "        conv1,\n",
    "        pool_size=2,\n",
    "        strides=2,\n",
    "    )"
   ]
  }
 ],
 "metadata": {
  "kernelspec": {
   "display_name": "Python 3",
   "language": "python",
   "name": "python3"
  },
  "language_info": {
   "codemirror_mode": {
    "name": "ipython",
    "version": 3
   },
   "file_extension": ".py",
   "mimetype": "text/x-python",
   "name": "python",
   "nbconvert_exporter": "python",
   "pygments_lexer": "ipython3",
   "version": "3.6.3"
  }
 },
 "nbformat": 4,
 "nbformat_minor": 2
}
