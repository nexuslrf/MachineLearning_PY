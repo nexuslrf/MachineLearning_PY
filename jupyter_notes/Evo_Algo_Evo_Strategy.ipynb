{
 "cells": [
  {
   "cell_type": "markdown",
   "metadata": {},
   "source": [
    "## Evolutionary Strategy\n",
    "一般的遗传算法使用的 DNA 是二进制编码的, 爸妈的 DNA 通过交叉配对, 组成宝宝的 DNA, 宝宝也会通过一定的变异获得新的功能. 但一般的进化策略却有些不同.\n",
    "![img](https://morvanzhou.github.io/static/results/ML-intro/ES4.png)\n",
    "爸妈的 DNA 不用再是 01 的这种形式, 我们可以用实数来代替, 咋一看, 觉得牛逼了起来, 因为我们抛开了二进制的转换问题, 从而能解决实际生活中的很多由实数组成的真实问题.\n",
    "遗传算法中简单的翻牌做法貌似在这里行不通. 不过进化策略中的另外一个因素起了决定性的作用. 这就是变异强度. 简单来说, 我们将爸妈遗传下来的值看做是正态分布的平均值, 再在这个平均值上附加一个标准差, 我们就能用正态分布产生一个相近的数了. 比如在这个8.8位置上的变异强度为1, 我们就按照1的标准差和8.8的均值产生一个离8.8的比较近的数, 比如8.7. 然后对宝宝每一位上的值进行同样的操作. 就能产生稍微不同的宝宝 DNA 啦.\n",
    "\n",
    "* 我们总结一下, 在进化策略中, 可以有两种遗传性系被继承给后代, 一种是记录所有位置的均值, 一种是记录这个均值的变异强度, 有了这套体系, 我们就能更加轻松自在的在实数区间上进行变异了. 这种思路甚至还能被用在神经网络的参数优化上, 因为这些参数本来就是一些实数. 在之后的视频中我们会继续提到当今比较流行的将人工神经网络结合上遗传算法或者进化策略的方法.\n",
    "\n",
    ">**在程序里生宝宝, 杀死不乖的宝宝, 让乖宝宝继续生宝宝**\n"
   ]
  },
  {
   "cell_type": "code",
   "execution_count": 1,
   "metadata": {},
   "outputs": [
    {
     "data": {
      "image/png": "[encoded data removed]",
      "text/plain": [
       "<matplotlib.figure.Figure at 0x232af61ba58>"
      ]
     },
     "metadata": {},
     "output_type": "display_data"
    }
   ],
   "source": [
    "\n",
    "\"\"\"\n",
    "The Evolution Strategy can be summarized as the following term:\n",
    "{mu/rho +, lambda}-ES\n",
    "Here we use following term to find a maximum point.\n",
    "{n_pop/n_pop + n_kid}-ES\n",
    "Visit my tutorial website for more: https://morvanzhou.github.io/tutorials/\n",
    "\"\"\"\n",
    "import numpy as np\n",
    "import matplotlib.pyplot as plt\n",
    "\n",
    "DNA_SIZE = 1             # DNA (real number)\n",
    "DNA_BOUND = [0, 5]       # solution upper and lower bounds\n",
    "N_GENERATIONS = 200\n",
    "POP_SIZE = 100           # population size\n",
    "N_KID = 50               # n kids per generation\n",
    "\n",
    "\n",
    "F = lambda x:np.sin(10*x)*x + np.cos(2*x)*x\n",
    "\n",
    "def get_fitness(pred): return pred.flatten()\n",
    "\n",
    "def make_kid(pop,n_kid):\n",
    "    # generate empty kid holder\n",
    "    kids = {'DNA':np.empty((n_kid,DNA_SIZE))}\n",
    "    kids['mut_strength'] = np.empty_like(kids['DNA'])\n",
    "    for kv, ks in zip(kids['DNA'],kids['mut_strength']):\n",
    "        # crossover (roughly half p1, half p2)\n",
    "        p1, p2 = np.random.choice(np.arange(POP_SIZE),size=2,replace=False)\n",
    "        cp = np.random.randint(0,2,DNA_SIZE,dtype=np.bool)\n",
    "        kv[cp] = pop['DNA'][p1,cp]\n",
    "        kv[~cp] = pop['DNA'][p2,~cp]\n",
    "        ks[cp] = pop['DNA'][p2,cp]\n",
    "        ks[~cp] = pop['DNA'][p2,~cp]\n",
    "\n",
    "        # mutate (change DNA based on normal distribution)\n",
    "        ks[:] = np.maximum(ks + (np.random.rand(*ks.shape)-0.5),0.) # must>0\n",
    "        kv += ks* np.random.randn(*kv.shape)\n",
    "        kv[:] = np.clip(kv, *DNA_BOUND) #low & high bound\n",
    "    return kids\n",
    "\n",
    "def kill_bad(pop,kids):\n",
    "    for key in ['DNA','mut_strength']:\n",
    "        pop[key] = np.vstack((pop[key],kids[key]))\n",
    "\n",
    "    fitness = get_fitness(F(pop['DNA']))\n",
    "    idx = np.arange(pop['DNA'].shape[0])\n",
    "    good_idx = idx[fitness.argsort()][~POP_SIZE:]\n",
    "    for key in ['DNA','mut_strength']:\n",
    "        pop[key] = pop[key][good_idx]\n",
    "    return pop \n",
    "\n",
    "pop = dict(DNA=5* np.random.rand(1,DNA_SIZE).repeat(POP_SIZE,axis=0),\n",
    "    mut_strength=np.random.rand(POP_SIZE,DNA_SIZE))\n",
    "\n",
    "plt.ion()\n",
    "x = np.linspace(*DNA_BOUND,200)\n",
    "plt.plot(x,F(x))\n",
    "\n",
    "for _ in range(N_GENERATIONS):\n",
    "#     if 'sca' in globals(): sca.remove()\n",
    "#     sca = plt.scatter(pop['DNA'],F(pop['DNA']),s=200,lw=0,c='r',alpha=0.5)\n",
    "#     plt.pause(0.1)\n",
    "\n",
    "    kids = make_kid(pop,N_KID)\n",
    "    pop = kill_bad(pop, kids)\n",
    "\n",
    "# plt.ioff();\n",
    "sca = plt.scatter(pop['DNA'],F(pop['DNA']),s=200,lw=0,c='r',alpha=0.5)\n",
    "plt.show()"
   ]
  },
  {
   "cell_type": "markdown",
   "metadata": {},
   "source": [
    "# ES的不同形式\n",
    "\n",
    "## $(\\mu/\\rho\\ +,\\ \\lambda)$-ES : \n",
    "$\\mu$是population的数量，$\\rho$是从population中取出的个数，$\\lambda$ 是生成的宝宝数; `+`和 `,` 是生存形式：如果采用的是 “+” 形式的, 就是使用将 ρ + λ 混合起来进行适者生存, 如果是 “,” 形式, 那么就是只使用 λ 进行适者生存.\n",
    "### (1+1)-ES:\n",
    "(1+1)-ES 是 ES 进化策略的一种形式, 也是众多形式中比较方便有效的一种. 接下来我们来细说他们的类别. 如果要我用一句话来概括 (1+1)-ES: 一个爸爸和一个孩子的战争. Perporties:\n",
    "* 有一个爸爸;\n",
    "* 根据爸爸变异出一个宝宝;\n",
    "* 在爸爸和宝宝中选好的那个变成下一代爸爸."
   ]
  },
  {
   "cell_type": "code",
   "execution_count": 2,
   "metadata": {
    "collapsed": true
   },
   "outputs": [],
   "source": [
    "DNA_SIZE = 1             # DNA (real number)\n",
    "DNA_BOUND = [0, 5]       # solution upper and lower bounds\n",
    "N_GENERATIONS = 200\n",
    "MUT_STRENGTH = 5.        # initial step size (dynamic mutation strength)"
   ]
  },
  {
   "cell_type": "code",
   "execution_count": 3,
   "metadata": {
    "collapsed": true
   },
   "outputs": [],
   "source": [
    "def make_kid_11(parent):\n",
    "    #no crossover just mutate\n",
    "    k = parent + MUT_STRENGTH * np.random.randn(DNA_SIZE)\n",
    "    k = np.clip(k, *DNA_BOUND)\n",
    "    return k"
   ]
  },
  {
   "cell_type": "code",
   "execution_count": 7,
   "metadata": {
    "collapsed": true
   },
   "outputs": [],
   "source": [
    "def kill_bad_11(parent, kid):\n",
    "    global MUT_STRENGTH\n",
    "    fp = get_fitness(F(parent))[0]\n",
    "    fk = get_fitness(F(kid))[0]\n",
    "    p_target = 1/5\n",
    "    if fp < fk:     # kid better than parent\n",
    "        parent = kid\n",
    "        ps = 1.     # kid win -> ps = 1 (successful offspring)\n",
    "    else:\n",
    "        ps = 0.\n",
    "    # adjust global mutation strength\n",
    "    MUT_STRENGTH *= np.exp(1/np.sqrt(DNA_SIZE+1) * (ps - p_target)/(1 - p_target))\n",
    "    return parent"
   ]
  },
  {
   "cell_type": "markdown",
   "metadata": {},
   "source": [
    "### MUT_STRENGTH:\n",
    "在 kill_bad 中, 我们选择更为适合的, 不管是爸爸还是孩子, 只要是适合的就留下, 不适合的杀掉. 但是还有注意的一点是, 在这一步我们还要对 MUT_STRENGTH 进行一点改变. 改变的方法遵循了 ** *1/5 successful rule* **. 这个方法是 ES 的开山鼻祖提出来的. 文献在这:\n",
    "\n",
    "Rechenberg, I. 1973. Evolutionsstrategie – Optimierung technischer Systeme nach Prinzipien der biologischen Evolution, Frommann-Holzboog.\n",
    "\n",
    "[Tutorials](https://www.lri.fr/~hansen/gecco2011-CMA-ES-tutorial.pdf)\n",
    "![img](https://morvanzhou.github.io/static/results/evolutionary-algorithm/3-2-1.png)\n",
    "图中的意思是, 还没到收敛的时候(上面左图), 我们增大 MUT_STRENGTH, 如果已经快到收敛了(上右图), 我们就减小 MUT_STRENGTH. 那如何判断是否快到收敛没呢, 就是如果有1/5的变异比原始的 parent 好的话, 就是快收敛了(像上右图). 在上左图中, 有一半比原始 parent 好, 一半比较差, 所以还没到收敛. 在上面提到的课件中, 用一个公式就能概括这种1/5关系.\n",
    "![formula](https://morvanzhou.github.io/static/results/evolutionary-algorithm/3-2-2.png)"
   ]
  },
  {
   "cell_type": "code",
   "execution_count": 47,
   "metadata": {},
   "outputs": [
    {
     "data": {
      "image/png": "[encoded data removed]",
      "text/plain": [
       "<matplotlib.figure.Figure at 0x232b0fa5ef0>"
      ]
     },
     "metadata": {},
     "output_type": "display_data"
    }
   ],
   "source": [
    "parent = 5 * np.random.rand(DNA_SIZE)   # parent DNA\n",
    "\n",
    "plt.ion()       # something about plotting\n",
    "x = np.linspace(*DNA_BOUND, 200)\n",
    "\n",
    "for _ in range(N_GENERATIONS):\n",
    "    # ES part\n",
    "    kid = make_kid_11(parent)\n",
    "    py, ky = F(parent), F(kid)       # for later plot\n",
    "    parent = kill_bad_11(parent, kid)\n",
    "\n",
    "    # something about plotting\n",
    "plt.cla()\n",
    "plt.scatter(parent, py, s=200, lw=0, c='red', alpha=0.5,)\n",
    "plt.scatter(kid, ky, s=200, lw=0, c='blue', alpha=0.5)\n",
    "plt.text(0, -7, 'Mutation strength=%.2f' % MUT_STRENGTH)\n",
    "plt.plot(x, F(x));\n",
    "\n",
    "plt.ioff(); plt.show()"
   ]
  },
  {
   "cell_type": "markdown",
   "metadata": {},
   "source": [
    "PS. 这种方法很可能会陷入 local maxima~"
   ]
  },
  {
   "cell_type": "markdown",
   "metadata": {},
   "source": [
    "# Natural Evolution Strategy (NES)\n",
    "Natural ES 后面简称 NES, 应该就是算一种用适应度诱导的梯度下降法, 如果要我用一句话来概括 NES:** 生宝宝, 用好宝宝的梯度辅助找到前进的方向 **\n",
    "\n",
    "## Algorithm\n",
    "![algo](https://morvanzhou.github.io/static/results/evolutionary-algorithm/3-3-1.png)\n",
    "ps. $\\pi$ 泊松分布~x=k的概率是:P(X=k)=e^(-λ)*[(λ^k)/(k!)], (k≥0)\n",
    "\n",
    "宝宝们的梯度是这个 $\\nabla_{\\theta}\\log{\\pi}(z_k\\mid\\theta)$ 加上这些宝宝们的 fitness $f(z_k)$, 用梯度乘以 fitness 就是说, 加大力度往带来好 fitness 的梯度下降. 所以之后的宝宝们就会越来越多的下降到最优点啦. 那么我们要梯度下降的参数则是那些正态分布的均值和均方差.\n",
    "\n",
    "NES 的方法其实和强化学习中 Policy Gradient 的方法非常接近. 简单来概括一下它们的不同: 在行为的策略上, PG 是扰动 Action, 不同的 action 带来不同的 reward, 通过 reward 大小对应上 action 来计算 gradient, 再反向传递 gradient. 但是 ES 是扰动 神经网络中的 Parameters, 不同的 parameters 带来不同的 reward, 通过 reward 大小对应上 parameters 来按比例更新原始的 parameters."
   ]
  },
  {
   "cell_type": "code",
   "execution_count": null,
   "metadata": {
    "collapsed": true
   },
   "outputs": [],
   "source": [
    "# -*- coding: utf-8 -*-\n",
    "import numpy as np\n",
    "import matplotlib.pyplot as plt\n",
    "import tensorflow as tf\n",
    "from tensorflow.contrib.distributions import MultivariateNormalFullCovariance \n",
    "\n",
    "DNA_SIZE = 2         # parameter (solution) number\n",
    "N_POP = 20           # population size\n",
    "N_GENERATION = 100   # training step\n",
    "LR = 0.02            # learning rate\n",
    "\n",
    "get_fitness = lambda pred: -((pred[:,0])**2+pred[:,1]**2)"
   ]
  },
  {
   "cell_type": "code",
   "execution_count": null,
   "metadata": {
    "collapsed": true
   },
   "outputs": [],
   "source": [
    "# build multivariate distribution\n",
    "mean = tf.Variable(tf.random_normal([2,],13.,1.),dtype=tf.float32)\n",
    "cov = tf.Variable(5.*tf.eye(DNA_SIZE),dtype=tf.float32) # eye is  Identity Matrix\n",
    "mvn = MultivariateNormalFullCovariance(loc=mean, covariance_matrix=cov)\n",
    "make_kid = mvn.sample(N_POP) # sampling operation"
   ]
  },
  {
   "cell_type": "markdown",
   "metadata": {},
   "source": [
    "我们用 mean, cov 当作要学的变量, 放入 MultivariateNormalFullCovariance 中. 这时的 mvn 就是这个多变量正态分布啦. 采样的时候呢, 我们就能用 mvn.sample(N_POP). 记住, make_kid 目前只是在计算图纸上的功能, 还没被运行, 之后调用的时候才被运行."
   ]
  },
  {
   "cell_type": "code",
   "execution_count": null,
   "metadata": {
    "collapsed": true
   },
   "outputs": [],
   "source": [
    "tfkids_fit = tf.placeholder(tf.float32, [N_POP, ])\n",
    "tfkids = tf.placeholder(tf.float32, [N_POP, DNA_SIZE])\n",
    "loss = -tf.reduce_mean(mvn.log_prob(tfkids)*tfkids_fit) # log prob * fitness\n",
    "train_op = tf.train.GradientDescentOptimizer(LR).minimize(loss) # compute and apply gradients for mean and cov"
   ]
  },
  {
   "cell_type": "code",
   "execution_count": null,
   "metadata": {
    "collapsed": true
   },
   "outputs": [],
   "source": [
    "sess = tf.Session()\n",
    "sess.run(tf.global_variables_initializer())\n",
    "\n",
    "#plt\n",
    "n = 300\n",
    "x = np.linspace(-20, 20, n)\n",
    "X, Y = np.meshgrid(x, x)\n",
    "Z = np.zeros_like(X)\n",
    "for i in range(n):\n",
    "    for j in range(n):\n",
    "        Z[i, j] = get_fitness(np.array([[x[i], x[j]]]))\n",
    "plt.contourf(X, Y, -Z, 100, cmap=plt.cm.rainbow); plt.ylim(-20, 20); plt.xlim(-20, 20); plt.ion()\n",
    "\n",
    "#training\n",
    "for g in range(N_GENERATION):\n",
    "    kids = sess.run(make_kid)\n",
    "    kids_fit = get_fitness(kids)\n",
    "    sess.run(train_op,feed_dict={tfkids_fit:kids_fit,tfkids:kids})\n",
    "\n",
    "        # plotting update\n",
    "    if 'sca' in globals(): sca.remove()\n",
    "    sca = plt.scatter(kids[:, 0], kids[:, 1], s=30, c='k');plt.pause(0.01)\n",
    "\n",
    "print('Finished'); plt.ioff(); plt.show()"
   ]
  },
  {
   "cell_type": "markdown",
   "metadata": {},
   "source": [
    "![img](https://morvanzhou.github.io/static/results/evolutionary-algorithm/3-3-0.gif)"
   ]
  }
 ],
 "metadata": {
  "kernelspec": {
   "display_name": "Python 3",
   "language": "python",
   "name": "python3"
  },
  "language_info": {
   "codemirror_mode": {
    "name": "ipython",
    "version": 3
   },
   "file_extension": ".py",
   "mimetype": "text/x-python",
   "name": "python",
   "nbconvert_exporter": "python",
   "pygments_lexer": "ipython3",
   "version": "3.6.3"
  }
 },
 "nbformat": 4,
 "nbformat_minor": 2
}
