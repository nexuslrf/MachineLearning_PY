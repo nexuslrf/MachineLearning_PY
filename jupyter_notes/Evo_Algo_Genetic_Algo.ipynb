{
 "cells": [
  {
   "cell_type": "code",
   "execution_count": 3,
   "metadata": {
    "collapsed": true
   },
   "outputs": [],
   "source": [
    "import numpy as np\n",
    "import matplotlib.pyplot as plt"
   ]
  },
  {
   "cell_type": "markdown",
   "metadata": {},
   "source": [
    "# Evolutionary Algorithm\n",
    "Very NB, in my view"
   ]
  },
  {
   "cell_type": "markdown",
   "metadata": {},
   "source": [
    "## Genetic Algo\n",
    "* [什么是遗传算法](什么是遗传算法)\n",
    "![img](https://morvanzhou.github.io/static/results/evolutionary-algorithm/2-1-0.gif)\n"
   ]
  },
  {
   "cell_type": "markdown",
   "metadata": {},
   "source": [
    "* **fitness Function**\n",
    "\n",
    "所有的遗传算法 (Genetic Algorithm), 后面都简称 GA, 我们都需要一个评估好坏的方程, 这个方程通常被称为 fitness. 在今天的问题中, 我们找到下面这个曲线当中的最高点. 那么这个 fitness 方程就很好定, 越高的点, fitness 越高.\n",
    "\n",
    "如果这个曲线上任一点的 y 值是 pred 的话, 我们的 fitness 就是下面这样:"
   ]
  },
  {
   "cell_type": "code",
   "execution_count": 8,
   "metadata": {
    "collapsed": true
   },
   "outputs": [],
   "source": [
    "# find non-zero fitness for selection\n",
    "def get_fitness(pred): return pred + 1e-3 - np.min(pred)"
   ]
  },
  {
   "cell_type": "markdown",
   "metadata": {},
   "source": [
    "* **DNA coding**\n",
    "\n",
    "在 GA 中有基因, 为了方便, 我们直接就称为 DNA 吧. GA 中第二重要的就是这 DNA 了, 如何编码和解码 DNA, 就是你使用 GA 首先要想到的问题. 传统的 GA 中, DNA 我们能用一串二进制来表示, 比如:\n",
    "```python\n",
    "DNA1 = [1, 1, 0, 1, 0, 0, 1]\n",
    "DNA2 = [1, 0, 1, 1, 0, 1, 1]\n",
    "```\n",
    "但是长成这样的 DNA 并不好使用. 如果要将它解码, 我们可以将二进制转换成十进制, 比如二进制的 11 就是十进制的 3. 这种转换的步骤在程序中很好执行. 但是有时候我们会需要精确到小数, 其实也很简单, 只要再将十进制的数浓缩一下就好. 比如我有 1111 这么长的 DNA, 我们产生的十进制数范围是 [0, 15], 而我需要的范围是 [-1, 1], 我们就将 [0, 15] 缩放到 [-1, 1] 这个范围就好."
   ]
  },
  {
   "cell_type": "code",
   "execution_count": 3,
   "metadata": {
    "collapsed": true
   },
   "outputs": [],
   "source": [
    "def translateDNA(pop):\n",
    "    return pop.dot(2 ** np.arange(DNA_SIZE)[::-1]) / float(2**DNA_SIZE-1) * X_BOUND[1]\n",
    "# >>> 2**np.arange(4)\n",
    "# array([1, 2, 4, 8], dtype=int32)\n",
    "# >>> 2**np.arange(4)[::-1]\n",
    "# array([8, 4, 2, 1], dtype=int32)\n",
    "# >>> "
   ]
  },
  {
   "cell_type": "markdown",
   "metadata": {},
   "source": [
    "注意, 这里的 pop 是一个储存二进制 DNA 的矩阵, 他的 shape 是这样 (pop_size, DNA_size)."
   ]
  },
  {
   "cell_type": "markdown",
   "metadata": {},
   "source": [
    "* **进化啦~**\n",
    "\n",
    "进化分三步：\n",
    "1. 适者生存(selection)\n",
    "2. DNA交叉配对(cross over)\n",
    "3. DNA变异(mutation)"
   ]
  },
  {
   "cell_type": "markdown",
   "metadata": {},
   "source": [
    "select()很简单, 我们只要按照适应程度 fitness 来选 pop 中的 parent 就好. fitness 越大, 越有可能被选到."
   ]
  },
  {
   "cell_type": "code",
   "execution_count": 4,
   "metadata": {
    "collapsed": true
   },
   "outputs": [],
   "source": [
    "def select(pop,fitness):\n",
    "    idx = np.random.choice(np.arange(POP_SIZE),size=POP_SIZE,replace=True,\n",
    "                           p=fitness/fitness.sum()) #p 是选他的比例\n",
    "             #replace=T means allow repeated elements\n",
    "    return pop[idx]"
   ]
  },
  {
   "cell_type": "markdown",
   "metadata": {},
   "source": [
    "接下来进行交叉配对. 方式很简单. 比如这两个 DNA, Y 的点我们取 DNA1 中的元素, N 的点取 DNA2 中的. 生成的 DNA3 就有来自父母的基因了.\n",
    "```python\n",
    "DNA1 = [1, 1, 0, 1, 0, 0, 1]\n",
    "       [Y, N, Y, N, N, Y, N]\n",
    "DNA2 = [1, 0, 1, 1, 0, 1, 1]\n",
    "\n",
    "DNA3 = [1, 0, 0, 1, 0, 0, 1]\n",
    "```\n",
    "而 python 写出来也很方便, 从 pop_copy 中随便选一个当另一个父辈 和 parent 进行随机的 crossover:"
   ]
  },
  {
   "cell_type": "code",
   "execution_count": 5,
   "metadata": {
    "collapsed": true
   },
   "outputs": [],
   "source": [
    "def crossover(parent,pop):\n",
    "    if np.random.rand()<CROSS_RATE:\n",
    "        i_ = np.random.randint(0,POP_SIZE,1)\n",
    "        cross_points = np.random.randint(0,2,DNA_SIZE).astype(np.bool)\n",
    "        parent[cross_points] = pop[i_,cross_points]\n",
    "    return parent"
   ]
  },
  {
   "cell_type": "markdown",
   "metadata": {},
   "source": [
    "mutation 就更好写了, 将某些 DNA 中的 0 变成 1, 1 变成 0."
   ]
  },
  {
   "cell_type": "code",
   "execution_count": 6,
   "metadata": {
    "collapsed": true
   },
   "outputs": [],
   "source": [
    "def mutate(child):\n",
    "    for point in range(DNA_SIZE):\n",
    "        if np.random.rand()<= MUTATION_RATE:\n",
    "            child[point]=1 if child[point] == 0 else 0\n",
    "    return child"
   ]
  },
  {
   "cell_type": "code",
   "execution_count": 12,
   "metadata": {
    "scrolled": true
   },
   "outputs": [
    {
     "data": {
      "image/png": "[encoded data removed]",
      "text/plain": [
       "<matplotlib.figure.Figure at 0x2a394325550>"
      ]
     },
     "metadata": {},
     "output_type": "display_data"
    }
   ],
   "source": [
    "#种群Dna\n",
    "DNA_SIZE = 10            # DNA length\n",
    "POP_SIZE = 100           # population size\n",
    "CROSS_RATE = 0.8         # mating probability (DNA crossover)\n",
    "MUTATION_RATE = 0.003    # mutation probability\n",
    "N_GENERATIONS = 200\n",
    "X_BOUND = [0, 5]         # x upper and lower bounds\n",
    "F = lambda x:np.sin(10*x)*x + np.cos(2*x)*x\n",
    "pop = np.random.randint(2,size=(POP_SIZE,DNA_SIZE))\n",
    "\n",
    "# plt.ion()\n",
    "x = np.linspace(*X_BOUND,200)\n",
    "plt.plot(x,F(x))\n",
    "for _ in range(N_GENERATIONS):\n",
    "    F_values = F(translateDNA(pop))\n",
    "    \n",
    "    if 'sca' in globals(): sca.remove()\n",
    "    sca = plt.scatter(translateDNA(pop), F_values, s=200, lw=0, c='red', alpha=0.5);# plt.pause(0.05)\n",
    "\n",
    "    fitness = get_fitness(F_values)\n",
    "#     print(\"Most fitted DNA: \", pop[np.argmax(fitness), :])\n",
    "    pop = select(pop,fitness) #按适应度选pop\n",
    "    pop_copy = pop.copy()\n",
    "    for parent in pop:\n",
    "        child = crossover(parent,pop_copy)\n",
    "        child = mutate(child)\n",
    "        parent[:] = child #宝宝变大人 ，a tricky way\n",
    "#plt.ioff();\n",
    "plt.show()"
   ]
  },
  {
   "cell_type": "markdown",
   "metadata": {},
   "source": [
    "## Application: 句子配对\n",
    "通过不同的编码 DNA 方式, 不同的 fitness 定义方式来让程序生成出自己设定的句子来."
   ]
  },
  {
   "cell_type": "code",
   "execution_count": 28,
   "metadata": {
    "collapsed": true
   },
   "outputs": [],
   "source": [
    "TARGET_PHRASE = 'I love you!' \n",
    "POP_SIZE = 300                      # population size\n",
    "CROSS_RATE = 0.4                    # mating probability (DNA crossover)\n",
    "MUTATION_RATE = 0.01                # mutation probability\n",
    "N_GENERATIONS = 1000\n",
    "\n",
    "DNA_SIZE = len(TARGET_PHRASE)\n",
    "TARGET_ASCII = np.fromstring(TARGET_PHRASE, dtype=np.uint8)  # convert string to number\n",
    "ASCII_BOUND = [32, 126]"
   ]
  },
  {
   "cell_type": "code",
   "execution_count": 26,
   "metadata": {
    "collapsed": true
   },
   "outputs": [],
   "source": [
    "class GA(object):\n",
    "    def __init__(self, DNA_size, DNA_bound, cross_rate, mutation_rate, pop_size):\n",
    "        self.DNA_size = DNA_size\n",
    "        DNA_bound[1] += 1\n",
    "        self.DNA_bound = DNA_bound\n",
    "        self.cross_rate = cross_rate\n",
    "        self.mutate_rate = mutation_rate\n",
    "        self.pop_size = pop_size\n",
    "\n",
    "        self.pop = np.random.randint(*DNA_bound, size=(pop_size, DNA_size)).astype(np.uint8)  # int8 for convert to ASCII\n",
    "    def translateDNA(self,DNA):   # convert to readable string\n",
    "        return DNA.tostring().decode('ascii')\n",
    "    def get_fitness(self):\n",
    "        return (self.pop == TARGET_ASCII).sum(axis = 1)\n",
    "    def select(self):\n",
    "        fitness = self.get_fitness() + 1e-4 # to avoid 0 in denominater\n",
    "        idx = np.random.choice(np.arange(self.pop_size),size=self.pop_size,replace=True,\n",
    "                    p=fitness/fitness.sum())\n",
    "        return self.pop[idx]\n",
    "    def crossover(self,parent,pop):\n",
    "        if np.random.rand() < self.cross_rate:\n",
    "            i_ = np.random.randint(0, self.pop_size, size=1)                        # select another individual from pop\n",
    "            cross_points = np.random.randint(0, 2, self.DNA_size).astype(np.bool)   # choose crossover points\n",
    "            parent[cross_points] = pop[i_, cross_points]                            # mating and produce one child\n",
    "        return parent\n",
    "    \n",
    "    def mutate(self,child):\n",
    "        for point in range(self.DNA_size):\n",
    "            if np.random.rand() <= self.mutate_rate:\n",
    "                child[point] = np.random.randint(*self.DNA_bound,dtype=np.uint8)\n",
    "        return child\n",
    "    \n",
    "    def evolve(self):\n",
    "        pop = self.select()\n",
    "        pop_copy = pop.copy()\n",
    "        for parent in pop_copy:\n",
    "            child = self.crossover(parent,pop)\n",
    "            child = self.mutate(child)\n",
    "            parent = child\n",
    "        self.pop = pop_copy          \n",
    "            \n",
    "    "
   ]
  },
  {
   "cell_type": "code",
   "execution_count": 29,
   "metadata": {},
   "outputs": [
    {
     "name": "stdout",
     "output_type": "stream",
     "text": [
      "[105  56  35  39  83 109  67  91 111 117 120]Gen 0 :  i8#'SmC[oux\n",
      "[ 73 118  85  86 118 101 100  55 114  63  87]Gen 1 :  IvUVved7r?W\n",
      "[121  72 112 111 118 101  58  55 111  96  54]Gen 2 :  yHpove:7o`6\n",
      "[121  72 112 111 118 101  58  55 111  96  54]Gen 3 :  yHpove:7o`6\n",
      "[ 54  96  83 111  60 101  32  50  73  94  33]Gen 4 :  6`So<e 2I^!\n",
      "[121  32  41 111 118  90  32  81 111  96  95]Gen 5 :  y )ovZ Qo`_\n",
      "[ 73 119 108 111 118 101  58  94  49  34  54]Gen 6 :  Iwlove:^1\"6\n",
      "[ 73 119  86 111 118 101  32  85 111  33  54]Gen 7 :  IwVove Uo!6\n",
      "[ 73  32 108  73 118 100 109  96 111 117  33]Gen 8 :  I lIvdm`ou!\n",
      "[ 73  32 108  73 118 100 109  96 111 117  33]Gen 9 :  I lIvdm`ou!\n",
      "[ 73  32 108 111 118  90  32  81 111  96  33]Gen 10 :  I lovZ Qo`!\n",
      "[ 73  32 108 111 118 101  58  94 111 117  33]Gen 11 :  I love:^ou!\n",
      "[ 73  32 108 111 118 101  58  94 111 117  33]Gen 12 :  I love:^ou!\n",
      "[ 73  32 108 111 118 101  58  94 111 117  33]Gen 13 :  I love:^ou!\n",
      "[ 73  32 108 111 118 101  58  94 111 117  33]Gen 14 :  I love:^ou!\n",
      "[ 73  32 108 111 118 101  58  94 111 117  33]Gen 15 :  I love:^ou!\n",
      "[ 73  32 108 111 118  82  32  85 111 117  33]Gen 16 :  I lovR Uou!\n",
      "[ 73  32 108 111 118 101  32  85 111 117  33]Gen 17 :  I love Uou!\n",
      "[121  32 108 111 118 101  32  73 111 117  33]Gen 18 :  y love Iou!\n",
      "[ 73  32 108 111 118 101  32  55 111 117  33]Gen 19 :  I love 7ou!\n",
      "[ 73  32 108 111 118 101  32  94 111 117  33]Gen 20 :  I love ^ou!\n",
      "[ 73  32 108 111 118 101  32  81 111 117  33]Gen 21 :  I love Qou!\n",
      "[ 73  32 108 111 118 101  32  81 111 117  33]Gen 22 :  I love Qou!\n",
      "[ 73  32 108 111 118 101  32  94 111 117  33]Gen 23 :  I love ^ou!\n",
      "[ 73  32 108 111 118 101  32  94 111 117  33]Gen 24 :  I love ^ou!\n",
      "[ 73  32 108 111 118 101  32  94 111 117  33]Gen 25 :  I love ^ou!\n",
      "[ 73  32 108 111 118 101  32  94 111 117  33]Gen 26 :  I love ^ou!\n",
      "[ 73  32 108 111 118 101  32  94 111 117  33]Gen 27 :  I love ^ou!\n",
      "[ 73  32 108 111 118 101  32  94 111 117  33]Gen 28 :  I love ^ou!\n",
      "[ 73  32 108 111 118 101  32  51 111 117  33]Gen 29 :  I love 3ou!\n",
      "[ 73  32 108 111 118 101  32  94 111 117  33]Gen 30 :  I love ^ou!\n",
      "[ 73  32 108 111 118 101  32  96 111 117  33]Gen 31 :  I love `ou!\n",
      "[ 73  32 108 111 118 101  32  85 111 117  33]Gen 32 :  I love Uou!\n",
      "[ 73  32 108 111 118 101  32  44 111 117  33]Gen 33 :  I love ,ou!\n",
      "[ 73  32 108 111 118 101  32  55 111 117  33]Gen 34 :  I love 7ou!\n",
      "[ 73  32 108 111 118 101  32  87 111 117  33]Gen 35 :  I love Wou!\n",
      "[ 73  32 108 111 118 101  32  94 111 117  33]Gen 36 :  I love ^ou!\n",
      "[ 73  32 108 111 118 101  32  87 111 117  33]Gen 37 :  I love Wou!\n",
      "[ 73  32 108 111 118 101  32  94 111 117  33]Gen 38 :  I love ^ou!\n",
      "[ 73  32 108 111 118 101  32  48 111 117  33]Gen 39 :  I love 0ou!\n",
      "[ 73  32 108 111 118 101  32  94 111 117  33]Gen 40 :  I love ^ou!\n",
      "[ 73  32 108 111 118 101  32  48 111 117  33]Gen 41 :  I love 0ou!\n",
      "[ 73  32 108 111 118 101  32 121 111 117  33]Gen 42 :  I love you!\n"
     ]
    }
   ],
   "source": [
    "ga = GA(DNA_size=DNA_SIZE, DNA_bound=ASCII_BOUND, cross_rate=CROSS_RATE,\n",
    "        mutation_rate=MUTATION_RATE, pop_size=POP_SIZE)\n",
    "for generation in range(N_GENERATIONS):\n",
    "    fitness = ga.get_fitness()\n",
    "    best_DNA = ga.pop[np.argmax(fitness)]\n",
    "    print(best_DNA,end='')\n",
    "    best_phrase = ga.translateDNA(best_DNA)\n",
    "    print('Gen', generation, ': ', best_phrase)\n",
    "    if best_phrase == TARGET_PHRASE:\n",
    "        break\n",
    "    ga.evolve()"
   ]
  },
  {
   "cell_type": "markdown",
   "metadata": {},
   "source": [
    "## Travel Sales Problem in GA\n"
   ]
  },
  {
   "cell_type": "code",
   "execution_count": 34,
   "metadata": {},
   "outputs": [
    {
     "data": {
      "image/png": "[encoded data removed]",
      "text/plain": [
       "<matplotlib.figure.Figure at 0x29a4a130dd8>"
      ]
     },
     "metadata": {},
     "output_type": "display_data"
    }
   ],
   "source": [
    "import matplotlib.pyplot as plt\n",
    "import numpy as np\n",
    "\n",
    "N_CITES = 20 # DNA size\n",
    "CROSS_RATE = 0.4\n",
    "MUTATE_RATE = 0.1\n",
    "POP_SIZE = 500\n",
    "N_GENERATIONS = 200\n",
    "\n",
    "class TravelSalesPerson(object):\n",
    "    def __init__(self,n_cites):\n",
    "        self.city_position = np.random.rand(n_cites,2)\n",
    "        plt.ion()\n",
    "\n",
    "    def plotting(self,lx,ly,total_d):\n",
    "        plt.cla()\n",
    "        plt.scatter(self.city_position[:,0].T,self.city_position[:,1].T,s=100,c='k')\n",
    "        plt.plot(lx.T,ly.T,'r-')\n",
    "        plt.text(-0.05,-0.05,'total distance=%.3f'%total_d,fontdict={'size':20,'color':'red'})\n",
    "        plt.xlim((-0.1,1.1))\n",
    "        plt.ylim((-0.1,1.1))\n",
    "        plt.pause(0.01)\n",
    "    \n",
    "class GA(object):\n",
    "    def __init__(self,DNA_size,pop_size,cross_rate,mutate_rate):\n",
    "        self.DNA_size = DNA_size\n",
    "        self.pop_size = pop_size\n",
    "        self.cross_rate = cross_rate\n",
    "        self.mutate_rate =mutate_rate\n",
    "\n",
    "        self.pop = np.vstack([np.random.permutation(DNA_size) for _ in range(pop_size)])\n",
    "\n",
    "    def translateDNA(self,DNA,city_position):\n",
    "        line_x = np.empty_like(DNA,dtype=np.float64)\n",
    "        line_y = np.empty_like(DNA,dtype=np.float64)\n",
    "        for i,d in enumerate(DNA):\n",
    "            city_coord = city_position[d]\n",
    "            line_x[i,:] = city_coord[:,0]\n",
    "            line_y[i,:] = city_coord[:,1]\n",
    "        return line_x,line_y\n",
    "    def get_fitness(self,line_x,line_y):\n",
    "        total_distance = np.empty((line_x.shape[0],),dtype=np.float64)\n",
    "        for i,(xs,ys) in enumerate(zip(line_x,line_y)):\n",
    "            total_distance[i] = np.sum(np.sqrt(np.square(np.diff(xs)+np.square(np.diff(ys)))))\n",
    "        fitness = np.exp(self.DNA_size*2/total_distance) #try to make differences obvious\n",
    "        return fitness, total_distance\n",
    "\n",
    "    def select(self,fitness):\n",
    "        idx = np.random.choice(np.arange(self.pop_size),size=self.pop_size,replace=True,p=fitness/np.sum(fitness))\n",
    "        return self.pop[idx]\n",
    "\n",
    "# tricky process\n",
    "    def crossover(self,parent,pop):\n",
    "        if np.random.rand()< self.cross_rate:\n",
    "            i_ = np.random.randint(0,self.pop_size,size=1)\n",
    "            cross_points = np.random.randint(0,2,size=self.DNA_size).astype(np.bool)\n",
    "            keep_cites = parent[~cross_points]\n",
    "            swap_cites = pop[i_,np.isin(pop[i_].ravel(),keep_cites,invert=True)]\n",
    "            parent[:] = np.concatenate((keep_cites,swap_cites))\n",
    "        return parent\n",
    "\n",
    "    def mutate(self,child):\n",
    "        for point in range(self.DNA_size):\n",
    "            if np.random.rand()<self.mutate_rate:\n",
    "                swap_point = np.random.randint(0,self.DNA_size)\n",
    "                child[swap_point], child[point] = child[point],child[swap_point]\n",
    "        return child\n",
    "\n",
    "    def evolve(self,fitness):\n",
    "        pop = self.select(fitness)\n",
    "        pop_copy = pop.copy()\n",
    "        for parent in pop:\n",
    "            child = self.crossover(parent,pop_copy)\n",
    "            child = self.mutate(child)\n",
    "            parent[:] = child\n",
    "        self.pop = pop\n",
    "\n",
    "ga = GA(N_CITES, POP_SIZE, CROSS_RATE, MUTATE_RATE)\n",
    "\n",
    "env = TravelSalesPerson(N_CITES)\n",
    "for generation in range(N_GENERATIONS):\n",
    "    lx,ly = ga.translateDNA(ga.pop,env.city_position)\n",
    "    fitness, total_distance = ga.get_fitness(lx,ly)\n",
    "    ga.evolve(fitness)\n",
    "    best_idx = np.argmax(fitness)\n",
    "#     print('GEN:',generation,'| best fit:%.2f'%fitness[best_idx])\n",
    "\n",
    "env.plotting(lx[best_idx],ly[best_idx],total_distance[best_idx])\n",
    "\n",
    "plt.ioff()\n",
    "plt.show()"
   ]
  },
  {
   "cell_type": "markdown",
   "metadata": {},
   "source": [
    "## Microbial Genetic Algorithm\n",
    "说到遗传算法 (GA), 有一点不得不提的是如何有效保留好的父母 (Elitism), 让好的父母不会消失掉. 这也是永远都给自己留条后路的意思. Microbial GA (后面统称 MGA) 就是一个很好的保留 Elitism 的算法. 一句话来概括: 在袋子里抽两个球, 对比两个球, 把球大的放回袋子里, 把球小的变一下再放回袋子里, 这样在这次选着中, 大球不会被改变任何东西, 就被放回了袋子, 当作下一代的一部分.\n",
    "![img](https://morvanzhou.github.io/static/results/evolutionary-algorithm/2-4-1.png)\n",
    "我们有一些 population, 每次在进化的时候, 我们会从这个 pop 中随机抽 2 个 DNA 出来, 然后对比一下他们的 fitness, 我们将 fitness 高的定义成 winner, 反之是 loser. 我们不会去动任何 winner 的 DNA, 要动手脚的只有这个 loser, 比如对 loser 进行 crossover 和 mutate. 动完手脚后将 winner 和 loser 一同放回 pop 中."
   ]
  },
  {
   "cell_type": "markdown",
   "metadata": {},
   "source": [
    "* Example"
   ]
  },
  {
   "cell_type": "code",
   "execution_count": 2,
   "metadata": {},
   "outputs": [
    {
     "data": {
      "image/png": "[encoded data removed]",
      "text/plain": [
       "<matplotlib.figure.Figure at 0x240db3bb518>"
      ]
     },
     "metadata": {},
     "output_type": "display_data"
    }
   ],
   "source": [
    "import numpy as np\n",
    "import matplotlib.pyplot as plt\n",
    "\n",
    "DNA_SIZE = 10            # DNA length\n",
    "POP_SIZE = 20            # population size\n",
    "CROSS_RATE = 0.6         # mating probability (DNA crossover)\n",
    "MUTATION_RATE = 0.01     # mutation probability\n",
    "N_GENERATIONS = 200\n",
    "X_BOUND = [0, 5]         # x upper and lower bounds\n",
    "\n",
    "\n",
    "def F(x): return np.sin(10*x)*x + np.cos(2*x)*x     # to find the maximum of this function\n",
    "\n",
    "\n",
    "class MGA(object):\n",
    "    def __init__(self, DNA_size, DNA_bound, cross_rate, mutation_rate, pop_size):\n",
    "        self.DNA_size = DNA_size\n",
    "        DNA_bound[1] += 1\n",
    "        self.DNA_bound = DNA_bound\n",
    "        self.cross_rate = cross_rate\n",
    "        self.mutate_rate = mutation_rate\n",
    "        self.pop_size = pop_size\n",
    "\n",
    "        # initial DNAs for winner and loser\n",
    "        self.pop = np.random.randint(*DNA_bound, size=(1, self.DNA_size)).repeat(pop_size, axis=0)\n",
    "\n",
    "    def translateDNA(self, pop):\n",
    "        # convert binary DNA to decimal and normalize it to a range(0, 5)\n",
    "        return pop.dot(2 ** np.arange(self.DNA_size)[::-1]) / float(2 ** self.DNA_size - 1) * X_BOUND[1]\n",
    "\n",
    "    def get_fitness(self, product):\n",
    "        return product      # it is OK to use product value as fitness in here\n",
    "\n",
    "    def crossover(self, loser_winner):      # crossover for loser\n",
    "        cross_idx = np.empty((self.DNA_size,)).astype(np.bool)\n",
    "        for i in range(self.DNA_size):\n",
    "            cross_idx[i] = True if np.random.rand() < self.cross_rate else False  # crossover index\n",
    "        loser_winner[0, cross_idx] = loser_winner[1, cross_idx]  # assign winners genes to loser\n",
    "        return loser_winner\n",
    "\n",
    "    def mutate(self, loser_winner):         # mutation for loser\n",
    "        mutation_idx = np.empty((self.DNA_size,)).astype(np.bool)\n",
    "        for i in range(self.DNA_size):\n",
    "            mutation_idx[i] = True if np.random.rand() < self.mutate_rate else False  # mutation index\n",
    "        # flip values in mutation points\n",
    "        loser_winner[0, mutation_idx] = ~loser_winner[0, mutation_idx].astype(np.bool)\n",
    "        return loser_winner\n",
    "\n",
    "    def evolve(self, n):    # nature selection wrt pop's fitness\n",
    "        for _ in range(n):  # random pick and compare n times\n",
    "            sub_pop_idx = np.random.choice(np.arange(0, self.pop_size), size=2, replace=False)\n",
    "            sub_pop = self.pop[sub_pop_idx]             # pick 2 from pop\n",
    "            product = F(self.translateDNA(sub_pop))\n",
    "            fitness = self.get_fitness(product)\n",
    "            loser_winner_idx = np.argsort(fitness)\n",
    "            loser_winner = sub_pop[loser_winner_idx]    # the first is loser and second is winner\n",
    "            loser_winner = self.crossover(loser_winner)\n",
    "            loser_winner = self.mutate(loser_winner)\n",
    "            self.pop[sub_pop_idx] = loser_winner\n",
    "\n",
    "        DNA_prod = self.translateDNA(self.pop)\n",
    "        pred = F(DNA_prod)\n",
    "        return DNA_prod, pred\n",
    "\n",
    "\n",
    "plt.ion()       # something about plotting\n",
    "x = np.linspace(*X_BOUND, 200)\n",
    "plt.plot(x, F(x))\n",
    "\n",
    "ga = MGA(DNA_size=DNA_SIZE, DNA_bound=[0, 1], cross_rate=CROSS_RATE, mutation_rate=MUTATION_RATE, pop_size=POP_SIZE)\n",
    "\n",
    "for _ in range(N_GENERATIONS):                    # 100 generations\n",
    "    DNA_prod, pred = ga.evolve(5)          # natural selection, crossover and mutation\n",
    "\n",
    "    # something about plotting\n",
    "#     if 'sca' in globals(): sca.remove()\n",
    "sca = plt.scatter(DNA_prod, pred, s=200, lw=0, c='red', alpha=0.5); plt.pause(0.05)\n",
    "\n",
    "plt.ioff();plt.show()"
   ]
  }
 ],
 "metadata": {
  "kernelspec": {
   "display_name": "Python 3",
   "language": "python",
   "name": "python3"
  },
  "language_info": {
   "codemirror_mode": {
    "name": "ipython",
    "version": 3
   },
   "file_extension": ".py",
   "mimetype": "text/x-python",
   "name": "python",
   "nbconvert_exporter": "python",
   "pygments_lexer": "ipython3",
   "version": "3.6.3"
  }
 },
 "nbformat": 4,
 "nbformat_minor": 2
}
