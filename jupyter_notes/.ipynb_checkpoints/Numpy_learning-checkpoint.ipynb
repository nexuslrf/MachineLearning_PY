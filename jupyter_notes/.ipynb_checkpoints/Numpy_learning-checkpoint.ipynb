{
 "cells": [
  {
   "cell_type": "code",
   "execution_count": 1,
   "metadata": {},
   "outputs": [
    {
     "name": "stdout",
     "output_type": "stream",
     "text": [
      "[[1 2 3]\n",
      " [2 3 4]]\n",
      "number of dim: 2\n",
      "shape:  (2L, 3L)\n",
      "size:  6\n"
     ]
    }
   ],
   "source": [
    "# -*- utf-8 -*-\n",
    "import numpy as np\n",
    "array = np.array([[1,2,3],\n",
    "                 [2,3,4]])\n",
    "print array\n",
    "print \"number of dim:\",array.ndim\n",
    "print \"shape: \",array.shape\n",
    "print \"size: \",array.size"
   ]
  },
  {
   "cell_type": "code",
   "execution_count": 31,
   "metadata": {},
   "outputs": [
    {
     "name": "stdout",
     "output_type": "stream",
     "text": [
      "[[1 1]\n",
      " [1 1]]\n",
      "[[ 0.  0.  0.  0.]\n",
      " [ 0.  0.  0.  0.]\n",
      " [ 0.  0.  0.  0.]]\n",
      "[[  3.77694695e+180   7.19850078e-314   3.03837484e+180]\n",
      " [  1.49381951e-313   1.12125752e-258   2.34280251e-313]\n",
      " [  6.96770688e+252   3.21546466e-313   5.31261110e+169]\n",
      " [  4.11239450e-313   4.45619116e-313   5.45361373e-311]]\n"
     ]
    },
    {
     "data": {
      "text/plain": [
       "2.2204460492503131e-16"
      ]
     },
     "execution_count": 31,
     "metadata": {},
     "output_type": "execute_result"
    }
   ],
   "source": [
    "#construct array\n",
    "\n",
    "a = np.array([2,23,4],dtype=np.int) #dtype: np.int32 .int64 .float32 .float64 etc\n",
    "I = np.ones((2,2),dtype=int)\n",
    "Null = np.zeros((3,4),dtype=float)\n",
    "Empty = np.empty((4,3),dtype=np.float64)\n",
    "print I\n",
    "print Null\n",
    "print Empty\n",
    "np.finfo(float).eps\n",
    "# print a.dtype"
   ]
  },
  {
   "cell_type": "code",
   "execution_count": 23,
   "metadata": {},
   "outputs": [
    {
     "name": "stdout",
     "output_type": "stream",
     "text": [
      "[10 12 14 16 18]\n",
      "[[ 0  1  2  3]\n",
      " [ 4  5  6  7]\n",
      " [ 8  9 10 11]]\n",
      "[  1.   4.   7.  10.]\n"
     ]
    }
   ],
   "source": [
    "#arange() linspace() reshape()\n",
    "print np.arange(10,20,2)\n",
    "print np.arange(12).reshape((3,4))\n",
    "print np.linspace(1,10,4)  #[1,10] 均分出4个data point"
   ]
  },
  {
   "cell_type": "code",
   "execution_count": 26,
   "metadata": {},
   "outputs": [
    {
     "name": "stdout",
     "output_type": "stream",
     "text": [
      "[10 19 28 37]\n",
      "[0 1 4 9]\n",
      "[ True  True  True False]\n"
     ]
    }
   ],
   "source": [
    "#computation\n",
    "a = np.array([10,20,30,40])\n",
    "b = np.arange(4)\n",
    "\n",
    "c = a-b\n",
    "print c\n",
    "print b**2\n",
    "print b<3"
   ]
  },
  {
   "cell_type": "code",
   "execution_count": 29,
   "metadata": {},
   "outputs": [
    {
     "name": "stdout",
     "output_type": "stream",
     "text": [
      "[[0 1]\n",
      " [0 3]]\n",
      "[[2 4]\n",
      " [2 3]]\n"
     ]
    }
   ],
   "source": [
    "#matrice computation\n",
    "a = np.array([[1,1],\n",
    "              [0,1]])\n",
    "b = np.arange(4).reshape((2,2))\n",
    "#[[0,1],\n",
    "# [2,3]]\n",
    "c = a*b #对应位置相乘\n",
    "c_dot = np.dot(a,b) #矩阵乘法\n",
    "# c_dot = a.dot(b) also OK!\n",
    "\n",
    "print c\n",
    "print c_dot\n"
   ]
  },
  {
   "cell_type": "code",
   "execution_count": 2,
   "metadata": {},
   "outputs": [
    {
     "name": "stdout",
     "output_type": "stream",
     "text": [
      "[[ 0.01861636  0.04979529  0.72057533  0.42659155]\n",
      " [ 0.88691116  0.00648544  0.82112814  0.21714726]]\n",
      "[[ 0.26759521  0.41874362  0.32784124  0.07288096]\n",
      " [ 0.10682651  0.6705523   0.44566431  0.03230131]]\n",
      "[[-0.03661922 -0.65014456  0.65845823  1.99911646]\n",
      " [-0.81985912 -0.39553328  1.015472    0.65495031]]\n",
      "[[4 8 9 8]\n",
      " [8 2 2 8]]\n"
     ]
    }
   ],
   "source": [
    "#random \n",
    "# help(np.random)\n",
    "# Try to know when to use tuple\n",
    "print np.random.random((2,4)) #[0,1] 的随机数\n",
    "print np.random.rand(2,4)\n",
    "print np.random.randn(2,4)\n",
    "print np.random.randint(2,10,(2,4))"
   ]
  },
  {
   "cell_type": "code",
   "execution_count": 44,
   "metadata": {},
   "outputs": [
    {
     "name": "stdout",
     "output_type": "stream",
     "text": [
      "[[ 0.03810348  0.58706234  0.68400818  0.06696454]\n",
      " [ 0.50644233  0.86141756  0.6120923   0.42011637]]\n",
      "\n",
      "[[0 1]\n",
      " [2 3]]\n",
      "6\n",
      "1.5\n",
      "[ 1.  2.]\n",
      "[ 0.5  2.5]\n",
      "1.5\n",
      "[0 1 3 6]\n",
      "[[1]\n",
      " [1]]\n",
      "0 0\n",
      "3 3\n",
      "(array([0, 1, 1], dtype=int64), array([1, 0, 1], dtype=int64))\n",
      "[[ 0.03810348  0.06696454  0.58706234  0.68400818]\n",
      " [ 0.42011637  0.50644233  0.6120923   0.86141756]]\n",
      "[[0 2]\n",
      " [1 3]]\n"
     ]
    }
   ],
   "source": [
    "print b\n",
    "print np.sum(b)\n",
    "\n",
    "print np.mean(b)\n",
    "# for Bij: axis=n 是保持有最内层往外数的第n层的向量 （n starts at 0） \n",
    "print np.mean(b,axis=0)\n",
    "print np.mean(b,axis=1)\n",
    "print np.median(b)\n",
    "\n",
    "print np.cumsum(b) #累加\n",
    "print np.diff(b) #累差 同一行相邻两个数的差\n",
    "\n",
    "print np.min(b), np.argmin(b) #arg 是索引\n",
    "print np.max(b), np.argmax(b)\n",
    "\n",
    "print np.nonzero(b) # output indice in n dim's array\n",
    "print np.sort(a) #逐行排序\n",
    "\n",
    "print b.T  # np.transpose(b) also ok!"
   ]
  },
  {
   "cell_type": "code",
   "execution_count": 10,
   "metadata": {},
   "outputs": [
    {
     "name": "stdout",
     "output_type": "stream",
     "text": [
      "[[ 3  4  5  6]\n",
      " [ 7  8  9 10]\n",
      " [11 12 13 14]]\n",
      "[11 12 13 14] [11 12 13 14]\n",
      "12 12\n",
      "[9]\n",
      "[3 4 5 6]\n",
      "[ 7  8  9 10]\n",
      "[11 12 13 14]\n",
      "[ 3  7 11]\n",
      "[ 4  8 12]\n",
      "[ 5  9 13]\n",
      "[ 6 10 14]\n",
      "[ 3  4  5  6  7  8  9 10 11 12 13 14]\n",
      "3 4 5 6 7 8 9 10 11 12 13 14\n"
     ]
    }
   ],
   "source": [
    "A = np.arange(3,15).reshape((3,4))\n",
    "print A\n",
    "print A[2],A[2,:]\n",
    "print A[2][1],A[2,1]\n",
    "print A[1:2,2] # xx:yy 左闭右开\n",
    "# [[ 3  4  5  6]\n",
    "#  [ 7  8  9 10]\n",
    "#  [11 12 13 14]]\n",
    "for row in A:\n",
    "    print row\n",
    "\n",
    "for col in A.T: #tricky way\n",
    "    print col\n",
    "    \n",
    "print A.flatten() #压回一维\n",
    "for item in A.flat:\n",
    "    print item,"
   ]
  },
  {
   "cell_type": "code",
   "execution_count": 18,
   "metadata": {},
   "outputs": [
    {
     "name": "stdout",
     "output_type": "stream",
     "text": [
      "[[1 1 1]\n",
      " [2 2 2]] [1 1 1 2 2 2]\n",
      "[[1 1 1 2 3 4]\n",
      " [2 2 2 5 6 7]]\n",
      "[1 1 1]\n",
      "[[1 1 1]]\n",
      "[[1]\n",
      " [1]\n",
      " [1]]\n",
      "[[1]\n",
      " [1]\n",
      " [1]]\n"
     ]
    }
   ],
   "source": [
    "#combination\n",
    "A=np.array([1,1,1])\n",
    "B=np.array([2,2,2])\n",
    "\n",
    "C=np.vstack((A,B)) #vertical stack\n",
    "D=np.hstack((A,B)) #horizontal stack\n",
    "print C,D\n",
    "E=np.arange(2,8).reshape((2,3))\n",
    "print np.concatenate((C,E),axis=1) # for Bij: axis=n 是保持有最内层往外数的第n层的向量 （n starts at 0） \n",
    "\n",
    "print A.T\n",
    "print A[np.newaxis,:] #为A增加一个维度\n",
    "print A[:,np.newaxis]\n",
    "print A.reshape((3,1)) #this is better maybe~\n"
   ]
  },
  {
   "cell_type": "code",
   "execution_count": 27,
   "metadata": {},
   "outputs": [
    {
     "name": "stdout",
     "output_type": "stream",
     "text": [
      "[[ 0  1  2  3]\n",
      " [ 4  5  6  7]\n",
      " [ 8  9 10 11]]\n",
      "[[0 1]\n",
      " [4 5]\n",
      " [8 9]] \n",
      "[[ 2  3]\n",
      " [ 6  7]\n",
      " [10 11]] \n",
      "\n",
      "[[0 1]\n",
      " [4 5]\n",
      " [8 9]] \n",
      "[[ 2]\n",
      " [ 6]\n",
      " [10]] \n",
      "[[ 3]\n",
      " [ 7]\n",
      " [11]]\n"
     ]
    }
   ],
   "source": [
    "#split method\n",
    "A= np.arange(12).reshape((3,4))\n",
    "print A\n",
    "# print np.vsplit(A,3) #vertical\n",
    "# print np.hsplit(A,4) #horizontal\n",
    "B,C= np.split(A,2,axis=1)  #equally split if n=3 instead of 2 error while array_split is ok\n",
    "print B,'\\n',C,'\\n'\n",
    "\n",
    "E,F,G = np.array_split(A,3,axis=1)\n",
    "print E,'\\n',F,'\\n',G"
   ]
  },
  {
   "cell_type": "code",
   "execution_count": 30,
   "metadata": {},
   "outputs": [
    {
     "name": "stdout",
     "output_type": "stream",
     "text": [
      "[0 1 2 3]\n",
      "[9 1 2 3] \n",
      "[9 1 2 3] \n",
      "[9 1 2 3]\n",
      "[ 9 23  2  3] \n",
      "[9 1 2 3] \n",
      "[ 9 23  2  3]\n"
     ]
    }
   ],
   "source": [
    "#copy mehtod\n",
    "a=np.arange(4)\n",
    "print a\n",
    "b=a\n",
    "c=b\n",
    "a[0]=9\n",
    "print a,'\\n',b,'\\n',c\n",
    "b=a.copy()\n",
    "a[1]=23\n",
    "print a,'\\n',b,'\\n',c"
   ]
  }
 ],
 "metadata": {
  "kernelspec": {
   "display_name": "Python 2",
   "language": "python",
   "name": "python2"
  },
  "language_info": {
   "codemirror_mode": {
    "name": "ipython",
    "version": 2
   },
   "file_extension": ".py",
   "mimetype": "text/x-python",
   "name": "python",
   "nbconvert_exporter": "python",
   "pygments_lexer": "ipython2",
   "version": "2.7.13"
  },
  "widgets": {
   "application/vnd.jupyter.widget-state+json": {
    "state": {},
    "version_major": 1,
    "version_minor": 0
   }
  }
 },
 "nbformat": 4,
 "nbformat_minor": 2
}
