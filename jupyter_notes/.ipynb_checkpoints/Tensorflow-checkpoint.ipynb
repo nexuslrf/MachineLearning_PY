{
 "cells": [
  {
   "cell_type": "markdown",
   "metadata": {},
   "source": [
    "# TF的处理结构\n",
    "![处理结构](https://www.tensorflow.org/images/tensors_flowing.gif)\n",
    "\n",
    "## Tensor 张量意义\n",
    "**张量（Tensor):**\n",
    "\n",
    "* 张量有多种. 零阶张量为 纯量或标量 (scalar) 也就是一个数值. 比如 [1]\n",
    "* 一阶张量为 向量 (vector), 比如 一维的 [1, 2, 3]\n",
    "* 二阶张量为 矩阵 (matrix), 比如 二维的 [[1, 2, 3],[4, 5, 6],[7, 8, 9]]\n",
    "* 以此类推, 还有 三阶 三维的 …"
   ]
  },
  {
   "cell_type": "code",
   "execution_count": 1,
   "metadata": {},
   "outputs": [
    {
     "name": "stdout",
     "output_type": "stream",
     "text": [
      "0 [ 0.58736986] [ 0.03585268]\n",
      "20 [ 0.20835146] [ 0.24031886]\n",
      "40 [ 0.12417874] [ 0.2866821]\n",
      "60 [ 0.10539552] [ 0.29702809]\n",
      "80 [ 0.10120403] [ 0.29933682]\n",
      "100 [ 0.1002687] [ 0.29985201]\n",
      "120 [ 0.10005996] [ 0.29996699]\n",
      "140 [ 0.10001339] [ 0.29999265]\n",
      "160 [ 0.10000301] [ 0.29999834]\n",
      "180 [ 0.10000068] [ 0.29999962]\n",
      "200 [ 0.10000015] [ 0.29999992]\n"
     ]
    }
   ],
   "source": [
    "# -*- coding: utf-8 -*-\n",
    "import tensorflow as tf\n",
    "import numpy as np\n",
    "#create data\n",
    "x_data = np.random.rand(100).astype(np.float32) #tensor的变量多为np.float32\n",
    "y_data = x_data*0.1+0.3\n",
    "#create tensorflow structure start\n",
    "Weights = tf.Variable(tf.random_uniform([1],-1.0,1.0)) \n",
    "biases = tf.Variable(tf.zeros([1]))\n",
    "\n",
    "y = Weights*x_data + biases\n",
    "\n",
    "loss = tf.reduce_mean(tf.square(y-y_data))\n",
    "optimizer = tf.train.GradientDescentOptimizer(0.5) #学习率 alpha\n",
    "train = optimizer.minimize(loss)\n",
    "\n",
    "init=tf.global_variables_initializer()\n",
    "#structure finish\n",
    "sess = tf.Session()\n",
    "sess.run(init) #Very Important\n",
    "\n",
    "for step in range(201):\n",
    "    sess.run(train)\n",
    "    if step%20==0:\n",
    "        print(step,sess.run(Weights),sess.run(biases))\n"
   ]
  },
  {
   "cell_type": "markdown",
   "metadata": {},
   "source": [
    "# Session 会话控制\n",
    "Session 是 Tensorflow 为了控制,和输出文件的执行的语句. 运行 session.run() 可以获得你要得知的运算结果, 或者是你所要运算的部分.\n",
    "相当于一个指针\n"
   ]
  },
  {
   "cell_type": "code",
   "execution_count": 2,
   "metadata": {},
   "outputs": [
    {
     "name": "stdout",
     "output_type": "stream",
     "text": [
      "[[12]]\n",
      "[[12]]\n"
     ]
    }
   ],
   "source": [
    "mat1 = tf.constant([[3,3]])\n",
    "mat2 = tf.constant([[2],\n",
    "                    [2]])\n",
    "product = tf.matmul(mat1,mat2) #matrix multiply  np.dot(mat1,mat2)\n",
    "\n",
    "#method 1\n",
    "sess = tf.Session()\n",
    "result = sess.run(product)\n",
    "print(result)\n",
    "sess.close()\n",
    "#method 2\n",
    "with tf.Session() as sess: #相当于c++ 里面{....}的结构 自动析构sess\n",
    "    result2 = sess.run(product)\n",
    "    print(result2)"
   ]
  },
  {
   "cell_type": "markdown",
   "metadata": {},
   "source": [
    "# Variable 变量\n",
    "* 在 Tensorflow 中，定义了某字符串是变量，它才是变量，这一点是与 Python 所不同的。\n",
    "定义语法： state = tf.Variable()\n",
    "* 如果你在 Tensorflow 中设定了变量，那么初始化变量是最重要的！！所以定义了变量以后, 一定要定义 init = *tf.global_variables_initializer()* .\n",
    "* 到这里变量还是没有被激活，需要再在 sess 里, sess.run(init) , 激活 init 这一步.\n",
    "注意：直接 print(state) 不起作用！！\n",
    "一定要把 sess 的指针指向 state 再进行 print 才能得到想要的结果！"
   ]
  },
  {
   "cell_type": "code",
   "execution_count": 3,
   "metadata": {},
   "outputs": [
    {
     "name": "stdout",
     "output_type": "stream",
     "text": [
      "1\n",
      "2\n",
      "3\n"
     ]
    }
   ],
   "source": [
    "state = tf.Variable(0,name='counter')\n",
    "# print(state.name)\n",
    "one = tf.constant(1)\n",
    "new_value = tf.add(state,one)\n",
    "update = tf.assign(state,new_value)\n",
    "# print(state)\n",
    "init = tf.global_variables_initializer() #must have if define variables\n",
    "sess = tf.Session()\n",
    "sess.run(init)\n",
    "for _ in range(3):\n",
    "    sess.run(update)\n",
    "    print(sess.run(state))"
   ]
  },
  {
   "cell_type": "markdown",
   "metadata": {},
   "source": [
    "# Placeholder 传入值\n",
    "* placeholder 是 Tensorflow 中的占位符，暂时储存变量.\n",
    "* Tensorflow 如果想要从外部传入data, 那就需要用到 tf.placeholder(), 然后以这种形式传输数据\n",
    "  **sess.run(\\*\\*\\*, feed_dict={input: \\*\\*})**."
   ]
  },
  {
   "cell_type": "code",
   "execution_count": 4,
   "metadata": {},
   "outputs": [
    {
     "name": "stdout",
     "output_type": "stream",
     "text": [
      "[ 14.]\n"
     ]
    }
   ],
   "source": [
    "input1 = tf.placeholder(tf.float32)\n",
    "input2 = tf.placeholder(tf.float32)\n",
    "\n",
    "output = tf.multiply(input1,input2)\n",
    "print(sess.run(output,feed_dict={input1:[7.],input2:[2.]}))\n"
   ]
  },
  {
   "cell_type": "markdown",
   "metadata": {},
   "source": [
    "# 激励函数 Activation Function\n",
    "Tensorflow 提供的一些[激励函数](https://www.tensorflow.org/api_guides/python/nn) "
   ]
  },
  {
   "cell_type": "markdown",
   "metadata": {},
   "source": [
    "# 添加层 def add_layer()"
   ]
  },
  {
   "cell_type": "code",
   "execution_count": 5,
   "metadata": {
    "collapsed": true
   },
   "outputs": [],
   "source": [
    "def add_layer(inputs,in_size,out_size,activation_function=None):\n",
    "    Weights = tf.Variable(tf.random_normal([in_size,out_size]))\n",
    "    biases = tf.Variable(tf.zeros([1,out_size])+0.1) \n",
    "    #在机器学习中，biases的推荐值不为0，所以我们这里是在0向量的基础上又加了0.1。\n",
    "    Wx_plus_b = tf.matmul(inputs,Weights)+biases\n",
    "    if activation_function is None:\n",
    "        outputs = Wx_plus_b\n",
    "    else:\n",
    "        outputs = activation_function(Wx_plus_b)\n",
    "    return outputs"
   ]
  },
  {
   "cell_type": "markdown",
   "metadata": {},
   "source": [
    "# 建造神经网络\n"
   ]
  },
  {
   "cell_type": "code",
   "execution_count": 6,
   "metadata": {},
   "outputs": [
    {
     "name": "stdout",
     "output_type": "stream",
     "text": [
      "0.066338\n",
      "0.00524319\n",
      "0.0044135\n",
      "0.00411754\n",
      "0.00390686\n",
      "0.00373257\n",
      "0.0036266\n",
      "0.00354994\n",
      "0.0034934\n",
      "0.00343632\n",
      "0.00338899\n",
      "0.00334603\n",
      "0.00331493\n",
      "0.00329227\n",
      "0.00328113\n",
      "0.00327381\n",
      "0.00326375\n",
      "0.00325632\n",
      "0.00325011\n",
      "0.00324457\n"
     ]
    }
   ],
   "source": [
    "x_data = np.linspace(-1,1,300).reshape((300,1))\n",
    "noise = np.random.normal(0,0.05,x_data.shape)\n",
    "y_data = np.square(x_data)-0.5+noise\n",
    "\n",
    "xs = tf.placeholder(tf.float32,[None,1])\n",
    "ys = tf.placeholder(tf.float32,[None,1])\n",
    "#hidden layer \n",
    "l1 = add_layer(xs,1,10,activation_function=tf.nn.relu)\n",
    "#prediction layer\n",
    "prediction =add_layer(l1,10,1,activation_function=None)\n",
    "\n",
    "loss = tf.reduce_mean(tf.reduce_sum(tf.square(ys-prediction),\n",
    "                                    reduction_indices=[1]))\n",
    "# reduction_indices=[1] 按行求和\n",
    "# reduction_indices=[0] 按列求和\n",
    "train_step = tf.train.GradientDescentOptimizer(0.1).minimize(loss)\n",
    "\n",
    "init = tf.global_variables_initializer()\n",
    "sess = tf.Session()\n",
    "sess.run(init)\n",
    "\n",
    "for i in range(1000):\n",
    "    sess.run(train_step,feed_dict={xs:x_data,ys:y_data})\n",
    "    if i%50==0:\n",
    "        print(sess.run(loss,feed_dict={xs:x_data,ys:y_data}))"
   ]
  },
  {
   "cell_type": "markdown",
   "metadata": {},
   "source": [
    "# 结果可视化\n",
    "may need run .py"
   ]
  },
  {
   "cell_type": "code",
   "execution_count": 12,
   "metadata": {},
   "outputs": [
    {
     "data": {
      "image/png": "[encoded data removed]",
      "text/plain": [
       "<matplotlib.figure.Figure at 0x25f06190710>"
      ]
     },
     "metadata": {},
     "output_type": "display_data"
    }
   ],
   "source": [
    "import matplotlib.pyplot as plt\n",
    "fig,ax = plt.subplots()\n",
    "ax.scatter(x_data,y_data)\n",
    "# plt.ion() #plt.ion()用于连续显示\n",
    "for i in range(1000):\n",
    "    sess.run(train_step,feed_dict={xs:x_data,ys:y_data})\n",
    "    if i%50==0:\n",
    "        try:\n",
    "            ax.line.remove(lines[0])\n",
    "        except Exception:\n",
    "            pass\n",
    "        prediction_value = sess.run(prediction,feed_dict={xs:x_data})\n",
    "        lines = ax.plot(x_data,prediction_value,'r-',lw=5)\n",
    "#         plt.pause(0.1)\n",
    "plt.show()"
   ]
  }
 ],
 "metadata": {
  "kernelspec": {
   "display_name": "Python 3",
   "language": "python",
   "name": "python3"
  },
  "language_info": {
   "codemirror_mode": {
    "name": "ipython",
    "version": 3
   },
   "file_extension": ".py",
   "mimetype": "text/x-python",
   "name": "python",
   "nbconvert_exporter": "python",
   "pygments_lexer": "ipython3",
   "version": "3.6.3"
  }
 },
 "nbformat": 4,
 "nbformat_minor": 2
}
