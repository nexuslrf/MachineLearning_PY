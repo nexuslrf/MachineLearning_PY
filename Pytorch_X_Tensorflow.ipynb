{
  "nbformat": 4,
  "nbformat_minor": 0,
  "metadata": {
    "colab": {
      "name": "Pytorch_X_Tensorflow.ipynb",
      "version": "0.3.2",
      "provenance": [],
      "include_colab_link": true
    },
    "kernelspec": {
      "name": "python3",
      "display_name": "Python 3"
    },
    "accelerator": "GPU"
  },
  "cells": [
    {
      "cell_type": "markdown",
      "metadata": {
        "id": "view-in-github",
        "colab_type": "text"
      },
      "source": [
        "<a href=\"https://colab.research.google.com/github/nexuslrf/MachineLearning_PY/blob/master/Pytorch_X_Tensorflow.ipynb\" target=\"_parent\"><img src=\"https://colab.research.google.com/assets/colab-badge.svg\" alt=\"Open In Colab\"/></a>"
      ]
    },
    {
      "cell_type": "markdown",
      "metadata": {
        "id": "SWlbRAfiDMxw",
        "colab_type": "text"
      },
      "source": [
        "# Pytorch X Tensorflow"
      ]
    },
    {
      "cell_type": "code",
      "metadata": {
        "id": "QFjfZv3eC3Hs",
        "colab_type": "code",
        "colab": {
          "base_uri": "https://localhost:8080/",
          "height": 377
        },
        "outputId": "99161b9a-0331-4085-85bd-68938aac5d98"
      },
      "source": [
        "!pip install tensorflow-gpu==2.0.0-beta1"
      ],
      "execution_count": 1,
      "outputs": [
        {
          "output_type": "stream",
          "text": [
            "Requirement already satisfied: tensorflow-gpu==2.0.0-beta1 in /usr/local/lib/python3.6/dist-packages (2.0.0b1)\n",
            "Requirement already satisfied: protobuf>=3.6.1 in /usr/local/lib/python3.6/dist-packages (from tensorflow-gpu==2.0.0-beta1) (3.7.1)\n",
            "Requirement already satisfied: tb-nightly<1.14.0a20190604,>=1.14.0a20190603 in /usr/local/lib/python3.6/dist-packages (from tensorflow-gpu==2.0.0-beta1) (1.14.0a20190603)\n",
            "Requirement already satisfied: wrapt>=1.11.1 in /usr/local/lib/python3.6/dist-packages (from tensorflow-gpu==2.0.0-beta1) (1.11.2)\n",
            "Requirement already satisfied: grpcio>=1.8.6 in /usr/local/lib/python3.6/dist-packages (from tensorflow-gpu==2.0.0-beta1) (1.15.0)\n",
            "Requirement already satisfied: wheel>=0.26 in /usr/local/lib/python3.6/dist-packages (from tensorflow-gpu==2.0.0-beta1) (0.33.4)\n",
            "Requirement already satisfied: tf-estimator-nightly<1.14.0.dev2019060502,>=1.14.0.dev2019060501 in /usr/local/lib/python3.6/dist-packages (from tensorflow-gpu==2.0.0-beta1) (1.14.0.dev2019060501)\n",
            "Requirement already satisfied: absl-py>=0.7.0 in /usr/local/lib/python3.6/dist-packages (from tensorflow-gpu==2.0.0-beta1) (0.7.1)\n",
            "Requirement already satisfied: gast>=0.2.0 in /usr/local/lib/python3.6/dist-packages (from tensorflow-gpu==2.0.0-beta1) (0.2.2)\n",
            "Requirement already satisfied: termcolor>=1.1.0 in /usr/local/lib/python3.6/dist-packages (from tensorflow-gpu==2.0.0-beta1) (1.1.0)\n",
            "Requirement already satisfied: keras-preprocessing>=1.0.5 in /usr/local/lib/python3.6/dist-packages (from tensorflow-gpu==2.0.0-beta1) (1.1.0)\n",
            "Requirement already satisfied: keras-applications>=1.0.6 in /usr/local/lib/python3.6/dist-packages (from tensorflow-gpu==2.0.0-beta1) (1.0.8)\n",
            "Requirement already satisfied: google-pasta>=0.1.6 in /usr/local/lib/python3.6/dist-packages (from tensorflow-gpu==2.0.0-beta1) (0.1.7)\n",
            "Requirement already satisfied: numpy<2.0,>=1.14.5 in /usr/local/lib/python3.6/dist-packages (from tensorflow-gpu==2.0.0-beta1) (1.16.4)\n",
            "Requirement already satisfied: six>=1.10.0 in /usr/local/lib/python3.6/dist-packages (from tensorflow-gpu==2.0.0-beta1) (1.12.0)\n",
            "Requirement already satisfied: astor>=0.6.0 in /usr/local/lib/python3.6/dist-packages (from tensorflow-gpu==2.0.0-beta1) (0.8.0)\n",
            "Requirement already satisfied: setuptools in /usr/local/lib/python3.6/dist-packages (from protobuf>=3.6.1->tensorflow-gpu==2.0.0-beta1) (41.0.1)\n",
            "Requirement already satisfied: markdown>=2.6.8 in /usr/local/lib/python3.6/dist-packages (from tb-nightly<1.14.0a20190604,>=1.14.0a20190603->tensorflow-gpu==2.0.0-beta1) (3.1.1)\n",
            "Requirement already satisfied: werkzeug>=0.11.15 in /usr/local/lib/python3.6/dist-packages (from tb-nightly<1.14.0a20190604,>=1.14.0a20190603->tensorflow-gpu==2.0.0-beta1) (0.15.5)\n",
            "Requirement already satisfied: h5py in /usr/local/lib/python3.6/dist-packages (from keras-applications>=1.0.6->tensorflow-gpu==2.0.0-beta1) (2.8.0)\n"
          ],
          "name": "stdout"
        }
      ]
    },
    {
      "cell_type": "code",
      "metadata": {
        "id": "kmOQhkqaDs43",
        "colab_type": "code",
        "colab": {
          "base_uri": "https://localhost:8080/",
          "height": 306
        },
        "outputId": "110b9fa5-a9bb-4088-e33f-b2885a2b5888"
      },
      "source": [
        "!nvidia-smi"
      ],
      "execution_count": 2,
      "outputs": [
        {
          "output_type": "stream",
          "text": [
            "Sat Aug  3 06:26:01 2019       \n",
            "+-----------------------------------------------------------------------------+\n",
            "| NVIDIA-SMI 418.67       Driver Version: 410.79       CUDA Version: 10.0     |\n",
            "|-------------------------------+----------------------+----------------------+\n",
            "| GPU  Name        Persistence-M| Bus-Id        Disp.A | Volatile Uncorr. ECC |\n",
            "| Fan  Temp  Perf  Pwr:Usage/Cap|         Memory-Usage | GPU-Util  Compute M. |\n",
            "|===============================+======================+======================|\n",
            "|   0  Tesla T4            Off  | 00000000:00:04.0 Off |                    0 |\n",
            "| N/A   62C    P8    17W /  70W |      0MiB / 15079MiB |      0%      Default |\n",
            "+-------------------------------+----------------------+----------------------+\n",
            "                                                                               \n",
            "+-----------------------------------------------------------------------------+\n",
            "| Processes:                                                       GPU Memory |\n",
            "|  GPU       PID   Type   Process name                             Usage      |\n",
            "|=============================================================================|\n",
            "|  No running processes found                                                 |\n",
            "+-----------------------------------------------------------------------------+\n"
          ],
          "name": "stdout"
        }
      ]
    },
    {
      "cell_type": "code",
      "metadata": {
        "id": "KMSnxn91ECFp",
        "colab_type": "code",
        "colab": {}
      },
      "source": [
        "import tensorflow as tf\n",
        "import torch\n",
        "import numpy as np"
      ],
      "execution_count": 0,
      "outputs": []
    },
    {
      "cell_type": "markdown",
      "metadata": {
        "id": "geaKwhVhKHr5",
        "colab_type": "text"
      },
      "source": [
        "## Toy Examples:\n",
        "\n",
        "$y = (3x)^2+2\\times(3x)$\n",
        "\n",
        "->  $y=z^2 +2z; z= 3x$\n",
        "\n",
        "-> $\\frac{\\partial y}{\\partial z} = 2z + 2; \\frac{\\partial y}{\\partial x} = \\frac{\\partial y}{\\partial z} \\frac{\\partial z}{\\partial x} =3\\times(2z+2)$ "
      ]
    },
    {
      "cell_type": "markdown",
      "metadata": {
        "id": "52hhEds6LqLS",
        "colab_type": "text"
      },
      "source": [
        "### Pytorch"
      ]
    },
    {
      "cell_type": "code",
      "metadata": {
        "id": "DAuXjtlzKDOb",
        "colab_type": "code",
        "colab": {}
      },
      "source": [
        "a = torch.tensor(3.,requires_grad=True)\n",
        "b = torch.tensor(2.,requires_grad=True)"
      ],
      "execution_count": 0,
      "outputs": []
    },
    {
      "cell_type": "code",
      "metadata": {
        "id": "CSPp77BZKDKE",
        "colab_type": "code",
        "colab": {}
      },
      "source": [
        "torch_layer1 = lambda x: a*x\n",
        "torch_layer2 = lambda z: z**2+b*z"
      ],
      "execution_count": 0,
      "outputs": []
    },
    {
      "cell_type": "code",
      "metadata": {
        "id": "i0F2YXRhKDGr",
        "colab_type": "code",
        "colab": {}
      },
      "source": [
        "x = torch.tensor(4.,requires_grad=True)\n",
        "z = torch_layer1(x)\n",
        "y = torch_layer2(z)"
      ],
      "execution_count": 0,
      "outputs": []
    },
    {
      "cell_type": "code",
      "metadata": {
        "id": "JCpy8QExKDDz",
        "colab_type": "code",
        "colab": {}
      },
      "source": [
        "y.backward()"
      ],
      "execution_count": 0,
      "outputs": []
    },
    {
      "cell_type": "code",
      "metadata": {
        "id": "Y49Kf4wKKDA_",
        "colab_type": "code",
        "colab": {
          "base_uri": "https://localhost:8080/",
          "height": 34
        },
        "outputId": "23e79f97-dbda-4cb3-fc92-549546a83079"
      },
      "source": [
        "x.grad"
      ],
      "execution_count": 20,
      "outputs": [
        {
          "output_type": "execute_result",
          "data": {
            "text/plain": [
              "tensor(78.)"
            ]
          },
          "metadata": {
            "tags": []
          },
          "execution_count": 20
        }
      ]
    },
    {
      "cell_type": "markdown",
      "metadata": {
        "id": "hEpnFwhLW1a3",
        "colab_type": "text"
      },
      "source": [
        "### Tensorflow"
      ]
    },
    {
      "cell_type": "code",
      "metadata": {
        "id": "8kzVpDtORN7m",
        "colab_type": "code",
        "colab": {}
      },
      "source": [
        "a = tf.Variable(3.0)\n",
        "b = tf.Variable(2.0)"
      ],
      "execution_count": 0,
      "outputs": []
    },
    {
      "cell_type": "code",
      "metadata": {
        "id": "9VyU7bzwRN4_",
        "colab_type": "code",
        "colab": {}
      },
      "source": [
        "x = tf.Variable(4.0)"
      ],
      "execution_count": 0,
      "outputs": []
    },
    {
      "cell_type": "code",
      "metadata": {
        "id": "7Y8eqMJGRN2f",
        "colab_type": "code",
        "colab": {}
      },
      "source": [
        "with tf.GradientTape() as tape:\n",
        "  z = a * x\n",
        "  y = z**2 + b*z\n",
        "grad = tape.gradient(y, [x,z])"
      ],
      "execution_count": 0,
      "outputs": []
    },
    {
      "cell_type": "code",
      "metadata": {
        "id": "anusztwCRNyv",
        "colab_type": "code",
        "colab": {
          "base_uri": "https://localhost:8080/",
          "height": 51
        },
        "outputId": "65cf8433-2229-4d75-dbe3-9b877421adf2"
      },
      "source": [
        "grad"
      ],
      "execution_count": 71,
      "outputs": [
        {
          "output_type": "execute_result",
          "data": {
            "text/plain": [
              "[<tf.Tensor: id=230, shape=(), dtype=float32, numpy=78.0>,\n",
              " <tf.Tensor: id=228, shape=(), dtype=float32, numpy=26.0>]"
            ]
          },
          "metadata": {
            "tags": []
          },
          "execution_count": 71
        }
      ]
    },
    {
      "cell_type": "markdown",
      "metadata": {
        "id": "agwbDsOUaXlK",
        "colab_type": "text"
      },
      "source": [
        "### Pytorch X Tensorflow"
      ]
    },
    {
      "cell_type": "markdown",
      "metadata": {
        "id": "fkDtt969eMGB",
        "colab_type": "text"
      },
      "source": [
        "#### TF after torch"
      ]
    },
    {
      "cell_type": "code",
      "metadata": {
        "id": "jUguXlqoZ0Bo",
        "colab_type": "code",
        "colab": {}
      },
      "source": [
        "a = torch.tensor(3.,requires_grad=True)\n",
        "b = tf.Variable(2.0)"
      ],
      "execution_count": 0,
      "outputs": []
    },
    {
      "cell_type": "code",
      "metadata": {
        "id": "1jPp6onrZz94",
        "colab_type": "code",
        "colab": {}
      },
      "source": [
        "x = torch.tensor(4.,requires_grad=True)"
      ],
      "execution_count": 0,
      "outputs": []
    },
    {
      "cell_type": "code",
      "metadata": {
        "id": "HeUKir05Zz6y",
        "colab_type": "code",
        "colab": {}
      },
      "source": [
        "z = a * x"
      ],
      "execution_count": 0,
      "outputs": []
    },
    {
      "cell_type": "code",
      "metadata": {
        "id": "7pxDd1DOa1xq",
        "colab_type": "code",
        "colab": {}
      },
      "source": [
        "z_in = tf.Variable(z.data.numpy())"
      ],
      "execution_count": 0,
      "outputs": []
    },
    {
      "cell_type": "code",
      "metadata": {
        "id": "D4PVswDuZz3s",
        "colab_type": "code",
        "colab": {}
      },
      "source": [
        "with tf.GradientTape() as tape:\n",
        "  y = z_in**2 + b*z_in\n",
        "z_grad = tape.gradient(y,z_in)"
      ],
      "execution_count": 0,
      "outputs": []
    },
    {
      "cell_type": "code",
      "metadata": {
        "id": "CmvwLu62Zz0y",
        "colab_type": "code",
        "colab": {
          "base_uri": "https://localhost:8080/",
          "height": 34
        },
        "outputId": "d062363d-755f-4548-9eda-22ccb586868d"
      },
      "source": [
        "z_grad"
      ],
      "execution_count": 81,
      "outputs": [
        {
          "output_type": "execute_result",
          "data": {
            "text/plain": [
              "<tf.Tensor: id=294, shape=(), dtype=float32, numpy=26.0>"
            ]
          },
          "metadata": {
            "tags": []
          },
          "execution_count": 81
        }
      ]
    },
    {
      "cell_type": "code",
      "metadata": {
        "id": "XJcQv2KBZzxo",
        "colab_type": "code",
        "colab": {}
      },
      "source": [
        "z.backward(torch.tensor(z_grad.numpy()))"
      ],
      "execution_count": 0,
      "outputs": []
    },
    {
      "cell_type": "code",
      "metadata": {
        "id": "yMdWcuvjZzuy",
        "colab_type": "code",
        "colab": {
          "base_uri": "https://localhost:8080/",
          "height": 34
        },
        "outputId": "f81aac96-ba33-4117-b7b8-f7078e76da7f"
      },
      "source": [
        "x.grad"
      ],
      "execution_count": 84,
      "outputs": [
        {
          "output_type": "execute_result",
          "data": {
            "text/plain": [
              "tensor(78.)"
            ]
          },
          "metadata": {
            "tags": []
          },
          "execution_count": 84
        }
      ]
    },
    {
      "cell_type": "markdown",
      "metadata": {
        "id": "_ELprb5oebeE",
        "colab_type": "text"
      },
      "source": [
        "#### torch before TF"
      ]
    },
    {
      "cell_type": "code",
      "metadata": {
        "id": "OHWuIa4vZzor",
        "colab_type": "code",
        "colab": {}
      },
      "source": [
        "a = tf.Variable(3.0)\n",
        "b = torch.tensor(2.,requires_grad=True)"
      ],
      "execution_count": 0,
      "outputs": []
    },
    {
      "cell_type": "code",
      "metadata": {
        "id": "I6ySsIZgZzlx",
        "colab_type": "code",
        "colab": {}
      },
      "source": [
        "x = tf.Variable(4.)"
      ],
      "execution_count": 0,
      "outputs": []
    },
    {
      "cell_type": "code",
      "metadata": {
        "id": "S53oLBhyZzix",
        "colab_type": "code",
        "colab": {}
      },
      "source": [
        "with tf.GradientTape() as tape:\n",
        "  z = 3*x"
      ],
      "execution_count": 0,
      "outputs": []
    },
    {
      "cell_type": "code",
      "metadata": {
        "id": "Jvte3Dz9Zzfi",
        "colab_type": "code",
        "colab": {}
      },
      "source": [
        "z_in = torch.tensor(z.numpy(), requires_grad=True)"
      ],
      "execution_count": 0,
      "outputs": []
    },
    {
      "cell_type": "code",
      "metadata": {
        "id": "1JE9vUGyZzcg",
        "colab_type": "code",
        "colab": {}
      },
      "source": [
        "y = z_in**2 + b*z_in"
      ],
      "execution_count": 0,
      "outputs": []
    },
    {
      "cell_type": "code",
      "metadata": {
        "id": "4Yr7Fpl9c-M_",
        "colab_type": "code",
        "colab": {
          "base_uri": "https://localhost:8080/",
          "height": 34
        },
        "outputId": "6eb8f1f9-a846-49d0-9790-b3f0c1c66edb"
      },
      "source": [
        "y.backward()\n",
        "z_grad = z_in.grad.numpy()\n",
        "z_grad"
      ],
      "execution_count": 100,
      "outputs": [
        {
          "output_type": "execute_result",
          "data": {
            "text/plain": [
              "array(26., dtype=float32)"
            ]
          },
          "metadata": {
            "tags": []
          },
          "execution_count": 100
        }
      ]
    },
    {
      "cell_type": "code",
      "metadata": {
        "id": "Yt13sWkNc-IG",
        "colab_type": "code",
        "colab": {}
      },
      "source": [
        "x_grad = tape.gradient(z,x,z_grad)"
      ],
      "execution_count": 0,
      "outputs": []
    },
    {
      "cell_type": "code",
      "metadata": {
        "id": "aI1imZKKc9pA",
        "colab_type": "code",
        "colab": {
          "base_uri": "https://localhost:8080/",
          "height": 34
        },
        "outputId": "e85ac89c-56bc-4d37-ad55-67b08c947312"
      },
      "source": [
        "x_grad"
      ],
      "execution_count": 102,
      "outputs": [
        {
          "output_type": "execute_result",
          "data": {
            "text/plain": [
              "<tf.Tensor: id=340, shape=(), dtype=float32, numpy=78.0>"
            ]
          },
          "metadata": {
            "tags": []
          },
          "execution_count": 102
        }
      ]
    },
    {
      "cell_type": "code",
      "metadata": {
        "id": "rGqUEFMseom0",
        "colab_type": "code",
        "colab": {}
      },
      "source": [
        ""
      ],
      "execution_count": 0,
      "outputs": []
    },
    {
      "cell_type": "code",
      "metadata": {
        "id": "7pAgQ5uneohc",
        "colab_type": "code",
        "colab": {}
      },
      "source": [
        ""
      ],
      "execution_count": 0,
      "outputs": []
    },
    {
      "cell_type": "code",
      "metadata": {
        "id": "a1Aa79yyeoeE",
        "colab_type": "code",
        "colab": {}
      },
      "source": [
        ""
      ],
      "execution_count": 0,
      "outputs": []
    },
    {
      "cell_type": "code",
      "metadata": {
        "id": "w6Nz5sF5eoa9",
        "colab_type": "code",
        "colab": {}
      },
      "source": [
        ""
      ],
      "execution_count": 0,
      "outputs": []
    },
    {
      "cell_type": "code",
      "metadata": {
        "id": "bEkFVXv0eoXP",
        "colab_type": "code",
        "colab": {}
      },
      "source": [
        ""
      ],
      "execution_count": 0,
      "outputs": []
    },
    {
      "cell_type": "code",
      "metadata": {
        "id": "8or89ivVen_i",
        "colab_type": "code",
        "colab": {}
      },
      "source": [
        ""
      ],
      "execution_count": 0,
      "outputs": []
    },
    {
      "cell_type": "markdown",
      "metadata": {
        "id": "8Sw2gyUBcR_j",
        "colab_type": "text"
      },
      "source": [
        "## Other Tests\n",
        "\n",
        "Just ignore~"
      ]
    },
    {
      "cell_type": "code",
      "metadata": {
        "id": "HodGFN2GOvpq",
        "colab_type": "code",
        "colab": {}
      },
      "source": [
        "class torch_layer1x(torch.nn.Module):\n",
        "  def __init__(self):\n",
        "    super(torch_layer1x, self).__init__()\n",
        "    self.a = torch.nn.Parameter(torch.tensor(3.), requires_grad=True)\n",
        "  \n",
        "  def forward(self, x):\n",
        "    return self.a * x\n",
        "\n",
        "class torch_layer2x(torch.nn.Module):\n",
        "  def __init__(self):\n",
        "    super(torch_layer2x, self).__init__()\n",
        "    self.b = torch.nn.Parameter(torch.tensor(2.), requires_grad=True)\n",
        "  \n",
        "  def forward(self, x):\n",
        "    return x**2 + self.b * x"
      ],
      "execution_count": 0,
      "outputs": []
    },
    {
      "cell_type": "code",
      "metadata": {
        "id": "Nc8G33MRPr_S",
        "colab_type": "code",
        "colab": {}
      },
      "source": [
        "torch_model = torch.nn.Sequential(\n",
        "    torch_layer1x(),\n",
        "    torch_layer2x()\n",
        ")"
      ],
      "execution_count": 0,
      "outputs": []
    },
    {
      "cell_type": "code",
      "metadata": {
        "id": "5YZU2f58KC-Z",
        "colab_type": "code",
        "colab": {}
      },
      "source": [
        "x = torch.tensor(4.,requires_grad=True)\n",
        "y = torch_model(x)"
      ],
      "execution_count": 0,
      "outputs": []
    },
    {
      "cell_type": "code",
      "metadata": {
        "id": "oW4N2zoIKC7e",
        "colab_type": "code",
        "colab": {}
      },
      "source": [
        "y.backward()"
      ],
      "execution_count": 0,
      "outputs": []
    },
    {
      "cell_type": "code",
      "metadata": {
        "id": "JzVYFGU9KC4S",
        "colab_type": "code",
        "colab": {
          "base_uri": "https://localhost:8080/",
          "height": 34
        },
        "outputId": "0b0ea0f3-7ef5-4a78-a574-33eb7d9ac31b"
      },
      "source": [
        "x.grad"
      ],
      "execution_count": 38,
      "outputs": [
        {
          "output_type": "execute_result",
          "data": {
            "text/plain": [
              "tensor(78.)"
            ]
          },
          "metadata": {
            "tags": []
          },
          "execution_count": 38
        }
      ]
    },
    {
      "cell_type": "code",
      "metadata": {
        "id": "u7fw1tAYKC1R",
        "colab_type": "code",
        "colab": {
          "base_uri": "https://localhost:8080/",
          "height": 34
        },
        "outputId": "47efbf4b-4e34-4624-893d-eae99e68e9c0"
      },
      "source": [
        "torch_model[1]"
      ],
      "execution_count": 40,
      "outputs": [
        {
          "output_type": "execute_result",
          "data": {
            "text/plain": [
              "torch_layer2x()"
            ]
          },
          "metadata": {
            "tags": []
          },
          "execution_count": 40
        }
      ]
    },
    {
      "cell_type": "code",
      "metadata": {
        "id": "Er0AhAVSROD9",
        "colab_type": "code",
        "colab": {
          "base_uri": "https://localhost:8080/",
          "height": 34
        },
        "outputId": "182186ef-e029-4492-ec9a-b956c79cbabf"
      },
      "source": [
        "# def hook_backward(module, grad_input, grad_output):\n",
        "#     print(grad_input)\n",
        "#     print(grad_output)\n",
        "    \n",
        "# def hook_forward(module, input, output):\n",
        "#     print(input)\n",
        "#     print(output)\n",
        "\n",
        "# torch_model[0].register_forward_hook(hook_forward)\n",
        "# torch_model[0].register_backward_hook(hook_backward)\n",
        "# torch_model[1].register_forward_hook(hook_forward)\n",
        "# torch_model[1].register_backward_hook(hook_backward)"
      ],
      "execution_count": 46,
      "outputs": [
        {
          "output_type": "execute_result",
          "data": {
            "text/plain": [
              "<torch.utils.hooks.RemovableHandle at 0x7f8aca3c3160>"
            ]
          },
          "metadata": {
            "tags": []
          },
          "execution_count": 46
        }
      ]
    },
    {
      "cell_type": "code",
      "metadata": {
        "id": "OuxrxFw3ROBZ",
        "colab_type": "code",
        "colab": {
          "base_uri": "https://localhost:8080/",
          "height": 119
        },
        "outputId": "6c1dfde3-54b4-4228-f65a-186cb8f78ca2"
      },
      "source": [
        "x = torch.tensor(4.,requires_grad=False)\n",
        "y = torch_model(x)"
      ],
      "execution_count": 49,
      "outputs": [
        {
          "output_type": "stream",
          "text": [
            "(tensor(4.),)\n",
            "tensor(12., grad_fn=<MulBackward0>)\n",
            "(tensor(12., grad_fn=<MulBackward0>),)\n",
            "tensor(168., grad_fn=<AddBackward0>)\n",
            "(tensor(12., grad_fn=<MulBackward0>),)\n",
            "tensor(168., grad_fn=<AddBackward0>)\n"
          ],
          "name": "stdout"
        }
      ]
    },
    {
      "cell_type": "code",
      "metadata": {
        "id": "KN0jZECbRN-E",
        "colab_type": "code",
        "colab": {
          "base_uri": "https://localhost:8080/",
          "height": 119
        },
        "outputId": "8f1e49e5-f615-4c2f-f3ea-f7ec6a7a5e68"
      },
      "source": [
        "y.backward()"
      ],
      "execution_count": 50,
      "outputs": [
        {
          "output_type": "stream",
          "text": [
            "(tensor(1.), tensor(1.))\n",
            "(tensor(1.),)\n",
            "(tensor(1.), tensor(1.))\n",
            "(tensor(1.),)\n",
            "(tensor(104.), None)\n",
            "(tensor(26.),)\n"
          ],
          "name": "stdout"
        }
      ]
    },
    {
      "cell_type": "code",
      "metadata": {
        "id": "d8kIDhWaEI0C",
        "colab_type": "code",
        "colab": {}
      },
      "source": [
        "# Data\n",
        "X = np.random.rand(6000,2) * 10 -5\n",
        "y = 3 * X[:,0]**2 + 5*X[:,1] "
      ],
      "execution_count": 0,
      "outputs": []
    },
    {
      "cell_type": "code",
      "metadata": {
        "id": "vJdqlx82EMjk",
        "colab_type": "code",
        "colab": {}
      },
      "source": [
        "tf_layer = tf.keras.layers.Dense(32, activation='relu')\n",
        "torch_layer = torch.nn.Linear(32, 1)"
      ],
      "execution_count": 0,
      "outputs": []
    },
    {
      "cell_type": "code",
      "metadata": {
        "id": "__Sho5qPFF4H",
        "colab_type": "code",
        "colab": {}
      },
      "source": [
        "Z = tf_layer(X)"
      ],
      "execution_count": 0,
      "outputs": []
    },
    {
      "cell_type": "code",
      "metadata": {
        "id": "184XtzKkGTLP",
        "colab_type": "code",
        "colab": {
          "base_uri": "https://localhost:8080/",
          "height": 34
        },
        "outputId": "761e97b9-d23a-42d7-e553-19cb9859124a"
      },
      "source": [
        "Z_in = Z.numpy()\n",
        "Z_in.shape"
      ],
      "execution_count": 21,
      "outputs": [
        {
          "output_type": "execute_result",
          "data": {
            "text/plain": [
              "(6000, 32)"
            ]
          },
          "metadata": {
            "tags": []
          },
          "execution_count": 21
        }
      ]
    },
    {
      "cell_type": "code",
      "metadata": {
        "id": "AZQuF9hqGYYN",
        "colab_type": "code",
        "colab": {
          "base_uri": "https://localhost:8080/",
          "height": 136
        },
        "outputId": "8e99ba1f-1d3b-4823-c806-c64798f094d0"
      },
      "source": [
        "y_out = torch_layer(torch.Tensor(Z_in))"
      ],
      "execution_count": 23,
      "outputs": [
        {
          "output_type": "execute_result",
          "data": {
            "text/plain": [
              "tensor([[ 0.0774],\n",
              "        [-0.2586],\n",
              "        [ 0.0538],\n",
              "        ...,\n",
              "        [ 0.1145],\n",
              "        [-0.1795],\n",
              "        [ 0.0767]], grad_fn=<AddmmBackward>)"
            ]
          },
          "metadata": {
            "tags": []
          },
          "execution_count": 23
        }
      ]
    }
  ]
}